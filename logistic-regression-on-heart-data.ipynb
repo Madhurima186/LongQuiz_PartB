{
  "metadata": {
    "kernelspec": {
      "language": "python",
      "display_name": "Python 3",
      "name": "python3"
    },
    "language_info": {
      "name": "python",
      "version": "3.7.10",
      "mimetype": "text/x-python",
      "codemirror_mode": {
        "name": "ipython",
        "version": 3
      },
      "pygments_lexer": "ipython3",
      "nbconvert_exporter": "python",
      "file_extension": ".py"
    },
    "kaggle": {
      "accelerator": "none",
      "dataSources": [
        {
          "sourceId": 3264271,
          "sourceType": "datasetVersion",
          "datasetId": 1977473
        }
      ],
      "dockerImageVersionId": 30120,
      "isInternetEnabled": true,
      "language": "python",
      "sourceType": "notebook",
      "isGpuEnabled": false
    },
    "colab": {
      "provenance": []
    }
  },
  "nbformat_minor": 0,
  "nbformat": 4,
  "cells": [
    {
      "cell_type": "markdown",
      "source": [
        "![](https://healthmatters.nyp.org/wp-content/uploads/2020/01/heart-health-tips-article-animation-1200x500.gif)"
      ],
      "metadata": {
        "id": "njqmtNSI9FK2"
      }
    },
    {
      "cell_type": "markdown",
      "source": [
        "# Table of Content\n",
        "<hr style=\"height: 5px\">"
      ],
      "metadata": {
        "id": "W7hJr6Gr9FK5"
      }
    },
    {
      "cell_type": "markdown",
      "source": [
        "# [1. WorkFlow](#wf)\n",
        "\n",
        "# [2. What is Logistic Regression](#lg)\n",
        "\n",
        "# [3. Importing Library](#ib)\n",
        "\n",
        "# [4. Loading Dataset](#ld)\n",
        "\n",
        "# [5. Preprocing Dataset](#pd)\n",
        "\n",
        "# [6. Preparing Dataset](#ppd)\n",
        "\n",
        "# [7. Visualization of Training Data](#vt)\n",
        "\n",
        "# [8. Model Building](#md)\n",
        "\n",
        "# [9. Model Evaluation](#me)\n",
        "\n",
        "# [10. Building Predictive System](#bp)\n",
        "\n",
        "# [11. Conclusion](#c)\n",
        "<hr style=\"height: 5px\">"
      ],
      "metadata": {
        "id": "tgKyQ8-P9FK6"
      }
    },
    {
      "cell_type": "markdown",
      "source": [
        "<a name='wf'></a>\n",
        " # 1. Work Flow"
      ],
      "metadata": {
        "id": "RWr9_Ri_9FK6"
      }
    },
    {
      "cell_type": "markdown",
      "source": [
        "### Heart Data --->  Data Preprocessing ---> Train Test Split ---> Model Fiting ---> Prediction"
      ],
      "metadata": {
        "id": "krtlzFGV9FK7"
      }
    },
    {
      "cell_type": "markdown",
      "source": [
        "<a name='lg'></a>\n",
        "# 2. What is Logistic Regression?"
      ],
      "metadata": {
        "id": "SiQpK0929FK7"
      }
    },
    {
      "cell_type": "markdown",
      "source": [
        "### Logistic regression is a supervised learning classification algorithm used to predict the probability of a target variable.\n",
        "### It is one of the simplest ML algorithms that can be used for various classification problems such as spam detection, Diabetes prediction, cancer detection etc.\n",
        "### Logistic regression predicts the output of a categorical dependent variable. Therefore the outcome must be a categorical or discrete value. It can be either Yes or No, 0 or 1, true or False, etc. but instead of giving the exact value as 0 and 1, it gives the probabilistic values which lie between 0 and 1.\n",
        "### In Logistic regression, instead of fitting a regression line, we fit an \"S\" shaped logistic function, which predicts two maximum values (0 or 1).\n",
        "### The curve from the logistic function indicates the likelihood of something such as whether the cells are cancerous or not, a mouse is obese or not based on its weight, etc.\n",
        "### Logistic Regression is a significant machine learning algorithm because it has the ability to provide probabilities and classify new data using continuous and discrete datasets.\n",
        "\n",
        "### Here is quick comparision between Linear Regreesion  and Logistic Regression\n"
      ],
      "metadata": {
        "id": "IfQazYmz9FK7"
      }
    },
    {
      "cell_type": "markdown",
      "source": [
        " </img>![Logistic%20Regression.jpeg](attachment:Logistic%20Regression.jpeg)"
      ],
      "metadata": {
        "id": "itEwNK3z9FK8"
      }
    },
    {
      "cell_type": "markdown",
      "source": [
        "[Best Article to understand Logistic Regression](https://towardsdatascience.com/logistic-regression-detailed-overview-46c4da4303bc)"
      ],
      "metadata": {
        "id": "b4ST2LyN9FK-"
      }
    },
    {
      "cell_type": "markdown",
      "source": [
        "<a name='ib'></a>\n",
        "# Importing Library"
      ],
      "metadata": {
        "id": "pWd8x3iD9FK-"
      }
    },
    {
      "cell_type": "code",
      "source": [
        "import pandas as pd  #Pandas is used to analyze data\n",
        "import numpy as np   #This library contains a large number of mathematical, algebraic, and transformation functions\n",
        "import matplotlib.pyplot as plt   # Used for Visualization of data\n",
        "import seaborn as sns     #Seaborn is a Python data visualization library based on matplotlib\n",
        "from sklearn.model_selection import train_test_split  # Used for splitting data into train data and test data\n",
        "from sklearn.linear_model import LogisticRegression   # Importing Logistic Regression model\n",
        "from sklearn.metrics import accuracy_score # To Calculate Accuracy classification score\n",
        "#matplotlib inline sets the backend of matplotlib to the 'inline' backend\n",
        "%matplotlib inline"
      ],
      "metadata": {
        "execution": {
          "iopub.status.busy": "2024-02-25T06:24:06.647672Z",
          "iopub.execute_input": "2024-02-25T06:24:06.648031Z",
          "iopub.status.idle": "2024-02-25T06:24:07.742915Z",
          "shell.execute_reply.started": "2024-02-25T06:24:06.647953Z",
          "shell.execute_reply": "2024-02-25T06:24:07.741653Z"
        },
        "trusted": true,
        "id": "wmNYX_1g9FK_"
      },
      "execution_count": null,
      "outputs": []
    },
    {
      "cell_type": "markdown",
      "source": [
        "<a name='ld'></a>\n",
        "#  Loading dataset"
      ],
      "metadata": {
        "id": "QP7Fp0VT9FLA"
      }
    },
    {
      "cell_type": "markdown",
      "source": [
        "About DataSet\n",
        "\n",
        "There are 13 attributes:\n",
        "\n",
        "1. Age: Age in years.\n",
        "2. Sex: Gender (1 = Male, 0 = Female)\n",
        "3. ChestPain: Chest Pain type\n",
        " - 1: typical angina (all criteria present)\n",
        " - 2: atypical angina (two of three criteria satisfied)\n",
        " - 3: non-anginal pain (less than one criteria satisfied)\n",
        " - 4: asymptomatic (none of the criteria are satisfied)\n",
        "4. Restbps: Resting Blood pressure (in mmHg, upon admission to the hospital)\n",
        "5. Chol: serum cholesterol in mg/dL\n",
        "6. Fbs: fasting blood sugar > 120 mg/dL (likely to be diabetic) 1 = true; 0 = false\n",
        "7. RestECG: Resting electrocardiogram results\n",
        " - Value 0: normal\n",
        " - Value 1: having ST-T wave abnormality (T wave inversions and/or ST elevation or depression of > 0.05 mV)\n",
        " - Value 2: showing probable or definite left ventricular hypertrophy by Estes' criteria\n",
        "\n",
        "8. MaxHR: Greatest number of beats per minute your heart can possibly reach during all-out strenuous exercise.\n",
        "\n",
        "9. Exang: exercise induced angina (1 = yes; 0 = no)\n",
        "\n",
        "10. Oldpeak: ST depression induced by exercise relative to rest (in mm, achieved by subtracting the lowest ST segment points during exercise and rest)\n",
        "\n",
        "11. Slope: the slope of the peak exercise ST segment, ST-T abnormalities are considered to be a crucial indicator for identifying presence of ischaemia\n",
        " - Value 1: upsloping\n",
        " - Value 2: flat\n",
        " - Value 3: downsloping\n",
        "\n",
        "12. Ca: number of major vessels (0-3) colored by fluoroscopy. Major cardial vessels are as goes: aorta, superior vena cava, inferior vena cava, pulmonary artery (oxygen-poor blood --> lungs), pulmonary veins (oxygen-rich blood --> heart), and coronary arteries (supplies blood to heart tissue).\n",
        "\n",
        "13. AHD:\n",
        " - 0 = normal\n",
        " - 1 = fixed defect (heart tissue can't absorb thallium both under stress and in rest)\n",
        " - 2 = reversible defect (heart tissue is unable to absorb thallium only under the exercise portion of the test)\n",
        "\n",
        "14. AHD:\n",
        " - 0 = no disease\n",
        " - 1 = disease"
      ],
      "metadata": {
        "id": "1QLZAKWH9FLB"
      }
    },
    {
      "cell_type": "code",
      "source": [
        "# loading dataset which is in csv format using pd.read_csv(filename_with_extension)\n",
        "\n",
        "df=pd.read_csv('../input/heart-disease/heart_disease.csv.txt')"
      ],
      "metadata": {
        "execution": {
          "iopub.status.busy": "2024-02-25T06:24:07.744154Z",
          "iopub.execute_input": "2024-02-25T06:24:07.744404Z",
          "iopub.status.idle": "2024-02-25T06:24:07.760914Z",
          "shell.execute_reply.started": "2024-02-25T06:24:07.744373Z",
          "shell.execute_reply": "2024-02-25T06:24:07.759690Z"
        },
        "trusted": true,
        "id": "nYpK-seS9FLB"
      },
      "execution_count": null,
      "outputs": []
    },
    {
      "cell_type": "code",
      "source": [
        "# Printing number of rows and column using shape\n",
        "\n",
        "df.shape"
      ],
      "metadata": {
        "execution": {
          "iopub.status.busy": "2024-02-25T06:24:07.762393Z",
          "iopub.execute_input": "2024-02-25T06:24:07.762616Z",
          "iopub.status.idle": "2024-02-25T06:24:07.770432Z",
          "shell.execute_reply.started": "2024-02-25T06:24:07.762593Z",
          "shell.execute_reply": "2024-02-25T06:24:07.769554Z"
        },
        "trusted": true,
        "id": "vJHDJ7t39FLC",
        "outputId": "a9432c44-fa2b-416a-8324-baab8714ee37"
      },
      "execution_count": null,
      "outputs": [
        {
          "execution_count": 3,
          "output_type": "execute_result",
          "data": {
            "text/plain": "(303, 14)"
          },
          "metadata": {}
        }
      ]
    },
    {
      "cell_type": "code",
      "source": [
        "#Printing First 5 rows of the dataset using head()\n",
        "\n",
        "df.head()"
      ],
      "metadata": {
        "execution": {
          "iopub.status.busy": "2024-02-25T06:24:07.771819Z",
          "iopub.execute_input": "2024-02-25T06:24:07.772041Z",
          "iopub.status.idle": "2024-02-25T06:24:07.799039Z",
          "shell.execute_reply.started": "2024-02-25T06:24:07.772017Z",
          "shell.execute_reply": "2024-02-25T06:24:07.798231Z"
        },
        "trusted": true,
        "id": "bKtXBq0W9FLD",
        "outputId": "e4295183-75b6-46dd-8cb0-27de17bbefc3"
      },
      "execution_count": null,
      "outputs": [
        {
          "execution_count": 4,
          "output_type": "execute_result",
          "data": {
            "text/plain": "   Age  Sex     ChestPain  RestBP  Chol  Fbs  RestECG  MaxHR  ExAng  Oldpeak  \\\n1   63    1       typical     145   233    1        2    150      0      2.3   \n2   67    1  asymptomatic     160   286    0        2    108      1      1.5   \n3   67    1  asymptomatic     120   229    0        2    129      1      2.6   \n4   37    1    nonanginal     130   250    0        0    187      0      3.5   \n5   41    0    nontypical     130   204    0        2    172      0      1.4   \n\n   Slope   Ca        Thal  AHD  \n1      3  0.0       fixed   No  \n2      2  3.0      normal  Yes  \n3      2  2.0  reversable  Yes  \n4      3  0.0      normal   No  \n5      1  0.0      normal   No  ",
            "text/html": "<div>\n<style scoped>\n    .dataframe tbody tr th:only-of-type {\n        vertical-align: middle;\n    }\n\n    .dataframe tbody tr th {\n        vertical-align: top;\n    }\n\n    .dataframe thead th {\n        text-align: right;\n    }\n</style>\n<table border=\"1\" class=\"dataframe\">\n  <thead>\n    <tr style=\"text-align: right;\">\n      <th></th>\n      <th>Age</th>\n      <th>Sex</th>\n      <th>ChestPain</th>\n      <th>RestBP</th>\n      <th>Chol</th>\n      <th>Fbs</th>\n      <th>RestECG</th>\n      <th>MaxHR</th>\n      <th>ExAng</th>\n      <th>Oldpeak</th>\n      <th>Slope</th>\n      <th>Ca</th>\n      <th>Thal</th>\n      <th>AHD</th>\n    </tr>\n  </thead>\n  <tbody>\n    <tr>\n      <th>1</th>\n      <td>63</td>\n      <td>1</td>\n      <td>typical</td>\n      <td>145</td>\n      <td>233</td>\n      <td>1</td>\n      <td>2</td>\n      <td>150</td>\n      <td>0</td>\n      <td>2.3</td>\n      <td>3</td>\n      <td>0.0</td>\n      <td>fixed</td>\n      <td>No</td>\n    </tr>\n    <tr>\n      <th>2</th>\n      <td>67</td>\n      <td>1</td>\n      <td>asymptomatic</td>\n      <td>160</td>\n      <td>286</td>\n      <td>0</td>\n      <td>2</td>\n      <td>108</td>\n      <td>1</td>\n      <td>1.5</td>\n      <td>2</td>\n      <td>3.0</td>\n      <td>normal</td>\n      <td>Yes</td>\n    </tr>\n    <tr>\n      <th>3</th>\n      <td>67</td>\n      <td>1</td>\n      <td>asymptomatic</td>\n      <td>120</td>\n      <td>229</td>\n      <td>0</td>\n      <td>2</td>\n      <td>129</td>\n      <td>1</td>\n      <td>2.6</td>\n      <td>2</td>\n      <td>2.0</td>\n      <td>reversable</td>\n      <td>Yes</td>\n    </tr>\n    <tr>\n      <th>4</th>\n      <td>37</td>\n      <td>1</td>\n      <td>nonanginal</td>\n      <td>130</td>\n      <td>250</td>\n      <td>0</td>\n      <td>0</td>\n      <td>187</td>\n      <td>0</td>\n      <td>3.5</td>\n      <td>3</td>\n      <td>0.0</td>\n      <td>normal</td>\n      <td>No</td>\n    </tr>\n    <tr>\n      <th>5</th>\n      <td>41</td>\n      <td>0</td>\n      <td>nontypical</td>\n      <td>130</td>\n      <td>204</td>\n      <td>0</td>\n      <td>2</td>\n      <td>172</td>\n      <td>0</td>\n      <td>1.4</td>\n      <td>1</td>\n      <td>0.0</td>\n      <td>normal</td>\n      <td>No</td>\n    </tr>\n  </tbody>\n</table>\n</div>"
          },
          "metadata": {}
        }
      ]
    },
    {
      "cell_type": "code",
      "source": [
        "#Printing Last 5 rows of the dataset using tail()\n",
        "\n",
        "df.tail()"
      ],
      "metadata": {
        "execution": {
          "iopub.status.busy": "2024-02-25T06:24:07.800170Z",
          "iopub.execute_input": "2024-02-25T06:24:07.800411Z",
          "iopub.status.idle": "2024-02-25T06:24:07.815809Z",
          "shell.execute_reply.started": "2024-02-25T06:24:07.800386Z",
          "shell.execute_reply": "2024-02-25T06:24:07.814898Z"
        },
        "trusted": true,
        "id": "SUKVxA1Q9FLE",
        "outputId": "be5c6408-8346-4753-9c61-26018fedcf1e"
      },
      "execution_count": null,
      "outputs": [
        {
          "execution_count": 5,
          "output_type": "execute_result",
          "data": {
            "text/plain": "     Age  Sex     ChestPain  RestBP  Chol  Fbs  RestECG  MaxHR  ExAng  \\\n299   45    1       typical     110   264    0        0    132      0   \n300   68    1  asymptomatic     144   193    1        0    141      0   \n301   57    1  asymptomatic     130   131    0        0    115      1   \n302   57    0    nontypical     130   236    0        2    174      0   \n303   38    1    nonanginal     138   175    0        0    173      0   \n\n     Oldpeak  Slope   Ca        Thal  AHD  \n299      1.2      2  0.0  reversable  Yes  \n300      3.4      2  2.0  reversable  Yes  \n301      1.2      2  1.0  reversable  Yes  \n302      0.0      2  1.0      normal  Yes  \n303      0.0      1  NaN      normal   No  ",
            "text/html": "<div>\n<style scoped>\n    .dataframe tbody tr th:only-of-type {\n        vertical-align: middle;\n    }\n\n    .dataframe tbody tr th {\n        vertical-align: top;\n    }\n\n    .dataframe thead th {\n        text-align: right;\n    }\n</style>\n<table border=\"1\" class=\"dataframe\">\n  <thead>\n    <tr style=\"text-align: right;\">\n      <th></th>\n      <th>Age</th>\n      <th>Sex</th>\n      <th>ChestPain</th>\n      <th>RestBP</th>\n      <th>Chol</th>\n      <th>Fbs</th>\n      <th>RestECG</th>\n      <th>MaxHR</th>\n      <th>ExAng</th>\n      <th>Oldpeak</th>\n      <th>Slope</th>\n      <th>Ca</th>\n      <th>Thal</th>\n      <th>AHD</th>\n    </tr>\n  </thead>\n  <tbody>\n    <tr>\n      <th>299</th>\n      <td>45</td>\n      <td>1</td>\n      <td>typical</td>\n      <td>110</td>\n      <td>264</td>\n      <td>0</td>\n      <td>0</td>\n      <td>132</td>\n      <td>0</td>\n      <td>1.2</td>\n      <td>2</td>\n      <td>0.0</td>\n      <td>reversable</td>\n      <td>Yes</td>\n    </tr>\n    <tr>\n      <th>300</th>\n      <td>68</td>\n      <td>1</td>\n      <td>asymptomatic</td>\n      <td>144</td>\n      <td>193</td>\n      <td>1</td>\n      <td>0</td>\n      <td>141</td>\n      <td>0</td>\n      <td>3.4</td>\n      <td>2</td>\n      <td>2.0</td>\n      <td>reversable</td>\n      <td>Yes</td>\n    </tr>\n    <tr>\n      <th>301</th>\n      <td>57</td>\n      <td>1</td>\n      <td>asymptomatic</td>\n      <td>130</td>\n      <td>131</td>\n      <td>0</td>\n      <td>0</td>\n      <td>115</td>\n      <td>1</td>\n      <td>1.2</td>\n      <td>2</td>\n      <td>1.0</td>\n      <td>reversable</td>\n      <td>Yes</td>\n    </tr>\n    <tr>\n      <th>302</th>\n      <td>57</td>\n      <td>0</td>\n      <td>nontypical</td>\n      <td>130</td>\n      <td>236</td>\n      <td>0</td>\n      <td>2</td>\n      <td>174</td>\n      <td>0</td>\n      <td>0.0</td>\n      <td>2</td>\n      <td>1.0</td>\n      <td>normal</td>\n      <td>Yes</td>\n    </tr>\n    <tr>\n      <th>303</th>\n      <td>38</td>\n      <td>1</td>\n      <td>nonanginal</td>\n      <td>138</td>\n      <td>175</td>\n      <td>0</td>\n      <td>0</td>\n      <td>173</td>\n      <td>0</td>\n      <td>0.0</td>\n      <td>1</td>\n      <td>NaN</td>\n      <td>normal</td>\n      <td>No</td>\n    </tr>\n  </tbody>\n</table>\n</div>"
          },
          "metadata": {}
        }
      ]
    },
    {
      "cell_type": "code",
      "source": [
        "# Getting more Information of dataset using info\n",
        "\n",
        "df.info()"
      ],
      "metadata": {
        "execution": {
          "iopub.status.busy": "2024-02-25T06:24:07.816922Z",
          "iopub.execute_input": "2024-02-25T06:24:07.817168Z",
          "iopub.status.idle": "2024-02-25T06:24:07.840002Z",
          "shell.execute_reply.started": "2024-02-25T06:24:07.817145Z",
          "shell.execute_reply": "2024-02-25T06:24:07.838744Z"
        },
        "trusted": true,
        "id": "dUn9UYD89FLE",
        "outputId": "256d9071-8713-48ae-d8f5-6e902ba0bb44"
      },
      "execution_count": null,
      "outputs": [
        {
          "name": "stdout",
          "text": "<class 'pandas.core.frame.DataFrame'>\nInt64Index: 303 entries, 1 to 303\nData columns (total 14 columns):\n #   Column     Non-Null Count  Dtype  \n---  ------     --------------  -----  \n 0   Age        303 non-null    int64  \n 1   Sex        303 non-null    int64  \n 2   ChestPain  303 non-null    object \n 3   RestBP     303 non-null    int64  \n 4   Chol       303 non-null    int64  \n 5   Fbs        303 non-null    int64  \n 6   RestECG    303 non-null    int64  \n 7   MaxHR      303 non-null    int64  \n 8   ExAng      303 non-null    int64  \n 9   Oldpeak    303 non-null    float64\n 10  Slope      303 non-null    int64  \n 11  Ca         299 non-null    float64\n 12  Thal       301 non-null    object \n 13  AHD        303 non-null    object \ndtypes: float64(2), int64(9), object(3)\nmemory usage: 35.5+ KB\n",
          "output_type": "stream"
        }
      ]
    },
    {
      "cell_type": "markdown",
      "source": [
        "<a name='pd'></a>\n",
        "# Preprocessing of Dataset"
      ],
      "metadata": {
        "id": "ziJswzlT9FLF"
      }
    },
    {
      "cell_type": "markdown",
      "source": [
        "### 1. Dealing with Missing Value\n",
        "### 2.Converting cateogerical value to numeric value"
      ],
      "metadata": {
        "id": "WhWFWPm39FLF"
      }
    },
    {
      "cell_type": "code",
      "source": [
        "# Checking for Missing Value in whole dataset using\n",
        "# isnull(): Returns a Boolean value that indicates whether an expression contains no valid data (Null)\n",
        "\n",
        "df.isnull().sum()"
      ],
      "metadata": {
        "execution": {
          "iopub.status.busy": "2024-02-25T06:24:07.841453Z",
          "iopub.execute_input": "2024-02-25T06:24:07.841809Z",
          "iopub.status.idle": "2024-02-25T06:24:07.854373Z",
          "shell.execute_reply.started": "2024-02-25T06:24:07.841766Z",
          "shell.execute_reply": "2024-02-25T06:24:07.853558Z"
        },
        "trusted": true,
        "id": "j6Q_Vs469FLG",
        "outputId": "1ddb747b-d06e-44be-981b-dbf0df7e72a7"
      },
      "execution_count": null,
      "outputs": [
        {
          "execution_count": 7,
          "output_type": "execute_result",
          "data": {
            "text/plain": "Age          0\nSex          0\nChestPain    0\nRestBP       0\nChol         0\nFbs          0\nRestECG      0\nMaxHR        0\nExAng        0\nOldpeak      0\nSlope        0\nCa           4\nThal         2\nAHD          0\ndtype: int64"
          },
          "metadata": {}
        }
      ]
    },
    {
      "cell_type": "code",
      "source": [
        "# AS we can see we have 2 colimn which have missing value (Ca and Thal)\n",
        "# Dealing with Missing Value: we will replace missing value with 0"
      ],
      "metadata": {
        "execution": {
          "iopub.status.busy": "2024-02-25T06:24:07.855569Z",
          "iopub.execute_input": "2024-02-25T06:24:07.855870Z",
          "iopub.status.idle": "2024-02-25T06:24:07.864005Z",
          "shell.execute_reply.started": "2024-02-25T06:24:07.855835Z",
          "shell.execute_reply": "2024-02-25T06:24:07.862618Z"
        },
        "trusted": true,
        "id": "P3w1bSPP9FLG"
      },
      "execution_count": null,
      "outputs": []
    },
    {
      "cell_type": "code",
      "source": [
        "#Replcaing missing value in colimn Ca with 0 using fillna():\n",
        "#fiilna():\n",
        "\n",
        "df['Ca'].fillna(0,inplace=True)"
      ],
      "metadata": {
        "execution": {
          "iopub.status.busy": "2024-02-25T06:24:07.866288Z",
          "iopub.execute_input": "2024-02-25T06:24:07.866587Z",
          "iopub.status.idle": "2024-02-25T06:24:07.875860Z",
          "shell.execute_reply.started": "2024-02-25T06:24:07.866555Z",
          "shell.execute_reply": "2024-02-25T06:24:07.874695Z"
        },
        "trusted": true,
        "id": "sqwccUx19FLG"
      },
      "execution_count": null,
      "outputs": []
    },
    {
      "cell_type": "code",
      "source": [
        "# Checkling if Ca is having null value since we fill null value it should return 0\n",
        "\n",
        "df['Ca'].isnull().sum()"
      ],
      "metadata": {
        "execution": {
          "iopub.status.busy": "2024-02-25T06:24:07.877679Z",
          "iopub.execute_input": "2024-02-25T06:24:07.878012Z",
          "iopub.status.idle": "2024-02-25T06:24:07.888592Z",
          "shell.execute_reply.started": "2024-02-25T06:24:07.877975Z",
          "shell.execute_reply": "2024-02-25T06:24:07.887544Z"
        },
        "trusted": true,
        "id": "6XfptMw89FLH",
        "outputId": "e4e2e6d6-617d-4237-b89d-7fa490dcaabc"
      },
      "execution_count": null,
      "outputs": [
        {
          "execution_count": 10,
          "output_type": "execute_result",
          "data": {
            "text/plain": "0"
          },
          "metadata": {}
        }
      ]
    },
    {
      "cell_type": "code",
      "source": [
        "# Checking for Missing Value again if any leftover\n",
        "\n",
        "df.isnull().sum()"
      ],
      "metadata": {
        "execution": {
          "iopub.status.busy": "2024-02-25T06:24:07.890196Z",
          "iopub.execute_input": "2024-02-25T06:24:07.890599Z",
          "iopub.status.idle": "2024-02-25T06:24:07.901270Z",
          "shell.execute_reply.started": "2024-02-25T06:24:07.890567Z",
          "shell.execute_reply": "2024-02-25T06:24:07.900247Z"
        },
        "trusted": true,
        "id": "FiUIm9uy9FLH",
        "outputId": "d5b627da-6572-436d-c64d-5301596f68eb"
      },
      "execution_count": null,
      "outputs": [
        {
          "execution_count": 11,
          "output_type": "execute_result",
          "data": {
            "text/plain": "Age          0\nSex          0\nChestPain    0\nRestBP       0\nChol         0\nFbs          0\nRestECG      0\nMaxHR        0\nExAng        0\nOldpeak      0\nSlope        0\nCa           0\nThal         2\nAHD          0\ndtype: int64"
          },
          "metadata": {}
        }
      ]
    },
    {
      "cell_type": "markdown",
      "source": [
        "###### Note we still have one column Thal having missing value, we will deal with in a bit"
      ],
      "metadata": {
        "id": "lrjZSFjk9FLI"
      }
    },
    {
      "cell_type": "code",
      "source": [
        "# Converting Careogorical data to numeric data"
      ],
      "metadata": {
        "execution": {
          "iopub.status.busy": "2024-02-25T06:24:07.902459Z",
          "iopub.execute_input": "2024-02-25T06:24:07.902779Z",
          "iopub.status.idle": "2024-02-25T06:24:07.911024Z",
          "shell.execute_reply.started": "2024-02-25T06:24:07.902741Z",
          "shell.execute_reply": "2024-02-25T06:24:07.910261Z"
        },
        "trusted": true,
        "id": "7EB0M60Y9FLI"
      },
      "execution_count": null,
      "outputs": []
    },
    {
      "cell_type": "code",
      "source": [
        "# Columns that needs to be changed\n",
        "# 1. ChestPain\n",
        "# 2. Thal\n",
        "# 3. AHD"
      ],
      "metadata": {
        "execution": {
          "iopub.status.busy": "2024-02-25T06:24:07.912095Z",
          "iopub.execute_input": "2024-02-25T06:24:07.912365Z",
          "iopub.status.idle": "2024-02-25T06:24:07.923949Z",
          "shell.execute_reply.started": "2024-02-25T06:24:07.912314Z",
          "shell.execute_reply": "2024-02-25T06:24:07.923247Z"
        },
        "trusted": true,
        "id": "sUskwxDs9FLI"
      },
      "execution_count": null,
      "outputs": []
    },
    {
      "cell_type": "raw",
      "source": [
        "# Here we will change categorical value to numerical value of the column ChestPain\n",
        "'''\n",
        "1. ChestPain replacing value by :\n",
        "    Value 1 - typical\n",
        "    Value 2 - atypical\n",
        "    Value 3 - non-anginal\n",
        "    Value 4 - asymptomatic\n",
        "'''"
      ],
      "metadata": {
        "id": "UOMb5VqS9FLJ"
      }
    },
    {
      "cell_type": "code",
      "source": [
        "# Printing ChestPain column without processing\n",
        "\n",
        "df['ChestPain']"
      ],
      "metadata": {
        "execution": {
          "iopub.status.busy": "2024-02-25T06:24:07.925327Z",
          "iopub.execute_input": "2024-02-25T06:24:07.925660Z",
          "iopub.status.idle": "2024-02-25T06:24:07.938093Z",
          "shell.execute_reply.started": "2024-02-25T06:24:07.925627Z",
          "shell.execute_reply": "2024-02-25T06:24:07.937037Z"
        },
        "trusted": true,
        "id": "NpSH7sPp9FLJ",
        "outputId": "e4069e6d-4ded-4d4d-d781-ff4ae49ca703"
      },
      "execution_count": null,
      "outputs": [
        {
          "execution_count": 14,
          "output_type": "execute_result",
          "data": {
            "text/plain": "1           typical\n2      asymptomatic\n3      asymptomatic\n4        nonanginal\n5        nontypical\n           ...     \n299         typical\n300    asymptomatic\n301    asymptomatic\n302      nontypical\n303      nonanginal\nName: ChestPain, Length: 303, dtype: object"
          },
          "metadata": {}
        }
      ]
    },
    {
      "cell_type": "code",
      "source": [
        "#value_count():return a Series containing counts of unique values\n",
        "\n",
        "df['ChestPain'].value_counts()"
      ],
      "metadata": {
        "execution": {
          "iopub.status.busy": "2024-02-25T06:24:07.938881Z",
          "iopub.execute_input": "2024-02-25T06:24:07.939150Z",
          "iopub.status.idle": "2024-02-25T06:24:07.949193Z",
          "shell.execute_reply.started": "2024-02-25T06:24:07.939122Z",
          "shell.execute_reply": "2024-02-25T06:24:07.948243Z"
        },
        "trusted": true,
        "id": "HXObeS_G9FLK",
        "outputId": "8b6685d1-495d-437e-c9e4-9f1d5c66fa68"
      },
      "execution_count": null,
      "outputs": [
        {
          "execution_count": 15,
          "output_type": "execute_result",
          "data": {
            "text/plain": "asymptomatic    144\nnonanginal       86\nnontypical       50\ntypical          23\nName: ChestPain, dtype: int64"
          },
          "metadata": {}
        }
      ]
    },
    {
      "cell_type": "code",
      "source": [
        "# replacing the value using replace()\n",
        "\n",
        "df['ChestPain'].replace(['typical','nontypical','nonanginal','asymptomatic'],[1,2,3,4],inplace=True)"
      ],
      "metadata": {
        "execution": {
          "iopub.status.busy": "2024-02-25T06:24:07.950169Z",
          "iopub.execute_input": "2024-02-25T06:24:07.950458Z",
          "iopub.status.idle": "2024-02-25T06:24:07.964835Z",
          "shell.execute_reply.started": "2024-02-25T06:24:07.950431Z",
          "shell.execute_reply": "2024-02-25T06:24:07.964054Z"
        },
        "trusted": true,
        "id": "Otv79zXe9FLK"
      },
      "execution_count": null,
      "outputs": []
    },
    {
      "cell_type": "code",
      "source": [
        "# Printing to check whether value have changed or not\n",
        "\n",
        "df['ChestPain']"
      ],
      "metadata": {
        "execution": {
          "iopub.status.busy": "2024-02-25T06:24:07.965774Z",
          "iopub.execute_input": "2024-02-25T06:24:07.966120Z",
          "iopub.status.idle": "2024-02-25T06:24:07.977689Z",
          "shell.execute_reply.started": "2024-02-25T06:24:07.966092Z",
          "shell.execute_reply": "2024-02-25T06:24:07.976694Z"
        },
        "trusted": true,
        "id": "KBC3RrWI9FLK",
        "outputId": "a165c411-776b-48ba-ceb4-9438feb1c5b4"
      },
      "execution_count": null,
      "outputs": [
        {
          "execution_count": 17,
          "output_type": "execute_result",
          "data": {
            "text/plain": "1      1\n2      4\n3      4\n4      3\n5      2\n      ..\n299    1\n300    4\n301    4\n302    2\n303    3\nName: ChestPain, Length: 303, dtype: int64"
          },
          "metadata": {}
        }
      ]
    },
    {
      "cell_type": "code",
      "source": [
        "#verifying the values are replaced properly using value_count()\n",
        "\n",
        "df['ChestPain'].value_counts()"
      ],
      "metadata": {
        "execution": {
          "iopub.status.busy": "2024-02-25T06:24:07.978886Z",
          "iopub.execute_input": "2024-02-25T06:24:07.979268Z",
          "iopub.status.idle": "2024-02-25T06:24:07.990247Z",
          "shell.execute_reply.started": "2024-02-25T06:24:07.979234Z",
          "shell.execute_reply": "2024-02-25T06:24:07.989088Z"
        },
        "trusted": true,
        "id": "EdXso2sO9FLL",
        "outputId": "3ed78915-f418-4d05-fbed-917d356c5b7d"
      },
      "execution_count": null,
      "outputs": [
        {
          "execution_count": 18,
          "output_type": "execute_result",
          "data": {
            "text/plain": "4    144\n3     86\n2     50\n1     23\nName: ChestPain, dtype: int64"
          },
          "metadata": {}
        }
      ]
    },
    {
      "cell_type": "raw",
      "source": [
        "# Now lets move to second\n",
        "# Here we will change categorical value to numerical value of the column Thal\n",
        "\n",
        "'''\n",
        "2. Thal replacing value by :\n",
        "    Value 1 - normal\n",
        "    Value 2 - fixed\n",
        "    Value 3 - reversable\n",
        "    Value 4 - asymptomatic\n",
        "'''"
      ],
      "metadata": {
        "id": "oT9O20Uk9FLL"
      }
    },
    {
      "cell_type": "code",
      "source": [
        "# Replacing value using replace()\n",
        "\n",
        "df['Thal'].replace(['normal','fixed','reversable'],[1,2,3],inplace=True)"
      ],
      "metadata": {
        "execution": {
          "iopub.status.busy": "2024-02-25T06:24:07.991789Z",
          "iopub.execute_input": "2024-02-25T06:24:07.992311Z",
          "iopub.status.idle": "2024-02-25T06:24:08.005943Z",
          "shell.execute_reply.started": "2024-02-25T06:24:07.992265Z",
          "shell.execute_reply": "2024-02-25T06:24:08.004637Z"
        },
        "trusted": true,
        "id": "vh2AJhAL9FLM"
      },
      "execution_count": null,
      "outputs": []
    },
    {
      "cell_type": "code",
      "source": [
        "#verifying the values are replaced properly using value_count()\n",
        "\n",
        "df['Thal'].value_counts()"
      ],
      "metadata": {
        "execution": {
          "iopub.status.busy": "2024-02-25T06:24:08.007624Z",
          "iopub.execute_input": "2024-02-25T06:24:08.007945Z",
          "iopub.status.idle": "2024-02-25T06:24:08.020012Z",
          "shell.execute_reply.started": "2024-02-25T06:24:08.007913Z",
          "shell.execute_reply": "2024-02-25T06:24:08.018729Z"
        },
        "trusted": true,
        "id": "kJ4Mc6Mn9FLM",
        "outputId": "07ab0890-81db-4bf9-b886-86a0b3874f6a"
      },
      "execution_count": null,
      "outputs": [
        {
          "execution_count": 20,
          "output_type": "execute_result",
          "data": {
            "text/plain": "1.0    166\n3.0    117\n2.0     18\nName: Thal, dtype: int64"
          },
          "metadata": {}
        }
      ]
    },
    {
      "cell_type": "code",
      "source": [
        "166+117+18"
      ],
      "metadata": {
        "execution": {
          "iopub.status.busy": "2024-02-25T06:24:08.021151Z",
          "iopub.execute_input": "2024-02-25T06:24:08.021478Z",
          "iopub.status.idle": "2024-02-25T06:24:08.028297Z",
          "shell.execute_reply.started": "2024-02-25T06:24:08.021444Z",
          "shell.execute_reply": "2024-02-25T06:24:08.027113Z"
        },
        "trusted": true,
        "id": "DUqsen7h9FLM",
        "outputId": "c188e492-954a-4e74-f02d-f49cb282f516"
      },
      "execution_count": null,
      "outputs": [
        {
          "execution_count": 21,
          "output_type": "execute_result",
          "data": {
            "text/plain": "301"
          },
          "metadata": {}
        }
      ]
    },
    {
      "cell_type": "markdown",
      "source": [
        "#### As we  have 303 rows we have 2 rows missing"
      ],
      "metadata": {
        "id": "1nk2hjXh9FLN"
      }
    },
    {
      "cell_type": "markdown",
      "source": [
        "#### We now deal with missing value"
      ],
      "metadata": {
        "id": "ciq8nUr89FLY"
      }
    },
    {
      "cell_type": "code",
      "source": [
        "# We are filling 0 in place of null value\n",
        "\n",
        "df['Thal'].fillna(0,inplace=True)"
      ],
      "metadata": {
        "execution": {
          "iopub.status.busy": "2024-02-25T06:24:08.031874Z",
          "iopub.execute_input": "2024-02-25T06:24:08.032181Z",
          "iopub.status.idle": "2024-02-25T06:24:08.040877Z",
          "shell.execute_reply.started": "2024-02-25T06:24:08.032151Z",
          "shell.execute_reply": "2024-02-25T06:24:08.039597Z"
        },
        "trusted": true,
        "id": "MU4CwEC79FLY"
      },
      "execution_count": null,
      "outputs": []
    },
    {
      "cell_type": "code",
      "source": [
        "# Verifying the values are replaced properly using value_count()\n",
        "\n",
        "df['Thal'].value_counts()"
      ],
      "metadata": {
        "execution": {
          "iopub.status.busy": "2024-02-25T06:24:08.042635Z",
          "iopub.execute_input": "2024-02-25T06:24:08.043116Z",
          "iopub.status.idle": "2024-02-25T06:24:08.057675Z",
          "shell.execute_reply.started": "2024-02-25T06:24:08.043078Z",
          "shell.execute_reply": "2024-02-25T06:24:08.056548Z"
        },
        "trusted": true,
        "id": "xudFXpAo9FLZ",
        "outputId": "cb095a7b-9a36-49fd-8601-f9c3f1a73a77"
      },
      "execution_count": null,
      "outputs": [
        {
          "execution_count": 23,
          "output_type": "execute_result",
          "data": {
            "text/plain": "1.0    166\n3.0    117\n2.0     18\n0.0      2\nName: Thal, dtype: int64"
          },
          "metadata": {}
        }
      ]
    },
    {
      "cell_type": "raw",
      "source": [
        "# Now lets move to third\n",
        "# Here we will change categorical value to numerical value of the column AHD(note :AHD is our target variable)\n",
        "'''\n",
        "3. AHD replacing value by :\n",
        "    Value 0 - No\n",
        "    Value 1 - True\n",
        "'''"
      ],
      "metadata": {
        "id": "NgzUAPrj9FLZ"
      }
    },
    {
      "cell_type": "code",
      "source": [
        "#Replacing the value using replace()\n",
        "\n",
        "df['AHD'].replace(['No','Yes'],[0,1],inplace=True)"
      ],
      "metadata": {
        "execution": {
          "iopub.status.busy": "2024-02-25T06:24:08.059287Z",
          "iopub.execute_input": "2024-02-25T06:24:08.059833Z",
          "iopub.status.idle": "2024-02-25T06:24:08.066519Z",
          "shell.execute_reply.started": "2024-02-25T06:24:08.059789Z",
          "shell.execute_reply": "2024-02-25T06:24:08.065553Z"
        },
        "trusted": true,
        "id": "VswfpJD39FLZ"
      },
      "execution_count": null,
      "outputs": []
    },
    {
      "cell_type": "code",
      "source": [
        "# Checking if changes are done\n",
        "\n",
        "df['AHD']"
      ],
      "metadata": {
        "execution": {
          "iopub.status.busy": "2024-02-25T06:24:08.067910Z",
          "iopub.execute_input": "2024-02-25T06:24:08.068311Z",
          "iopub.status.idle": "2024-02-25T06:24:08.079118Z",
          "shell.execute_reply.started": "2024-02-25T06:24:08.068280Z",
          "shell.execute_reply": "2024-02-25T06:24:08.078113Z"
        },
        "trusted": true,
        "id": "mcqYueAl9FLZ",
        "outputId": "d103ae09-2331-44b5-e8b0-ecea699797a8"
      },
      "execution_count": null,
      "outputs": [
        {
          "execution_count": 25,
          "output_type": "execute_result",
          "data": {
            "text/plain": "1      0\n2      1\n3      1\n4      0\n5      0\n      ..\n299    1\n300    1\n301    1\n302    1\n303    0\nName: AHD, Length: 303, dtype: int64"
          },
          "metadata": {}
        }
      ]
    },
    {
      "cell_type": "code",
      "source": [
        "# Verifying the values are replaced properly using value_count()\n",
        "\n",
        "df['AHD'].value_counts()"
      ],
      "metadata": {
        "execution": {
          "iopub.status.busy": "2024-02-25T06:24:08.080761Z",
          "iopub.execute_input": "2024-02-25T06:24:08.081392Z",
          "iopub.status.idle": "2024-02-25T06:24:08.094924Z",
          "shell.execute_reply.started": "2024-02-25T06:24:08.081349Z",
          "shell.execute_reply": "2024-02-25T06:24:08.092984Z"
        },
        "trusted": true,
        "id": "H_Cuh2bp9FLa",
        "outputId": "3a2cb3c6-1d7a-4d0b-eaf5-f2c6057a1ebb"
      },
      "execution_count": null,
      "outputs": [
        {
          "execution_count": 26,
          "output_type": "execute_result",
          "data": {
            "text/plain": "0    164\n1    139\nName: AHD, dtype: int64"
          },
          "metadata": {}
        }
      ]
    },
    {
      "cell_type": "code",
      "source": [
        "164+139"
      ],
      "metadata": {
        "execution": {
          "iopub.status.busy": "2024-02-25T06:24:08.103577Z",
          "iopub.execute_input": "2024-02-25T06:24:08.104505Z",
          "iopub.status.idle": "2024-02-25T06:24:08.116709Z",
          "shell.execute_reply.started": "2024-02-25T06:24:08.104415Z",
          "shell.execute_reply": "2024-02-25T06:24:08.115094Z"
        },
        "trusted": true,
        "id": "vOhMsh8u9FLa",
        "outputId": "e75b470d-5d76-4108-ae8d-eb3cadd51498"
      },
      "execution_count": null,
      "outputs": [
        {
          "execution_count": 27,
          "output_type": "execute_result",
          "data": {
            "text/plain": "303"
          },
          "metadata": {}
        }
      ]
    },
    {
      "cell_type": "code",
      "source": [
        "#Final look at the dataset\n",
        "\n",
        "df"
      ],
      "metadata": {
        "execution": {
          "iopub.status.busy": "2024-02-25T06:24:08.119451Z",
          "iopub.execute_input": "2024-02-25T06:24:08.119721Z",
          "iopub.status.idle": "2024-02-25T06:24:08.149373Z",
          "shell.execute_reply.started": "2024-02-25T06:24:08.119692Z",
          "shell.execute_reply": "2024-02-25T06:24:08.148457Z"
        },
        "trusted": true,
        "id": "rmhB7Z609FLa",
        "outputId": "0d12e88b-a5d1-4877-a1c8-7a71105a2a96"
      },
      "execution_count": null,
      "outputs": [
        {
          "execution_count": 28,
          "output_type": "execute_result",
          "data": {
            "text/plain": "     Age  Sex  ChestPain  RestBP  Chol  Fbs  RestECG  MaxHR  ExAng  Oldpeak  \\\n1     63    1          1     145   233    1        2    150      0      2.3   \n2     67    1          4     160   286    0        2    108      1      1.5   \n3     67    1          4     120   229    0        2    129      1      2.6   \n4     37    1          3     130   250    0        0    187      0      3.5   \n5     41    0          2     130   204    0        2    172      0      1.4   \n..   ...  ...        ...     ...   ...  ...      ...    ...    ...      ...   \n299   45    1          1     110   264    0        0    132      0      1.2   \n300   68    1          4     144   193    1        0    141      0      3.4   \n301   57    1          4     130   131    0        0    115      1      1.2   \n302   57    0          2     130   236    0        2    174      0      0.0   \n303   38    1          3     138   175    0        0    173      0      0.0   \n\n     Slope   Ca  Thal  AHD  \n1        3  0.0   2.0    0  \n2        2  3.0   1.0    1  \n3        2  2.0   3.0    1  \n4        3  0.0   1.0    0  \n5        1  0.0   1.0    0  \n..     ...  ...   ...  ...  \n299      2  0.0   3.0    1  \n300      2  2.0   3.0    1  \n301      2  1.0   3.0    1  \n302      2  1.0   1.0    1  \n303      1  0.0   1.0    0  \n\n[303 rows x 14 columns]",
            "text/html": "<div>\n<style scoped>\n    .dataframe tbody tr th:only-of-type {\n        vertical-align: middle;\n    }\n\n    .dataframe tbody tr th {\n        vertical-align: top;\n    }\n\n    .dataframe thead th {\n        text-align: right;\n    }\n</style>\n<table border=\"1\" class=\"dataframe\">\n  <thead>\n    <tr style=\"text-align: right;\">\n      <th></th>\n      <th>Age</th>\n      <th>Sex</th>\n      <th>ChestPain</th>\n      <th>RestBP</th>\n      <th>Chol</th>\n      <th>Fbs</th>\n      <th>RestECG</th>\n      <th>MaxHR</th>\n      <th>ExAng</th>\n      <th>Oldpeak</th>\n      <th>Slope</th>\n      <th>Ca</th>\n      <th>Thal</th>\n      <th>AHD</th>\n    </tr>\n  </thead>\n  <tbody>\n    <tr>\n      <th>1</th>\n      <td>63</td>\n      <td>1</td>\n      <td>1</td>\n      <td>145</td>\n      <td>233</td>\n      <td>1</td>\n      <td>2</td>\n      <td>150</td>\n      <td>0</td>\n      <td>2.3</td>\n      <td>3</td>\n      <td>0.0</td>\n      <td>2.0</td>\n      <td>0</td>\n    </tr>\n    <tr>\n      <th>2</th>\n      <td>67</td>\n      <td>1</td>\n      <td>4</td>\n      <td>160</td>\n      <td>286</td>\n      <td>0</td>\n      <td>2</td>\n      <td>108</td>\n      <td>1</td>\n      <td>1.5</td>\n      <td>2</td>\n      <td>3.0</td>\n      <td>1.0</td>\n      <td>1</td>\n    </tr>\n    <tr>\n      <th>3</th>\n      <td>67</td>\n      <td>1</td>\n      <td>4</td>\n      <td>120</td>\n      <td>229</td>\n      <td>0</td>\n      <td>2</td>\n      <td>129</td>\n      <td>1</td>\n      <td>2.6</td>\n      <td>2</td>\n      <td>2.0</td>\n      <td>3.0</td>\n      <td>1</td>\n    </tr>\n    <tr>\n      <th>4</th>\n      <td>37</td>\n      <td>1</td>\n      <td>3</td>\n      <td>130</td>\n      <td>250</td>\n      <td>0</td>\n      <td>0</td>\n      <td>187</td>\n      <td>0</td>\n      <td>3.5</td>\n      <td>3</td>\n      <td>0.0</td>\n      <td>1.0</td>\n      <td>0</td>\n    </tr>\n    <tr>\n      <th>5</th>\n      <td>41</td>\n      <td>0</td>\n      <td>2</td>\n      <td>130</td>\n      <td>204</td>\n      <td>0</td>\n      <td>2</td>\n      <td>172</td>\n      <td>0</td>\n      <td>1.4</td>\n      <td>1</td>\n      <td>0.0</td>\n      <td>1.0</td>\n      <td>0</td>\n    </tr>\n    <tr>\n      <th>...</th>\n      <td>...</td>\n      <td>...</td>\n      <td>...</td>\n      <td>...</td>\n      <td>...</td>\n      <td>...</td>\n      <td>...</td>\n      <td>...</td>\n      <td>...</td>\n      <td>...</td>\n      <td>...</td>\n      <td>...</td>\n      <td>...</td>\n      <td>...</td>\n    </tr>\n    <tr>\n      <th>299</th>\n      <td>45</td>\n      <td>1</td>\n      <td>1</td>\n      <td>110</td>\n      <td>264</td>\n      <td>0</td>\n      <td>0</td>\n      <td>132</td>\n      <td>0</td>\n      <td>1.2</td>\n      <td>2</td>\n      <td>0.0</td>\n      <td>3.0</td>\n      <td>1</td>\n    </tr>\n    <tr>\n      <th>300</th>\n      <td>68</td>\n      <td>1</td>\n      <td>4</td>\n      <td>144</td>\n      <td>193</td>\n      <td>1</td>\n      <td>0</td>\n      <td>141</td>\n      <td>0</td>\n      <td>3.4</td>\n      <td>2</td>\n      <td>2.0</td>\n      <td>3.0</td>\n      <td>1</td>\n    </tr>\n    <tr>\n      <th>301</th>\n      <td>57</td>\n      <td>1</td>\n      <td>4</td>\n      <td>130</td>\n      <td>131</td>\n      <td>0</td>\n      <td>0</td>\n      <td>115</td>\n      <td>1</td>\n      <td>1.2</td>\n      <td>2</td>\n      <td>1.0</td>\n      <td>3.0</td>\n      <td>1</td>\n    </tr>\n    <tr>\n      <th>302</th>\n      <td>57</td>\n      <td>0</td>\n      <td>2</td>\n      <td>130</td>\n      <td>236</td>\n      <td>0</td>\n      <td>2</td>\n      <td>174</td>\n      <td>0</td>\n      <td>0.0</td>\n      <td>2</td>\n      <td>1.0</td>\n      <td>1.0</td>\n      <td>1</td>\n    </tr>\n    <tr>\n      <th>303</th>\n      <td>38</td>\n      <td>1</td>\n      <td>3</td>\n      <td>138</td>\n      <td>175</td>\n      <td>0</td>\n      <td>0</td>\n      <td>173</td>\n      <td>0</td>\n      <td>0.0</td>\n      <td>1</td>\n      <td>0.0</td>\n      <td>1.0</td>\n      <td>0</td>\n    </tr>\n  </tbody>\n</table>\n<p>303 rows × 14 columns</p>\n</div>"
          },
          "metadata": {}
        }
      ]
    },
    {
      "cell_type": "markdown",
      "source": [
        "# EDA"
      ],
      "metadata": {
        "id": "ApjQPbiY9FLb"
      }
    },
    {
      "cell_type": "code",
      "source": [
        "# Plotting the histogram of the data passed and set title will be title passed to the function\n",
        "def hist(col,title):\n",
        "\n",
        "    plt.figure(figsize = (10,8))\n",
        "\n",
        "    ax = sns.histplot(col,kde=False);\n",
        "\n",
        "    values = np.array([patch.get_height() for patch in ax.patches])\n",
        "\n",
        "    #normalizing the values to get a range of colours\n",
        "    norm = plt.Normalize(values.min(), values.max())\n",
        "\n",
        "    #range of colours from colourmap-rainbow\n",
        "    colors = plt.cm.rainbow(norm(values))\n",
        "\n",
        "    #set colour for each patch\n",
        "    for patch, color in zip(ax.patches, colors):\n",
        "        patch.set_color(color)\n",
        "\n",
        "    plt.title(title, size = 20)"
      ],
      "metadata": {
        "execution": {
          "iopub.status.busy": "2024-02-25T06:24:08.150579Z",
          "iopub.execute_input": "2024-02-25T06:24:08.150843Z",
          "iopub.status.idle": "2024-02-25T06:24:08.157038Z",
          "shell.execute_reply.started": "2024-02-25T06:24:08.150813Z",
          "shell.execute_reply": "2024-02-25T06:24:08.155954Z"
        },
        "trusted": true,
        "id": "tLIHXdfz9FLb"
      },
      "execution_count": null,
      "outputs": []
    },
    {
      "cell_type": "code",
      "source": [
        "hist(df['Age'],'Distribution of Age')"
      ],
      "metadata": {
        "execution": {
          "iopub.status.busy": "2024-02-25T06:24:08.158118Z",
          "iopub.execute_input": "2024-02-25T06:24:08.158407Z",
          "iopub.status.idle": "2024-02-25T06:24:08.379123Z",
          "shell.execute_reply.started": "2024-02-25T06:24:08.158375Z",
          "shell.execute_reply": "2024-02-25T06:24:08.378358Z"
        },
        "trusted": true,
        "id": "RGNzVrE89FLb",
        "outputId": "7a10074b-4274-4623-d43e-197d6189b4d5"
      },
      "execution_count": null,
      "outputs": [
        {
          "output_type": "display_data",
          "data": {
            "text/plain": "<Figure size 720x576 with 1 Axes>",
            "image/png": "[encoded data removed]"
          },
          "metadata": {
            "needs_background": "light"
          }
        }
      ]
    },
    {
      "cell_type": "code",
      "source": [
        "import plotly.graph_objects as go\n",
        "cp = df.ChestPain.value_counts()\n",
        "\n",
        "fig = go.Figure([go.Bar(x=cp.index, y=cp.values,text=cp.values,\n",
        "            textposition='auto')])\n",
        "fig.update_layout(title_text='Distribution of the ChestPain')\n",
        "fig.show()"
      ],
      "metadata": {
        "execution": {
          "iopub.status.busy": "2024-02-25T06:24:08.380179Z",
          "iopub.execute_input": "2024-02-25T06:24:08.380495Z",
          "iopub.status.idle": "2024-02-25T06:24:08.505551Z",
          "shell.execute_reply.started": "2024-02-25T06:24:08.380464Z",
          "shell.execute_reply": "2024-02-25T06:24:08.504565Z"
        },
        "trusted": true,
        "id": "uTt2VXIa9FLc",
        "outputId": "e0df74ef-ac6c-4110-93cb-a6f8838308c3"
      },
      "execution_count": null,
      "outputs": [
        {
          "output_type": "display_data",
          "data": {
            "text/html": "        <script type=\"text/javascript\">\n        window.PlotlyConfig = {MathJaxConfig: 'local'};\n        if (window.MathJax) {MathJax.Hub.Config({SVG: {font: \"STIX-Web\"}});}\n        if (typeof require !== 'undefined') {\n        require.undef(\"plotly\");\n        requirejs.config({\n            paths: {\n                'plotly': ['https://cdn.plot.ly/plotly-2.2.0.min']\n            }\n        });\n        require(['plotly'], function(Plotly) {\n            window._Plotly = Plotly;\n        });\n        }\n        </script>\n        "
          },
          "metadata": {}
        },
        {
          "output_type": "display_data",
          "data": {
            "text/html": "<div>                            <div id=\"cba01257-2404-409a-896d-302973c5c816\" class=\"plotly-graph-div\" style=\"height:525px; width:100%;\"></div>            <script type=\"text/javascript\">                require([\"plotly\"], function(Plotly) {                    window.PLOTLYENV=window.PLOTLYENV || {};                                    if (document.getElementById(\"cba01257-2404-409a-896d-302973c5c816\")) {                    Plotly.newPlot(                        \"cba01257-2404-409a-896d-302973c5c816\",                        [{\"text\":[\"144\",\"86\",\"50\",\"23\"],\"textposition\":\"auto\",\"type\":\"bar\",\"x\":[4,3,2,1],\"y\":[144,86,50,23]}],                        {\"template\":{\"data\":{\"bar\":[{\"error_x\":{\"color\":\"#2a3f5f\"},\"error_y\":{\"color\":\"#2a3f5f\"},\"marker\":{\"line\":{\"color\":\"#E5ECF6\",\"width\":0.5},\"pattern\":{\"fillmode\":\"overlay\",\"size\":10,\"solidity\":0.2}},\"type\":\"bar\"}],\"barpolar\":[{\"marker\":{\"line\":{\"color\":\"#E5ECF6\",\"width\":0.5},\"pattern\":{\"fillmode\":\"overlay\",\"size\":10,\"solidity\":0.2}},\"type\":\"barpolar\"}],\"carpet\":[{\"aaxis\":{\"endlinecolor\":\"#2a3f5f\",\"gridcolor\":\"white\",\"linecolor\":\"white\",\"minorgridcolor\":\"white\",\"startlinecolor\":\"#2a3f5f\"},\"baxis\":{\"endlinecolor\":\"#2a3f5f\",\"gridcolor\":\"white\",\"linecolor\":\"white\",\"minorgridcolor\":\"white\",\"startlinecolor\":\"#2a3f5f\"},\"type\":\"carpet\"}],\"choropleth\":[{\"colorbar\":{\"outlinewidth\":0,\"ticks\":\"\"},\"type\":\"choropleth\"}],\"contour\":[{\"colorbar\":{\"outlinewidth\":0,\"ticks\":\"\"},\"colorscale\":[[0.0,\"#0d0887\"],[0.1111111111111111,\"#46039f\"],[0.2222222222222222,\"#7201a8\"],[0.3333333333333333,\"#9c179e\"],[0.4444444444444444,\"#bd3786\"],[0.5555555555555556,\"#d8576b\"],[0.6666666666666666,\"#ed7953\"],[0.7777777777777778,\"#fb9f3a\"],[0.8888888888888888,\"#fdca26\"],[1.0,\"#f0f921\"]],\"type\":\"contour\"}],\"contourcarpet\":[{\"colorbar\":{\"outlinewidth\":0,\"ticks\":\"\"},\"type\":\"contourcarpet\"}],\"heatmap\":[{\"colorbar\":{\"outlinewidth\":0,\"ticks\":\"\"},\"colorscale\":[[0.0,\"#0d0887\"],[0.1111111111111111,\"#46039f\"],[0.2222222222222222,\"#7201a8\"],[0.3333333333333333,\"#9c179e\"],[0.4444444444444444,\"#bd3786\"],[0.5555555555555556,\"#d8576b\"],[0.6666666666666666,\"#ed7953\"],[0.7777777777777778,\"#fb9f3a\"],[0.8888888888888888,\"#fdca26\"],[1.0,\"#f0f921\"]],\"type\":\"heatmap\"}],\"heatmapgl\":[{\"colorbar\":{\"outlinewidth\":0,\"ticks\":\"\"},\"colorscale\":[[0.0,\"#0d0887\"],[0.1111111111111111,\"#46039f\"],[0.2222222222222222,\"#7201a8\"],[0.3333333333333333,\"#9c179e\"],[0.4444444444444444,\"#bd3786\"],[0.5555555555555556,\"#d8576b\"],[0.6666666666666666,\"#ed7953\"],[0.7777777777777778,\"#fb9f3a\"],[0.8888888888888888,\"#fdca26\"],[1.0,\"#f0f921\"]],\"type\":\"heatmapgl\"}],\"histogram\":[{\"marker\":{\"pattern\":{\"fillmode\":\"overlay\",\"size\":10,\"solidity\":0.2}},\"type\":\"histogram\"}],\"histogram2d\":[{\"colorbar\":{\"outlinewidth\":0,\"ticks\":\"\"},\"colorscale\":[[0.0,\"#0d0887\"],[0.1111111111111111,\"#46039f\"],[0.2222222222222222,\"#7201a8\"],[0.3333333333333333,\"#9c179e\"],[0.4444444444444444,\"#bd3786\"],[0.5555555555555556,\"#d8576b\"],[0.6666666666666666,\"#ed7953\"],[0.7777777777777778,\"#fb9f3a\"],[0.8888888888888888,\"#fdca26\"],[1.0,\"#f0f921\"]],\"type\":\"histogram2d\"}],\"histogram2dcontour\":[{\"colorbar\":{\"outlinewidth\":0,\"ticks\":\"\"},\"colorscale\":[[0.0,\"#0d0887\"],[0.1111111111111111,\"#46039f\"],[0.2222222222222222,\"#7201a8\"],[0.3333333333333333,\"#9c179e\"],[0.4444444444444444,\"#bd3786\"],[0.5555555555555556,\"#d8576b\"],[0.6666666666666666,\"#ed7953\"],[0.7777777777777778,\"#fb9f3a\"],[0.8888888888888888,\"#fdca26\"],[1.0,\"#f0f921\"]],\"type\":\"histogram2dcontour\"}],\"mesh3d\":[{\"colorbar\":{\"outlinewidth\":0,\"ticks\":\"\"},\"type\":\"mesh3d\"}],\"parcoords\":[{\"line\":{\"colorbar\":{\"outlinewidth\":0,\"ticks\":\"\"}},\"type\":\"parcoords\"}],\"pie\":[{\"automargin\":true,\"type\":\"pie\"}],\"scatter\":[{\"marker\":{\"colorbar\":{\"outlinewidth\":0,\"ticks\":\"\"}},\"type\":\"scatter\"}],\"scatter3d\":[{\"line\":{\"colorbar\":{\"outlinewidth\":0,\"ticks\":\"\"}},\"marker\":{\"colorbar\":{\"outlinewidth\":0,\"ticks\":\"\"}},\"type\":\"scatter3d\"}],\"scattercarpet\":[{\"marker\":{\"colorbar\":{\"outlinewidth\":0,\"ticks\":\"\"}},\"type\":\"scattercarpet\"}],\"scattergeo\":[{\"marker\":{\"colorbar\":{\"outlinewidth\":0,\"ticks\":\"\"}},\"type\":\"scattergeo\"}],\"scattergl\":[{\"marker\":{\"colorbar\":{\"outlinewidth\":0,\"ticks\":\"\"}},\"type\":\"scattergl\"}],\"scattermapbox\":[{\"marker\":{\"colorbar\":{\"outlinewidth\":0,\"ticks\":\"\"}},\"type\":\"scattermapbox\"}],\"scatterpolar\":[{\"marker\":{\"colorbar\":{\"outlinewidth\":0,\"ticks\":\"\"}},\"type\":\"scatterpolar\"}],\"scatterpolargl\":[{\"marker\":{\"colorbar\":{\"outlinewidth\":0,\"ticks\":\"\"}},\"type\":\"scatterpolargl\"}],\"scatterternary\":[{\"marker\":{\"colorbar\":{\"outlinewidth\":0,\"ticks\":\"\"}},\"type\":\"scatterternary\"}],\"surface\":[{\"colorbar\":{\"outlinewidth\":0,\"ticks\":\"\"},\"colorscale\":[[0.0,\"#0d0887\"],[0.1111111111111111,\"#46039f\"],[0.2222222222222222,\"#7201a8\"],[0.3333333333333333,\"#9c179e\"],[0.4444444444444444,\"#bd3786\"],[0.5555555555555556,\"#d8576b\"],[0.6666666666666666,\"#ed7953\"],[0.7777777777777778,\"#fb9f3a\"],[0.8888888888888888,\"#fdca26\"],[1.0,\"#f0f921\"]],\"type\":\"surface\"}],\"table\":[{\"cells\":{\"fill\":{\"color\":\"#EBF0F8\"},\"line\":{\"color\":\"white\"}},\"header\":{\"fill\":{\"color\":\"#C8D4E3\"},\"line\":{\"color\":\"white\"}},\"type\":\"table\"}]},\"layout\":{\"annotationdefaults\":{\"arrowcolor\":\"#2a3f5f\",\"arrowhead\":0,\"arrowwidth\":1},\"autotypenumbers\":\"strict\",\"coloraxis\":{\"colorbar\":{\"outlinewidth\":0,\"ticks\":\"\"}},\"colorscale\":{\"diverging\":[[0,\"#8e0152\"],[0.1,\"#c51b7d\"],[0.2,\"#de77ae\"],[0.3,\"#f1b6da\"],[0.4,\"#fde0ef\"],[0.5,\"#f7f7f7\"],[0.6,\"#e6f5d0\"],[0.7,\"#b8e186\"],[0.8,\"#7fbc41\"],[0.9,\"#4d9221\"],[1,\"#276419\"]],\"sequential\":[[0.0,\"#0d0887\"],[0.1111111111111111,\"#46039f\"],[0.2222222222222222,\"#7201a8\"],[0.3333333333333333,\"#9c179e\"],[0.4444444444444444,\"#bd3786\"],[0.5555555555555556,\"#d8576b\"],[0.6666666666666666,\"#ed7953\"],[0.7777777777777778,\"#fb9f3a\"],[0.8888888888888888,\"#fdca26\"],[1.0,\"#f0f921\"]],\"sequentialminus\":[[0.0,\"#0d0887\"],[0.1111111111111111,\"#46039f\"],[0.2222222222222222,\"#7201a8\"],[0.3333333333333333,\"#9c179e\"],[0.4444444444444444,\"#bd3786\"],[0.5555555555555556,\"#d8576b\"],[0.6666666666666666,\"#ed7953\"],[0.7777777777777778,\"#fb9f3a\"],[0.8888888888888888,\"#fdca26\"],[1.0,\"#f0f921\"]]},\"colorway\":[\"#636efa\",\"#EF553B\",\"#00cc96\",\"#ab63fa\",\"#FFA15A\",\"#19d3f3\",\"#FF6692\",\"#B6E880\",\"#FF97FF\",\"#FECB52\"],\"font\":{\"color\":\"#2a3f5f\"},\"geo\":{\"bgcolor\":\"white\",\"lakecolor\":\"white\",\"landcolor\":\"#E5ECF6\",\"showlakes\":true,\"showland\":true,\"subunitcolor\":\"white\"},\"hoverlabel\":{\"align\":\"left\"},\"hovermode\":\"closest\",\"mapbox\":{\"style\":\"light\"},\"paper_bgcolor\":\"white\",\"plot_bgcolor\":\"#E5ECF6\",\"polar\":{\"angularaxis\":{\"gridcolor\":\"white\",\"linecolor\":\"white\",\"ticks\":\"\"},\"bgcolor\":\"#E5ECF6\",\"radialaxis\":{\"gridcolor\":\"white\",\"linecolor\":\"white\",\"ticks\":\"\"}},\"scene\":{\"xaxis\":{\"backgroundcolor\":\"#E5ECF6\",\"gridcolor\":\"white\",\"gridwidth\":2,\"linecolor\":\"white\",\"showbackground\":true,\"ticks\":\"\",\"zerolinecolor\":\"white\"},\"yaxis\":{\"backgroundcolor\":\"#E5ECF6\",\"gridcolor\":\"white\",\"gridwidth\":2,\"linecolor\":\"white\",\"showbackground\":true,\"ticks\":\"\",\"zerolinecolor\":\"white\"},\"zaxis\":{\"backgroundcolor\":\"#E5ECF6\",\"gridcolor\":\"white\",\"gridwidth\":2,\"linecolor\":\"white\",\"showbackground\":true,\"ticks\":\"\",\"zerolinecolor\":\"white\"}},\"shapedefaults\":{\"line\":{\"color\":\"#2a3f5f\"}},\"ternary\":{\"aaxis\":{\"gridcolor\":\"white\",\"linecolor\":\"white\",\"ticks\":\"\"},\"baxis\":{\"gridcolor\":\"white\",\"linecolor\":\"white\",\"ticks\":\"\"},\"bgcolor\":\"#E5ECF6\",\"caxis\":{\"gridcolor\":\"white\",\"linecolor\":\"white\",\"ticks\":\"\"}},\"title\":{\"x\":0.05},\"xaxis\":{\"automargin\":true,\"gridcolor\":\"white\",\"linecolor\":\"white\",\"ticks\":\"\",\"title\":{\"standoff\":15},\"zerolinecolor\":\"white\",\"zerolinewidth\":2},\"yaxis\":{\"automargin\":true,\"gridcolor\":\"white\",\"linecolor\":\"white\",\"ticks\":\"\",\"title\":{\"standoff\":15},\"zerolinecolor\":\"white\",\"zerolinewidth\":2}}},\"title\":{\"text\":\"Distribution of the ChestPain\"}},                        {\"responsive\": true}                    ).then(function(){\n                            \nvar gd = document.getElementById('cba01257-2404-409a-896d-302973c5c816');\nvar x = new MutationObserver(function (mutations, observer) {{\n        var display = window.getComputedStyle(gd).display;\n        if (!display || display === 'none') {{\n            console.log([gd, 'removed!']);\n            Plotly.purge(gd);\n            observer.disconnect();\n        }}\n}});\n\n// Listen for the removal of the full notebook cells\nvar notebookContainer = gd.closest('#notebook-container');\nif (notebookContainer) {{\n    x.observe(notebookContainer, {childList: true});\n}}\n\n// Listen for the clearing of the current output cell\nvar outputEl = gd.closest('.output');\nif (outputEl) {{\n    x.observe(outputEl, {childList: true});\n}}\n\n                        })                };                });            </script>        </div>"
          },
          "metadata": {}
        }
      ]
    },
    {
      "cell_type": "code",
      "source": [
        "# Plotting the Pie Chart of Gender\n",
        "\n",
        "import plotly.express as px\n",
        "s=df.Sex.value_counts()\n",
        "name = [\"Male\",\"Female\"]\n",
        "fig = px.pie(df, values=s.values ,names=name)\n",
        "fig.update_traces(textposition='inside', textinfo='percent+label')\n",
        "fig.show()"
      ],
      "metadata": {
        "execution": {
          "iopub.status.busy": "2024-02-25T06:24:08.506546Z",
          "iopub.execute_input": "2024-02-25T06:24:08.506785Z",
          "iopub.status.idle": "2024-02-25T06:24:10.605525Z",
          "shell.execute_reply.started": "2024-02-25T06:24:08.506757Z",
          "shell.execute_reply": "2024-02-25T06:24:10.604316Z"
        },
        "trusted": true,
        "id": "w4LNzatT9FLe",
        "outputId": "c3382e54-e883-4e17-ce5d-b0fce9c32ee5"
      },
      "execution_count": null,
      "outputs": [
        {
          "output_type": "display_data",
          "data": {
            "text/html": "<div>                            <div id=\"65961f04-496a-4848-a22d-f462767263cf\" class=\"plotly-graph-div\" style=\"height:525px; width:100%;\"></div>            <script type=\"text/javascript\">                require([\"plotly\"], function(Plotly) {                    window.PLOTLYENV=window.PLOTLYENV || {};                                    if (document.getElementById(\"65961f04-496a-4848-a22d-f462767263cf\")) {                    Plotly.newPlot(                        \"65961f04-496a-4848-a22d-f462767263cf\",                        [{\"domain\":{\"x\":[0.0,1.0],\"y\":[0.0,1.0]},\"hovertemplate\":\"label=%{label}<br>value=%{value}<extra></extra>\",\"labels\":[\"Male\",\"Female\"],\"legendgroup\":\"\",\"name\":\"\",\"showlegend\":true,\"textinfo\":\"percent+label\",\"textposition\":\"inside\",\"type\":\"pie\",\"values\":[206,97]}],                        {\"legend\":{\"tracegroupgap\":0},\"margin\":{\"t\":60},\"template\":{\"data\":{\"bar\":[{\"error_x\":{\"color\":\"#2a3f5f\"},\"error_y\":{\"color\":\"#2a3f5f\"},\"marker\":{\"line\":{\"color\":\"#E5ECF6\",\"width\":0.5},\"pattern\":{\"fillmode\":\"overlay\",\"size\":10,\"solidity\":0.2}},\"type\":\"bar\"}],\"barpolar\":[{\"marker\":{\"line\":{\"color\":\"#E5ECF6\",\"width\":0.5},\"pattern\":{\"fillmode\":\"overlay\",\"size\":10,\"solidity\":0.2}},\"type\":\"barpolar\"}],\"carpet\":[{\"aaxis\":{\"endlinecolor\":\"#2a3f5f\",\"gridcolor\":\"white\",\"linecolor\":\"white\",\"minorgridcolor\":\"white\",\"startlinecolor\":\"#2a3f5f\"},\"baxis\":{\"endlinecolor\":\"#2a3f5f\",\"gridcolor\":\"white\",\"linecolor\":\"white\",\"minorgridcolor\":\"white\",\"startlinecolor\":\"#2a3f5f\"},\"type\":\"carpet\"}],\"choropleth\":[{\"colorbar\":{\"outlinewidth\":0,\"ticks\":\"\"},\"type\":\"choropleth\"}],\"contour\":[{\"colorbar\":{\"outlinewidth\":0,\"ticks\":\"\"},\"colorscale\":[[0.0,\"#0d0887\"],[0.1111111111111111,\"#46039f\"],[0.2222222222222222,\"#7201a8\"],[0.3333333333333333,\"#9c179e\"],[0.4444444444444444,\"#bd3786\"],[0.5555555555555556,\"#d8576b\"],[0.6666666666666666,\"#ed7953\"],[0.7777777777777778,\"#fb9f3a\"],[0.8888888888888888,\"#fdca26\"],[1.0,\"#f0f921\"]],\"type\":\"contour\"}],\"contourcarpet\":[{\"colorbar\":{\"outlinewidth\":0,\"ticks\":\"\"},\"type\":\"contourcarpet\"}],\"heatmap\":[{\"colorbar\":{\"outlinewidth\":0,\"ticks\":\"\"},\"colorscale\":[[0.0,\"#0d0887\"],[0.1111111111111111,\"#46039f\"],[0.2222222222222222,\"#7201a8\"],[0.3333333333333333,\"#9c179e\"],[0.4444444444444444,\"#bd3786\"],[0.5555555555555556,\"#d8576b\"],[0.6666666666666666,\"#ed7953\"],[0.7777777777777778,\"#fb9f3a\"],[0.8888888888888888,\"#fdca26\"],[1.0,\"#f0f921\"]],\"type\":\"heatmap\"}],\"heatmapgl\":[{\"colorbar\":{\"outlinewidth\":0,\"ticks\":\"\"},\"colorscale\":[[0.0,\"#0d0887\"],[0.1111111111111111,\"#46039f\"],[0.2222222222222222,\"#7201a8\"],[0.3333333333333333,\"#9c179e\"],[0.4444444444444444,\"#bd3786\"],[0.5555555555555556,\"#d8576b\"],[0.6666666666666666,\"#ed7953\"],[0.7777777777777778,\"#fb9f3a\"],[0.8888888888888888,\"#fdca26\"],[1.0,\"#f0f921\"]],\"type\":\"heatmapgl\"}],\"histogram\":[{\"marker\":{\"pattern\":{\"fillmode\":\"overlay\",\"size\":10,\"solidity\":0.2}},\"type\":\"histogram\"}],\"histogram2d\":[{\"colorbar\":{\"outlinewidth\":0,\"ticks\":\"\"},\"colorscale\":[[0.0,\"#0d0887\"],[0.1111111111111111,\"#46039f\"],[0.2222222222222222,\"#7201a8\"],[0.3333333333333333,\"#9c179e\"],[0.4444444444444444,\"#bd3786\"],[0.5555555555555556,\"#d8576b\"],[0.6666666666666666,\"#ed7953\"],[0.7777777777777778,\"#fb9f3a\"],[0.8888888888888888,\"#fdca26\"],[1.0,\"#f0f921\"]],\"type\":\"histogram2d\"}],\"histogram2dcontour\":[{\"colorbar\":{\"outlinewidth\":0,\"ticks\":\"\"},\"colorscale\":[[0.0,\"#0d0887\"],[0.1111111111111111,\"#46039f\"],[0.2222222222222222,\"#7201a8\"],[0.3333333333333333,\"#9c179e\"],[0.4444444444444444,\"#bd3786\"],[0.5555555555555556,\"#d8576b\"],[0.6666666666666666,\"#ed7953\"],[0.7777777777777778,\"#fb9f3a\"],[0.8888888888888888,\"#fdca26\"],[1.0,\"#f0f921\"]],\"type\":\"histogram2dcontour\"}],\"mesh3d\":[{\"colorbar\":{\"outlinewidth\":0,\"ticks\":\"\"},\"type\":\"mesh3d\"}],\"parcoords\":[{\"line\":{\"colorbar\":{\"outlinewidth\":0,\"ticks\":\"\"}},\"type\":\"parcoords\"}],\"pie\":[{\"automargin\":true,\"type\":\"pie\"}],\"scatter\":[{\"marker\":{\"colorbar\":{\"outlinewidth\":0,\"ticks\":\"\"}},\"type\":\"scatter\"}],\"scatter3d\":[{\"line\":{\"colorbar\":{\"outlinewidth\":0,\"ticks\":\"\"}},\"marker\":{\"colorbar\":{\"outlinewidth\":0,\"ticks\":\"\"}},\"type\":\"scatter3d\"}],\"scattercarpet\":[{\"marker\":{\"colorbar\":{\"outlinewidth\":0,\"ticks\":\"\"}},\"type\":\"scattercarpet\"}],\"scattergeo\":[{\"marker\":{\"colorbar\":{\"outlinewidth\":0,\"ticks\":\"\"}},\"type\":\"scattergeo\"}],\"scattergl\":[{\"marker\":{\"colorbar\":{\"outlinewidth\":0,\"ticks\":\"\"}},\"type\":\"scattergl\"}],\"scattermapbox\":[{\"marker\":{\"colorbar\":{\"outlinewidth\":0,\"ticks\":\"\"}},\"type\":\"scattermapbox\"}],\"scatterpolar\":[{\"marker\":{\"colorbar\":{\"outlinewidth\":0,\"ticks\":\"\"}},\"type\":\"scatterpolar\"}],\"scatterpolargl\":[{\"marker\":{\"colorbar\":{\"outlinewidth\":0,\"ticks\":\"\"}},\"type\":\"scatterpolargl\"}],\"scatterternary\":[{\"marker\":{\"colorbar\":{\"outlinewidth\":0,\"ticks\":\"\"}},\"type\":\"scatterternary\"}],\"surface\":[{\"colorbar\":{\"outlinewidth\":0,\"ticks\":\"\"},\"colorscale\":[[0.0,\"#0d0887\"],[0.1111111111111111,\"#46039f\"],[0.2222222222222222,\"#7201a8\"],[0.3333333333333333,\"#9c179e\"],[0.4444444444444444,\"#bd3786\"],[0.5555555555555556,\"#d8576b\"],[0.6666666666666666,\"#ed7953\"],[0.7777777777777778,\"#fb9f3a\"],[0.8888888888888888,\"#fdca26\"],[1.0,\"#f0f921\"]],\"type\":\"surface\"}],\"table\":[{\"cells\":{\"fill\":{\"color\":\"#EBF0F8\"},\"line\":{\"color\":\"white\"}},\"header\":{\"fill\":{\"color\":\"#C8D4E3\"},\"line\":{\"color\":\"white\"}},\"type\":\"table\"}]},\"layout\":{\"annotationdefaults\":{\"arrowcolor\":\"#2a3f5f\",\"arrowhead\":0,\"arrowwidth\":1},\"autotypenumbers\":\"strict\",\"coloraxis\":{\"colorbar\":{\"outlinewidth\":0,\"ticks\":\"\"}},\"colorscale\":{\"diverging\":[[0,\"#8e0152\"],[0.1,\"#c51b7d\"],[0.2,\"#de77ae\"],[0.3,\"#f1b6da\"],[0.4,\"#fde0ef\"],[0.5,\"#f7f7f7\"],[0.6,\"#e6f5d0\"],[0.7,\"#b8e186\"],[0.8,\"#7fbc41\"],[0.9,\"#4d9221\"],[1,\"#276419\"]],\"sequential\":[[0.0,\"#0d0887\"],[0.1111111111111111,\"#46039f\"],[0.2222222222222222,\"#7201a8\"],[0.3333333333333333,\"#9c179e\"],[0.4444444444444444,\"#bd3786\"],[0.5555555555555556,\"#d8576b\"],[0.6666666666666666,\"#ed7953\"],[0.7777777777777778,\"#fb9f3a\"],[0.8888888888888888,\"#fdca26\"],[1.0,\"#f0f921\"]],\"sequentialminus\":[[0.0,\"#0d0887\"],[0.1111111111111111,\"#46039f\"],[0.2222222222222222,\"#7201a8\"],[0.3333333333333333,\"#9c179e\"],[0.4444444444444444,\"#bd3786\"],[0.5555555555555556,\"#d8576b\"],[0.6666666666666666,\"#ed7953\"],[0.7777777777777778,\"#fb9f3a\"],[0.8888888888888888,\"#fdca26\"],[1.0,\"#f0f921\"]]},\"colorway\":[\"#636efa\",\"#EF553B\",\"#00cc96\",\"#ab63fa\",\"#FFA15A\",\"#19d3f3\",\"#FF6692\",\"#B6E880\",\"#FF97FF\",\"#FECB52\"],\"font\":{\"color\":\"#2a3f5f\"},\"geo\":{\"bgcolor\":\"white\",\"lakecolor\":\"white\",\"landcolor\":\"#E5ECF6\",\"showlakes\":true,\"showland\":true,\"subunitcolor\":\"white\"},\"hoverlabel\":{\"align\":\"left\"},\"hovermode\":\"closest\",\"mapbox\":{\"style\":\"light\"},\"paper_bgcolor\":\"white\",\"plot_bgcolor\":\"#E5ECF6\",\"polar\":{\"angularaxis\":{\"gridcolor\":\"white\",\"linecolor\":\"white\",\"ticks\":\"\"},\"bgcolor\":\"#E5ECF6\",\"radialaxis\":{\"gridcolor\":\"white\",\"linecolor\":\"white\",\"ticks\":\"\"}},\"scene\":{\"xaxis\":{\"backgroundcolor\":\"#E5ECF6\",\"gridcolor\":\"white\",\"gridwidth\":2,\"linecolor\":\"white\",\"showbackground\":true,\"ticks\":\"\",\"zerolinecolor\":\"white\"},\"yaxis\":{\"backgroundcolor\":\"#E5ECF6\",\"gridcolor\":\"white\",\"gridwidth\":2,\"linecolor\":\"white\",\"showbackground\":true,\"ticks\":\"\",\"zerolinecolor\":\"white\"},\"zaxis\":{\"backgroundcolor\":\"#E5ECF6\",\"gridcolor\":\"white\",\"gridwidth\":2,\"linecolor\":\"white\",\"showbackground\":true,\"ticks\":\"\",\"zerolinecolor\":\"white\"}},\"shapedefaults\":{\"line\":{\"color\":\"#2a3f5f\"}},\"ternary\":{\"aaxis\":{\"gridcolor\":\"white\",\"linecolor\":\"white\",\"ticks\":\"\"},\"baxis\":{\"gridcolor\":\"white\",\"linecolor\":\"white\",\"ticks\":\"\"},\"bgcolor\":\"#E5ECF6\",\"caxis\":{\"gridcolor\":\"white\",\"linecolor\":\"white\",\"ticks\":\"\"}},\"title\":{\"x\":0.05},\"xaxis\":{\"automargin\":true,\"gridcolor\":\"white\",\"linecolor\":\"white\",\"ticks\":\"\",\"title\":{\"standoff\":15},\"zerolinecolor\":\"white\",\"zerolinewidth\":2},\"yaxis\":{\"automargin\":true,\"gridcolor\":\"white\",\"linecolor\":\"white\",\"ticks\":\"\",\"title\":{\"standoff\":15},\"zerolinecolor\":\"white\",\"zerolinewidth\":2}}}},                        {\"responsive\": true}                    ).then(function(){\n                            \nvar gd = document.getElementById('65961f04-496a-4848-a22d-f462767263cf');\nvar x = new MutationObserver(function (mutations, observer) {{\n        var display = window.getComputedStyle(gd).display;\n        if (!display || display === 'none') {{\n            console.log([gd, 'removed!']);\n            Plotly.purge(gd);\n            observer.disconnect();\n        }}\n}});\n\n// Listen for the removal of the full notebook cells\nvar notebookContainer = gd.closest('#notebook-container');\nif (notebookContainer) {{\n    x.observe(notebookContainer, {childList: true});\n}}\n\n// Listen for the clearing of the current output cell\nvar outputEl = gd.closest('.output');\nif (outputEl) {{\n    x.observe(outputEl, {childList: true});\n}}\n\n                        })                };                });            </script>        </div>"
          },
          "metadata": {}
        }
      ]
    },
    {
      "cell_type": "code",
      "source": [
        "# Plotting the histogram of RestBP\n",
        "\n",
        "hist(df['RestBP'],'Distribution of RestBP')"
      ],
      "metadata": {
        "execution": {
          "iopub.status.busy": "2024-02-25T06:24:10.606727Z",
          "iopub.execute_input": "2024-02-25T06:24:10.606981Z",
          "iopub.status.idle": "2024-02-25T06:24:10.806368Z",
          "shell.execute_reply.started": "2024-02-25T06:24:10.606954Z",
          "shell.execute_reply": "2024-02-25T06:24:10.805471Z"
        },
        "trusted": true,
        "id": "dfoY6On29FLe",
        "outputId": "a4cf05da-4d1a-43a8-e03e-e4ab2538fbeb"
      },
      "execution_count": null,
      "outputs": [
        {
          "output_type": "display_data",
          "data": {
            "text/plain": "<Figure size 720x576 with 1 Axes>",
            "image/png": "[encoded data removed]"
          },
          "metadata": {
            "needs_background": "light"
          }
        }
      ]
    },
    {
      "cell_type": "code",
      "source": [
        "# Plotting the histogram of Chol\n",
        "\n",
        "hist(df['Chol'],'Distribution of Chol')"
      ],
      "metadata": {
        "execution": {
          "iopub.status.busy": "2024-02-25T06:24:10.808260Z",
          "iopub.execute_input": "2024-02-25T06:24:10.808622Z",
          "iopub.status.idle": "2024-02-25T06:24:10.986230Z",
          "shell.execute_reply.started": "2024-02-25T06:24:10.808580Z",
          "shell.execute_reply": "2024-02-25T06:24:10.985687Z"
        },
        "trusted": true,
        "id": "4bleiHEZ9FLf",
        "outputId": "7213bb67-9dcd-41f8-982b-46d8625f7337"
      },
      "execution_count": null,
      "outputs": [
        {
          "output_type": "display_data",
          "data": {
            "text/plain": "<Figure size 720x576 with 1 Axes>",
            "image/png": "[encoded data removed]"
          },
          "metadata": {
            "needs_background": "light"
          }
        }
      ]
    },
    {
      "cell_type": "code",
      "source": [
        "# Fasting Blood Sugar (FBS or Fasting Glucose)\n",
        "# Plotting the Pie Chart of Fbs\n",
        "\n",
        "import plotly.express as px\n",
        "s=df.Fbs.value_counts()\n",
        "fig = px.pie(df, values=s.values ,names=s.index)\n",
        "fig.update_traces(textposition='inside', textinfo='percent+label')\n",
        "fig.show()"
      ],
      "metadata": {
        "execution": {
          "iopub.status.busy": "2024-02-25T06:24:10.987274Z",
          "iopub.execute_input": "2024-02-25T06:24:10.987524Z",
          "iopub.status.idle": "2024-02-25T06:24:11.035251Z",
          "shell.execute_reply.started": "2024-02-25T06:24:10.987499Z",
          "shell.execute_reply": "2024-02-25T06:24:11.033956Z"
        },
        "trusted": true,
        "id": "XKG8HZwD9FLf",
        "outputId": "ef21f79c-9b8b-4570-c074-388e4a09cad8"
      },
      "execution_count": null,
      "outputs": [
        {
          "output_type": "display_data",
          "data": {
            "text/html": "<div>                            <div id=\"4e13eaa7-a8ba-46ee-b6c2-8df4f0b4cfdf\" class=\"plotly-graph-div\" style=\"height:525px; width:100%;\"></div>            <script type=\"text/javascript\">                require([\"plotly\"], function(Plotly) {                    window.PLOTLYENV=window.PLOTLYENV || {};                                    if (document.getElementById(\"4e13eaa7-a8ba-46ee-b6c2-8df4f0b4cfdf\")) {                    Plotly.newPlot(                        \"4e13eaa7-a8ba-46ee-b6c2-8df4f0b4cfdf\",                        [{\"domain\":{\"x\":[0.0,1.0],\"y\":[0.0,1.0]},\"hovertemplate\":\"label=%{label}<br>value=%{value}<extra></extra>\",\"labels\":[0,1],\"legendgroup\":\"\",\"name\":\"\",\"showlegend\":true,\"textinfo\":\"percent+label\",\"textposition\":\"inside\",\"type\":\"pie\",\"values\":[258,45]}],                        {\"legend\":{\"tracegroupgap\":0},\"margin\":{\"t\":60},\"template\":{\"data\":{\"bar\":[{\"error_x\":{\"color\":\"#2a3f5f\"},\"error_y\":{\"color\":\"#2a3f5f\"},\"marker\":{\"line\":{\"color\":\"#E5ECF6\",\"width\":0.5},\"pattern\":{\"fillmode\":\"overlay\",\"size\":10,\"solidity\":0.2}},\"type\":\"bar\"}],\"barpolar\":[{\"marker\":{\"line\":{\"color\":\"#E5ECF6\",\"width\":0.5},\"pattern\":{\"fillmode\":\"overlay\",\"size\":10,\"solidity\":0.2}},\"type\":\"barpolar\"}],\"carpet\":[{\"aaxis\":{\"endlinecolor\":\"#2a3f5f\",\"gridcolor\":\"white\",\"linecolor\":\"white\",\"minorgridcolor\":\"white\",\"startlinecolor\":\"#2a3f5f\"},\"baxis\":{\"endlinecolor\":\"#2a3f5f\",\"gridcolor\":\"white\",\"linecolor\":\"white\",\"minorgridcolor\":\"white\",\"startlinecolor\":\"#2a3f5f\"},\"type\":\"carpet\"}],\"choropleth\":[{\"colorbar\":{\"outlinewidth\":0,\"ticks\":\"\"},\"type\":\"choropleth\"}],\"contour\":[{\"colorbar\":{\"outlinewidth\":0,\"ticks\":\"\"},\"colorscale\":[[0.0,\"#0d0887\"],[0.1111111111111111,\"#46039f\"],[0.2222222222222222,\"#7201a8\"],[0.3333333333333333,\"#9c179e\"],[0.4444444444444444,\"#bd3786\"],[0.5555555555555556,\"#d8576b\"],[0.6666666666666666,\"#ed7953\"],[0.7777777777777778,\"#fb9f3a\"],[0.8888888888888888,\"#fdca26\"],[1.0,\"#f0f921\"]],\"type\":\"contour\"}],\"contourcarpet\":[{\"colorbar\":{\"outlinewidth\":0,\"ticks\":\"\"},\"type\":\"contourcarpet\"}],\"heatmap\":[{\"colorbar\":{\"outlinewidth\":0,\"ticks\":\"\"},\"colorscale\":[[0.0,\"#0d0887\"],[0.1111111111111111,\"#46039f\"],[0.2222222222222222,\"#7201a8\"],[0.3333333333333333,\"#9c179e\"],[0.4444444444444444,\"#bd3786\"],[0.5555555555555556,\"#d8576b\"],[0.6666666666666666,\"#ed7953\"],[0.7777777777777778,\"#fb9f3a\"],[0.8888888888888888,\"#fdca26\"],[1.0,\"#f0f921\"]],\"type\":\"heatmap\"}],\"heatmapgl\":[{\"colorbar\":{\"outlinewidth\":0,\"ticks\":\"\"},\"colorscale\":[[0.0,\"#0d0887\"],[0.1111111111111111,\"#46039f\"],[0.2222222222222222,\"#7201a8\"],[0.3333333333333333,\"#9c179e\"],[0.4444444444444444,\"#bd3786\"],[0.5555555555555556,\"#d8576b\"],[0.6666666666666666,\"#ed7953\"],[0.7777777777777778,\"#fb9f3a\"],[0.8888888888888888,\"#fdca26\"],[1.0,\"#f0f921\"]],\"type\":\"heatmapgl\"}],\"histogram\":[{\"marker\":{\"pattern\":{\"fillmode\":\"overlay\",\"size\":10,\"solidity\":0.2}},\"type\":\"histogram\"}],\"histogram2d\":[{\"colorbar\":{\"outlinewidth\":0,\"ticks\":\"\"},\"colorscale\":[[0.0,\"#0d0887\"],[0.1111111111111111,\"#46039f\"],[0.2222222222222222,\"#7201a8\"],[0.3333333333333333,\"#9c179e\"],[0.4444444444444444,\"#bd3786\"],[0.5555555555555556,\"#d8576b\"],[0.6666666666666666,\"#ed7953\"],[0.7777777777777778,\"#fb9f3a\"],[0.8888888888888888,\"#fdca26\"],[1.0,\"#f0f921\"]],\"type\":\"histogram2d\"}],\"histogram2dcontour\":[{\"colorbar\":{\"outlinewidth\":0,\"ticks\":\"\"},\"colorscale\":[[0.0,\"#0d0887\"],[0.1111111111111111,\"#46039f\"],[0.2222222222222222,\"#7201a8\"],[0.3333333333333333,\"#9c179e\"],[0.4444444444444444,\"#bd3786\"],[0.5555555555555556,\"#d8576b\"],[0.6666666666666666,\"#ed7953\"],[0.7777777777777778,\"#fb9f3a\"],[0.8888888888888888,\"#fdca26\"],[1.0,\"#f0f921\"]],\"type\":\"histogram2dcontour\"}],\"mesh3d\":[{\"colorbar\":{\"outlinewidth\":0,\"ticks\":\"\"},\"type\":\"mesh3d\"}],\"parcoords\":[{\"line\":{\"colorbar\":{\"outlinewidth\":0,\"ticks\":\"\"}},\"type\":\"parcoords\"}],\"pie\":[{\"automargin\":true,\"type\":\"pie\"}],\"scatter\":[{\"marker\":{\"colorbar\":{\"outlinewidth\":0,\"ticks\":\"\"}},\"type\":\"scatter\"}],\"scatter3d\":[{\"line\":{\"colorbar\":{\"outlinewidth\":0,\"ticks\":\"\"}},\"marker\":{\"colorbar\":{\"outlinewidth\":0,\"ticks\":\"\"}},\"type\":\"scatter3d\"}],\"scattercarpet\":[{\"marker\":{\"colorbar\":{\"outlinewidth\":0,\"ticks\":\"\"}},\"type\":\"scattercarpet\"}],\"scattergeo\":[{\"marker\":{\"colorbar\":{\"outlinewidth\":0,\"ticks\":\"\"}},\"type\":\"scattergeo\"}],\"scattergl\":[{\"marker\":{\"colorbar\":{\"outlinewidth\":0,\"ticks\":\"\"}},\"type\":\"scattergl\"}],\"scattermapbox\":[{\"marker\":{\"colorbar\":{\"outlinewidth\":0,\"ticks\":\"\"}},\"type\":\"scattermapbox\"}],\"scatterpolar\":[{\"marker\":{\"colorbar\":{\"outlinewidth\":0,\"ticks\":\"\"}},\"type\":\"scatterpolar\"}],\"scatterpolargl\":[{\"marker\":{\"colorbar\":{\"outlinewidth\":0,\"ticks\":\"\"}},\"type\":\"scatterpolargl\"}],\"scatterternary\":[{\"marker\":{\"colorbar\":{\"outlinewidth\":0,\"ticks\":\"\"}},\"type\":\"scatterternary\"}],\"surface\":[{\"colorbar\":{\"outlinewidth\":0,\"ticks\":\"\"},\"colorscale\":[[0.0,\"#0d0887\"],[0.1111111111111111,\"#46039f\"],[0.2222222222222222,\"#7201a8\"],[0.3333333333333333,\"#9c179e\"],[0.4444444444444444,\"#bd3786\"],[0.5555555555555556,\"#d8576b\"],[0.6666666666666666,\"#ed7953\"],[0.7777777777777778,\"#fb9f3a\"],[0.8888888888888888,\"#fdca26\"],[1.0,\"#f0f921\"]],\"type\":\"surface\"}],\"table\":[{\"cells\":{\"fill\":{\"color\":\"#EBF0F8\"},\"line\":{\"color\":\"white\"}},\"header\":{\"fill\":{\"color\":\"#C8D4E3\"},\"line\":{\"color\":\"white\"}},\"type\":\"table\"}]},\"layout\":{\"annotationdefaults\":{\"arrowcolor\":\"#2a3f5f\",\"arrowhead\":0,\"arrowwidth\":1},\"autotypenumbers\":\"strict\",\"coloraxis\":{\"colorbar\":{\"outlinewidth\":0,\"ticks\":\"\"}},\"colorscale\":{\"diverging\":[[0,\"#8e0152\"],[0.1,\"#c51b7d\"],[0.2,\"#de77ae\"],[0.3,\"#f1b6da\"],[0.4,\"#fde0ef\"],[0.5,\"#f7f7f7\"],[0.6,\"#e6f5d0\"],[0.7,\"#b8e186\"],[0.8,\"#7fbc41\"],[0.9,\"#4d9221\"],[1,\"#276419\"]],\"sequential\":[[0.0,\"#0d0887\"],[0.1111111111111111,\"#46039f\"],[0.2222222222222222,\"#7201a8\"],[0.3333333333333333,\"#9c179e\"],[0.4444444444444444,\"#bd3786\"],[0.5555555555555556,\"#d8576b\"],[0.6666666666666666,\"#ed7953\"],[0.7777777777777778,\"#fb9f3a\"],[0.8888888888888888,\"#fdca26\"],[1.0,\"#f0f921\"]],\"sequentialminus\":[[0.0,\"#0d0887\"],[0.1111111111111111,\"#46039f\"],[0.2222222222222222,\"#7201a8\"],[0.3333333333333333,\"#9c179e\"],[0.4444444444444444,\"#bd3786\"],[0.5555555555555556,\"#d8576b\"],[0.6666666666666666,\"#ed7953\"],[0.7777777777777778,\"#fb9f3a\"],[0.8888888888888888,\"#fdca26\"],[1.0,\"#f0f921\"]]},\"colorway\":[\"#636efa\",\"#EF553B\",\"#00cc96\",\"#ab63fa\",\"#FFA15A\",\"#19d3f3\",\"#FF6692\",\"#B6E880\",\"#FF97FF\",\"#FECB52\"],\"font\":{\"color\":\"#2a3f5f\"},\"geo\":{\"bgcolor\":\"white\",\"lakecolor\":\"white\",\"landcolor\":\"#E5ECF6\",\"showlakes\":true,\"showland\":true,\"subunitcolor\":\"white\"},\"hoverlabel\":{\"align\":\"left\"},\"hovermode\":\"closest\",\"mapbox\":{\"style\":\"light\"},\"paper_bgcolor\":\"white\",\"plot_bgcolor\":\"#E5ECF6\",\"polar\":{\"angularaxis\":{\"gridcolor\":\"white\",\"linecolor\":\"white\",\"ticks\":\"\"},\"bgcolor\":\"#E5ECF6\",\"radialaxis\":{\"gridcolor\":\"white\",\"linecolor\":\"white\",\"ticks\":\"\"}},\"scene\":{\"xaxis\":{\"backgroundcolor\":\"#E5ECF6\",\"gridcolor\":\"white\",\"gridwidth\":2,\"linecolor\":\"white\",\"showbackground\":true,\"ticks\":\"\",\"zerolinecolor\":\"white\"},\"yaxis\":{\"backgroundcolor\":\"#E5ECF6\",\"gridcolor\":\"white\",\"gridwidth\":2,\"linecolor\":\"white\",\"showbackground\":true,\"ticks\":\"\",\"zerolinecolor\":\"white\"},\"zaxis\":{\"backgroundcolor\":\"#E5ECF6\",\"gridcolor\":\"white\",\"gridwidth\":2,\"linecolor\":\"white\",\"showbackground\":true,\"ticks\":\"\",\"zerolinecolor\":\"white\"}},\"shapedefaults\":{\"line\":{\"color\":\"#2a3f5f\"}},\"ternary\":{\"aaxis\":{\"gridcolor\":\"white\",\"linecolor\":\"white\",\"ticks\":\"\"},\"baxis\":{\"gridcolor\":\"white\",\"linecolor\":\"white\",\"ticks\":\"\"},\"bgcolor\":\"#E5ECF6\",\"caxis\":{\"gridcolor\":\"white\",\"linecolor\":\"white\",\"ticks\":\"\"}},\"title\":{\"x\":0.05},\"xaxis\":{\"automargin\":true,\"gridcolor\":\"white\",\"linecolor\":\"white\",\"ticks\":\"\",\"title\":{\"standoff\":15},\"zerolinecolor\":\"white\",\"zerolinewidth\":2},\"yaxis\":{\"automargin\":true,\"gridcolor\":\"white\",\"linecolor\":\"white\",\"ticks\":\"\",\"title\":{\"standoff\":15},\"zerolinecolor\":\"white\",\"zerolinewidth\":2}}}},                        {\"responsive\": true}                    ).then(function(){\n                            \nvar gd = document.getElementById('4e13eaa7-a8ba-46ee-b6c2-8df4f0b4cfdf');\nvar x = new MutationObserver(function (mutations, observer) {{\n        var display = window.getComputedStyle(gd).display;\n        if (!display || display === 'none') {{\n            console.log([gd, 'removed!']);\n            Plotly.purge(gd);\n            observer.disconnect();\n        }}\n}});\n\n// Listen for the removal of the full notebook cells\nvar notebookContainer = gd.closest('#notebook-container');\nif (notebookContainer) {{\n    x.observe(notebookContainer, {childList: true});\n}}\n\n// Listen for the clearing of the current output cell\nvar outputEl = gd.closest('.output');\nif (outputEl) {{\n    x.observe(outputEl, {childList: true});\n}}\n\n                        })                };                });            </script>        </div>"
          },
          "metadata": {}
        }
      ]
    },
    {
      "cell_type": "code",
      "source": [
        "# Plotting the histogram of RestECG\n",
        "\n",
        "hist(df['RestECG'],'Distribution of RestECG')"
      ],
      "metadata": {
        "execution": {
          "iopub.status.busy": "2024-02-25T06:24:11.036470Z",
          "iopub.execute_input": "2024-02-25T06:24:11.036698Z",
          "iopub.status.idle": "2024-02-25T06:24:11.232237Z",
          "shell.execute_reply.started": "2024-02-25T06:24:11.036674Z",
          "shell.execute_reply": "2024-02-25T06:24:11.231093Z"
        },
        "trusted": true,
        "id": "RePmYROB9FLf",
        "outputId": "b1a50342-60a1-439e-8026-d1ba15404361"
      },
      "execution_count": null,
      "outputs": [
        {
          "output_type": "display_data",
          "data": {
            "text/plain": "<Figure size 720x576 with 1 Axes>",
            "image/png": "[encoded data removed]"
          },
          "metadata": {
            "needs_background": "light"
          }
        }
      ]
    },
    {
      "cell_type": "code",
      "source": [
        "# Plotting the histogram of MaxHR\n",
        "\n",
        "hist(df['MaxHR'],'Distribution of MaxHR')"
      ],
      "metadata": {
        "execution": {
          "iopub.status.busy": "2024-02-25T06:24:11.233501Z",
          "iopub.execute_input": "2024-02-25T06:24:11.233785Z",
          "iopub.status.idle": "2024-02-25T06:24:11.413667Z",
          "shell.execute_reply.started": "2024-02-25T06:24:11.233756Z",
          "shell.execute_reply": "2024-02-25T06:24:11.412472Z"
        },
        "trusted": true,
        "id": "uZzlwWyE9FLg",
        "outputId": "00d018a2-c573-4dc2-db23-d3af3d389c68"
      },
      "execution_count": null,
      "outputs": [
        {
          "output_type": "display_data",
          "data": {
            "text/plain": "<Figure size 720x576 with 1 Axes>",
            "image/png": "[encoded data removed]"
          },
          "metadata": {
            "needs_background": "light"
          }
        }
      ]
    },
    {
      "cell_type": "code",
      "source": [
        "# Plotting the Pie Chart of ExAng\n",
        "\n",
        "import plotly.express as px\n",
        "s=df.ExAng.value_counts()\n",
        "fig = px.pie(df, values=s.values ,names=s.index)\n",
        "fig.update_traces(textposition='inside', textinfo='percent+label')\n",
        "fig.show()"
      ],
      "metadata": {
        "execution": {
          "iopub.status.busy": "2024-02-25T06:24:11.414921Z",
          "iopub.execute_input": "2024-02-25T06:24:11.415181Z",
          "iopub.status.idle": "2024-02-25T06:24:11.598107Z",
          "shell.execute_reply.started": "2024-02-25T06:24:11.415154Z",
          "shell.execute_reply": "2024-02-25T06:24:11.597176Z"
        },
        "trusted": true,
        "id": "HMv623OH9FLg",
        "outputId": "f8fcb4d4-b8ab-4d9b-ed4b-df12662f6264"
      },
      "execution_count": null,
      "outputs": [
        {
          "output_type": "display_data",
          "data": {
            "text/html": "<div>                            <div id=\"a369f064-94da-4d6f-90ca-8e3f13640696\" class=\"plotly-graph-div\" style=\"height:525px; width:100%;\"></div>            <script type=\"text/javascript\">                require([\"plotly\"], function(Plotly) {                    window.PLOTLYENV=window.PLOTLYENV || {};                                    if (document.getElementById(\"a369f064-94da-4d6f-90ca-8e3f13640696\")) {                    Plotly.newPlot(                        \"a369f064-94da-4d6f-90ca-8e3f13640696\",                        [{\"domain\":{\"x\":[0.0,1.0],\"y\":[0.0,1.0]},\"hovertemplate\":\"label=%{label}<br>value=%{value}<extra></extra>\",\"labels\":[0,1],\"legendgroup\":\"\",\"name\":\"\",\"showlegend\":true,\"textinfo\":\"percent+label\",\"textposition\":\"inside\",\"type\":\"pie\",\"values\":[204,99]}],                        {\"legend\":{\"tracegroupgap\":0},\"margin\":{\"t\":60},\"template\":{\"data\":{\"bar\":[{\"error_x\":{\"color\":\"#2a3f5f\"},\"error_y\":{\"color\":\"#2a3f5f\"},\"marker\":{\"line\":{\"color\":\"#E5ECF6\",\"width\":0.5},\"pattern\":{\"fillmode\":\"overlay\",\"size\":10,\"solidity\":0.2}},\"type\":\"bar\"}],\"barpolar\":[{\"marker\":{\"line\":{\"color\":\"#E5ECF6\",\"width\":0.5},\"pattern\":{\"fillmode\":\"overlay\",\"size\":10,\"solidity\":0.2}},\"type\":\"barpolar\"}],\"carpet\":[{\"aaxis\":{\"endlinecolor\":\"#2a3f5f\",\"gridcolor\":\"white\",\"linecolor\":\"white\",\"minorgridcolor\":\"white\",\"startlinecolor\":\"#2a3f5f\"},\"baxis\":{\"endlinecolor\":\"#2a3f5f\",\"gridcolor\":\"white\",\"linecolor\":\"white\",\"minorgridcolor\":\"white\",\"startlinecolor\":\"#2a3f5f\"},\"type\":\"carpet\"}],\"choropleth\":[{\"colorbar\":{\"outlinewidth\":0,\"ticks\":\"\"},\"type\":\"choropleth\"}],\"contour\":[{\"colorbar\":{\"outlinewidth\":0,\"ticks\":\"\"},\"colorscale\":[[0.0,\"#0d0887\"],[0.1111111111111111,\"#46039f\"],[0.2222222222222222,\"#7201a8\"],[0.3333333333333333,\"#9c179e\"],[0.4444444444444444,\"#bd3786\"],[0.5555555555555556,\"#d8576b\"],[0.6666666666666666,\"#ed7953\"],[0.7777777777777778,\"#fb9f3a\"],[0.8888888888888888,\"#fdca26\"],[1.0,\"#f0f921\"]],\"type\":\"contour\"}],\"contourcarpet\":[{\"colorbar\":{\"outlinewidth\":0,\"ticks\":\"\"},\"type\":\"contourcarpet\"}],\"heatmap\":[{\"colorbar\":{\"outlinewidth\":0,\"ticks\":\"\"},\"colorscale\":[[0.0,\"#0d0887\"],[0.1111111111111111,\"#46039f\"],[0.2222222222222222,\"#7201a8\"],[0.3333333333333333,\"#9c179e\"],[0.4444444444444444,\"#bd3786\"],[0.5555555555555556,\"#d8576b\"],[0.6666666666666666,\"#ed7953\"],[0.7777777777777778,\"#fb9f3a\"],[0.8888888888888888,\"#fdca26\"],[1.0,\"#f0f921\"]],\"type\":\"heatmap\"}],\"heatmapgl\":[{\"colorbar\":{\"outlinewidth\":0,\"ticks\":\"\"},\"colorscale\":[[0.0,\"#0d0887\"],[0.1111111111111111,\"#46039f\"],[0.2222222222222222,\"#7201a8\"],[0.3333333333333333,\"#9c179e\"],[0.4444444444444444,\"#bd3786\"],[0.5555555555555556,\"#d8576b\"],[0.6666666666666666,\"#ed7953\"],[0.7777777777777778,\"#fb9f3a\"],[0.8888888888888888,\"#fdca26\"],[1.0,\"#f0f921\"]],\"type\":\"heatmapgl\"}],\"histogram\":[{\"marker\":{\"pattern\":{\"fillmode\":\"overlay\",\"size\":10,\"solidity\":0.2}},\"type\":\"histogram\"}],\"histogram2d\":[{\"colorbar\":{\"outlinewidth\":0,\"ticks\":\"\"},\"colorscale\":[[0.0,\"#0d0887\"],[0.1111111111111111,\"#46039f\"],[0.2222222222222222,\"#7201a8\"],[0.3333333333333333,\"#9c179e\"],[0.4444444444444444,\"#bd3786\"],[0.5555555555555556,\"#d8576b\"],[0.6666666666666666,\"#ed7953\"],[0.7777777777777778,\"#fb9f3a\"],[0.8888888888888888,\"#fdca26\"],[1.0,\"#f0f921\"]],\"type\":\"histogram2d\"}],\"histogram2dcontour\":[{\"colorbar\":{\"outlinewidth\":0,\"ticks\":\"\"},\"colorscale\":[[0.0,\"#0d0887\"],[0.1111111111111111,\"#46039f\"],[0.2222222222222222,\"#7201a8\"],[0.3333333333333333,\"#9c179e\"],[0.4444444444444444,\"#bd3786\"],[0.5555555555555556,\"#d8576b\"],[0.6666666666666666,\"#ed7953\"],[0.7777777777777778,\"#fb9f3a\"],[0.8888888888888888,\"#fdca26\"],[1.0,\"#f0f921\"]],\"type\":\"histogram2dcontour\"}],\"mesh3d\":[{\"colorbar\":{\"outlinewidth\":0,\"ticks\":\"\"},\"type\":\"mesh3d\"}],\"parcoords\":[{\"line\":{\"colorbar\":{\"outlinewidth\":0,\"ticks\":\"\"}},\"type\":\"parcoords\"}],\"pie\":[{\"automargin\":true,\"type\":\"pie\"}],\"scatter\":[{\"marker\":{\"colorbar\":{\"outlinewidth\":0,\"ticks\":\"\"}},\"type\":\"scatter\"}],\"scatter3d\":[{\"line\":{\"colorbar\":{\"outlinewidth\":0,\"ticks\":\"\"}},\"marker\":{\"colorbar\":{\"outlinewidth\":0,\"ticks\":\"\"}},\"type\":\"scatter3d\"}],\"scattercarpet\":[{\"marker\":{\"colorbar\":{\"outlinewidth\":0,\"ticks\":\"\"}},\"type\":\"scattercarpet\"}],\"scattergeo\":[{\"marker\":{\"colorbar\":{\"outlinewidth\":0,\"ticks\":\"\"}},\"type\":\"scattergeo\"}],\"scattergl\":[{\"marker\":{\"colorbar\":{\"outlinewidth\":0,\"ticks\":\"\"}},\"type\":\"scattergl\"}],\"scattermapbox\":[{\"marker\":{\"colorbar\":{\"outlinewidth\":0,\"ticks\":\"\"}},\"type\":\"scattermapbox\"}],\"scatterpolar\":[{\"marker\":{\"colorbar\":{\"outlinewidth\":0,\"ticks\":\"\"}},\"type\":\"scatterpolar\"}],\"scatterpolargl\":[{\"marker\":{\"colorbar\":{\"outlinewidth\":0,\"ticks\":\"\"}},\"type\":\"scatterpolargl\"}],\"scatterternary\":[{\"marker\":{\"colorbar\":{\"outlinewidth\":0,\"ticks\":\"\"}},\"type\":\"scatterternary\"}],\"surface\":[{\"colorbar\":{\"outlinewidth\":0,\"ticks\":\"\"},\"colorscale\":[[0.0,\"#0d0887\"],[0.1111111111111111,\"#46039f\"],[0.2222222222222222,\"#7201a8\"],[0.3333333333333333,\"#9c179e\"],[0.4444444444444444,\"#bd3786\"],[0.5555555555555556,\"#d8576b\"],[0.6666666666666666,\"#ed7953\"],[0.7777777777777778,\"#fb9f3a\"],[0.8888888888888888,\"#fdca26\"],[1.0,\"#f0f921\"]],\"type\":\"surface\"}],\"table\":[{\"cells\":{\"fill\":{\"color\":\"#EBF0F8\"},\"line\":{\"color\":\"white\"}},\"header\":{\"fill\":{\"color\":\"#C8D4E3\"},\"line\":{\"color\":\"white\"}},\"type\":\"table\"}]},\"layout\":{\"annotationdefaults\":{\"arrowcolor\":\"#2a3f5f\",\"arrowhead\":0,\"arrowwidth\":1},\"autotypenumbers\":\"strict\",\"coloraxis\":{\"colorbar\":{\"outlinewidth\":0,\"ticks\":\"\"}},\"colorscale\":{\"diverging\":[[0,\"#8e0152\"],[0.1,\"#c51b7d\"],[0.2,\"#de77ae\"],[0.3,\"#f1b6da\"],[0.4,\"#fde0ef\"],[0.5,\"#f7f7f7\"],[0.6,\"#e6f5d0\"],[0.7,\"#b8e186\"],[0.8,\"#7fbc41\"],[0.9,\"#4d9221\"],[1,\"#276419\"]],\"sequential\":[[0.0,\"#0d0887\"],[0.1111111111111111,\"#46039f\"],[0.2222222222222222,\"#7201a8\"],[0.3333333333333333,\"#9c179e\"],[0.4444444444444444,\"#bd3786\"],[0.5555555555555556,\"#d8576b\"],[0.6666666666666666,\"#ed7953\"],[0.7777777777777778,\"#fb9f3a\"],[0.8888888888888888,\"#fdca26\"],[1.0,\"#f0f921\"]],\"sequentialminus\":[[0.0,\"#0d0887\"],[0.1111111111111111,\"#46039f\"],[0.2222222222222222,\"#7201a8\"],[0.3333333333333333,\"#9c179e\"],[0.4444444444444444,\"#bd3786\"],[0.5555555555555556,\"#d8576b\"],[0.6666666666666666,\"#ed7953\"],[0.7777777777777778,\"#fb9f3a\"],[0.8888888888888888,\"#fdca26\"],[1.0,\"#f0f921\"]]},\"colorway\":[\"#636efa\",\"#EF553B\",\"#00cc96\",\"#ab63fa\",\"#FFA15A\",\"#19d3f3\",\"#FF6692\",\"#B6E880\",\"#FF97FF\",\"#FECB52\"],\"font\":{\"color\":\"#2a3f5f\"},\"geo\":{\"bgcolor\":\"white\",\"lakecolor\":\"white\",\"landcolor\":\"#E5ECF6\",\"showlakes\":true,\"showland\":true,\"subunitcolor\":\"white\"},\"hoverlabel\":{\"align\":\"left\"},\"hovermode\":\"closest\",\"mapbox\":{\"style\":\"light\"},\"paper_bgcolor\":\"white\",\"plot_bgcolor\":\"#E5ECF6\",\"polar\":{\"angularaxis\":{\"gridcolor\":\"white\",\"linecolor\":\"white\",\"ticks\":\"\"},\"bgcolor\":\"#E5ECF6\",\"radialaxis\":{\"gridcolor\":\"white\",\"linecolor\":\"white\",\"ticks\":\"\"}},\"scene\":{\"xaxis\":{\"backgroundcolor\":\"#E5ECF6\",\"gridcolor\":\"white\",\"gridwidth\":2,\"linecolor\":\"white\",\"showbackground\":true,\"ticks\":\"\",\"zerolinecolor\":\"white\"},\"yaxis\":{\"backgroundcolor\":\"#E5ECF6\",\"gridcolor\":\"white\",\"gridwidth\":2,\"linecolor\":\"white\",\"showbackground\":true,\"ticks\":\"\",\"zerolinecolor\":\"white\"},\"zaxis\":{\"backgroundcolor\":\"#E5ECF6\",\"gridcolor\":\"white\",\"gridwidth\":2,\"linecolor\":\"white\",\"showbackground\":true,\"ticks\":\"\",\"zerolinecolor\":\"white\"}},\"shapedefaults\":{\"line\":{\"color\":\"#2a3f5f\"}},\"ternary\":{\"aaxis\":{\"gridcolor\":\"white\",\"linecolor\":\"white\",\"ticks\":\"\"},\"baxis\":{\"gridcolor\":\"white\",\"linecolor\":\"white\",\"ticks\":\"\"},\"bgcolor\":\"#E5ECF6\",\"caxis\":{\"gridcolor\":\"white\",\"linecolor\":\"white\",\"ticks\":\"\"}},\"title\":{\"x\":0.05},\"xaxis\":{\"automargin\":true,\"gridcolor\":\"white\",\"linecolor\":\"white\",\"ticks\":\"\",\"title\":{\"standoff\":15},\"zerolinecolor\":\"white\",\"zerolinewidth\":2},\"yaxis\":{\"automargin\":true,\"gridcolor\":\"white\",\"linecolor\":\"white\",\"ticks\":\"\",\"title\":{\"standoff\":15},\"zerolinecolor\":\"white\",\"zerolinewidth\":2}}}},                        {\"responsive\": true}                    ).then(function(){\n                            \nvar gd = document.getElementById('a369f064-94da-4d6f-90ca-8e3f13640696');\nvar x = new MutationObserver(function (mutations, observer) {{\n        var display = window.getComputedStyle(gd).display;\n        if (!display || display === 'none') {{\n            console.log([gd, 'removed!']);\n            Plotly.purge(gd);\n            observer.disconnect();\n        }}\n}});\n\n// Listen for the removal of the full notebook cells\nvar notebookContainer = gd.closest('#notebook-container');\nif (notebookContainer) {{\n    x.observe(notebookContainer, {childList: true});\n}}\n\n// Listen for the clearing of the current output cell\nvar outputEl = gd.closest('.output');\nif (outputEl) {{\n    x.observe(outputEl, {childList: true});\n}}\n\n                        })                };                });            </script>        </div>"
          },
          "metadata": {}
        }
      ]
    },
    {
      "cell_type": "code",
      "source": [
        "# Plotting the histogram of Oldpeak\n",
        "\n",
        "hist(df['Oldpeak'],'Distribution of Oldpeak')"
      ],
      "metadata": {
        "execution": {
          "iopub.status.busy": "2024-02-25T06:24:11.599002Z",
          "iopub.execute_input": "2024-02-25T06:24:11.599229Z",
          "iopub.status.idle": "2024-02-25T06:24:11.783978Z",
          "shell.execute_reply.started": "2024-02-25T06:24:11.599205Z",
          "shell.execute_reply": "2024-02-25T06:24:11.782799Z"
        },
        "trusted": true,
        "id": "ubnmfx9r9FLg",
        "outputId": "19646534-7ba6-4e8c-878a-40d53fc70e0f"
      },
      "execution_count": null,
      "outputs": [
        {
          "output_type": "display_data",
          "data": {
            "text/plain": "<Figure size 720x576 with 1 Axes>",
            "image/png": "[encoded data removed]"
          },
          "metadata": {
            "needs_background": "light"
          }
        }
      ]
    },
    {
      "cell_type": "code",
      "source": [
        "# Plotting the Pie Chart of Slope\n",
        "\n",
        "import plotly.express as px\n",
        "s=df.Slope.value_counts()\n",
        "fig = px.pie(df, values=s.values ,names=s.index)\n",
        "fig.update_traces(textposition='inside', textinfo='percent+label')\n",
        "fig.show()"
      ],
      "metadata": {
        "execution": {
          "iopub.status.busy": "2024-02-25T06:24:11.785235Z",
          "iopub.execute_input": "2024-02-25T06:24:11.785493Z",
          "iopub.status.idle": "2024-02-25T06:24:11.832939Z",
          "shell.execute_reply.started": "2024-02-25T06:24:11.785468Z",
          "shell.execute_reply": "2024-02-25T06:24:11.831826Z"
        },
        "trusted": true,
        "id": "jCy7_m9j9FLg",
        "outputId": "b3a3bdeb-adbc-4585-fb0e-33982486c2da"
      },
      "execution_count": null,
      "outputs": [
        {
          "output_type": "display_data",
          "data": {
            "text/html": "<div>                            <div id=\"a703a730-f285-46fb-89a9-116b115e969b\" class=\"plotly-graph-div\" style=\"height:525px; width:100%;\"></div>            <script type=\"text/javascript\">                require([\"plotly\"], function(Plotly) {                    window.PLOTLYENV=window.PLOTLYENV || {};                                    if (document.getElementById(\"a703a730-f285-46fb-89a9-116b115e969b\")) {                    Plotly.newPlot(                        \"a703a730-f285-46fb-89a9-116b115e969b\",                        [{\"domain\":{\"x\":[0.0,1.0],\"y\":[0.0,1.0]},\"hovertemplate\":\"label=%{label}<br>value=%{value}<extra></extra>\",\"labels\":[1,2,3],\"legendgroup\":\"\",\"name\":\"\",\"showlegend\":true,\"textinfo\":\"percent+label\",\"textposition\":\"inside\",\"type\":\"pie\",\"values\":[142,140,21]}],                        {\"legend\":{\"tracegroupgap\":0},\"margin\":{\"t\":60},\"template\":{\"data\":{\"bar\":[{\"error_x\":{\"color\":\"#2a3f5f\"},\"error_y\":{\"color\":\"#2a3f5f\"},\"marker\":{\"line\":{\"color\":\"#E5ECF6\",\"width\":0.5},\"pattern\":{\"fillmode\":\"overlay\",\"size\":10,\"solidity\":0.2}},\"type\":\"bar\"}],\"barpolar\":[{\"marker\":{\"line\":{\"color\":\"#E5ECF6\",\"width\":0.5},\"pattern\":{\"fillmode\":\"overlay\",\"size\":10,\"solidity\":0.2}},\"type\":\"barpolar\"}],\"carpet\":[{\"aaxis\":{\"endlinecolor\":\"#2a3f5f\",\"gridcolor\":\"white\",\"linecolor\":\"white\",\"minorgridcolor\":\"white\",\"startlinecolor\":\"#2a3f5f\"},\"baxis\":{\"endlinecolor\":\"#2a3f5f\",\"gridcolor\":\"white\",\"linecolor\":\"white\",\"minorgridcolor\":\"white\",\"startlinecolor\":\"#2a3f5f\"},\"type\":\"carpet\"}],\"choropleth\":[{\"colorbar\":{\"outlinewidth\":0,\"ticks\":\"\"},\"type\":\"choropleth\"}],\"contour\":[{\"colorbar\":{\"outlinewidth\":0,\"ticks\":\"\"},\"colorscale\":[[0.0,\"#0d0887\"],[0.1111111111111111,\"#46039f\"],[0.2222222222222222,\"#7201a8\"],[0.3333333333333333,\"#9c179e\"],[0.4444444444444444,\"#bd3786\"],[0.5555555555555556,\"#d8576b\"],[0.6666666666666666,\"#ed7953\"],[0.7777777777777778,\"#fb9f3a\"],[0.8888888888888888,\"#fdca26\"],[1.0,\"#f0f921\"]],\"type\":\"contour\"}],\"contourcarpet\":[{\"colorbar\":{\"outlinewidth\":0,\"ticks\":\"\"},\"type\":\"contourcarpet\"}],\"heatmap\":[{\"colorbar\":{\"outlinewidth\":0,\"ticks\":\"\"},\"colorscale\":[[0.0,\"#0d0887\"],[0.1111111111111111,\"#46039f\"],[0.2222222222222222,\"#7201a8\"],[0.3333333333333333,\"#9c179e\"],[0.4444444444444444,\"#bd3786\"],[0.5555555555555556,\"#d8576b\"],[0.6666666666666666,\"#ed7953\"],[0.7777777777777778,\"#fb9f3a\"],[0.8888888888888888,\"#fdca26\"],[1.0,\"#f0f921\"]],\"type\":\"heatmap\"}],\"heatmapgl\":[{\"colorbar\":{\"outlinewidth\":0,\"ticks\":\"\"},\"colorscale\":[[0.0,\"#0d0887\"],[0.1111111111111111,\"#46039f\"],[0.2222222222222222,\"#7201a8\"],[0.3333333333333333,\"#9c179e\"],[0.4444444444444444,\"#bd3786\"],[0.5555555555555556,\"#d8576b\"],[0.6666666666666666,\"#ed7953\"],[0.7777777777777778,\"#fb9f3a\"],[0.8888888888888888,\"#fdca26\"],[1.0,\"#f0f921\"]],\"type\":\"heatmapgl\"}],\"histogram\":[{\"marker\":{\"pattern\":{\"fillmode\":\"overlay\",\"size\":10,\"solidity\":0.2}},\"type\":\"histogram\"}],\"histogram2d\":[{\"colorbar\":{\"outlinewidth\":0,\"ticks\":\"\"},\"colorscale\":[[0.0,\"#0d0887\"],[0.1111111111111111,\"#46039f\"],[0.2222222222222222,\"#7201a8\"],[0.3333333333333333,\"#9c179e\"],[0.4444444444444444,\"#bd3786\"],[0.5555555555555556,\"#d8576b\"],[0.6666666666666666,\"#ed7953\"],[0.7777777777777778,\"#fb9f3a\"],[0.8888888888888888,\"#fdca26\"],[1.0,\"#f0f921\"]],\"type\":\"histogram2d\"}],\"histogram2dcontour\":[{\"colorbar\":{\"outlinewidth\":0,\"ticks\":\"\"},\"colorscale\":[[0.0,\"#0d0887\"],[0.1111111111111111,\"#46039f\"],[0.2222222222222222,\"#7201a8\"],[0.3333333333333333,\"#9c179e\"],[0.4444444444444444,\"#bd3786\"],[0.5555555555555556,\"#d8576b\"],[0.6666666666666666,\"#ed7953\"],[0.7777777777777778,\"#fb9f3a\"],[0.8888888888888888,\"#fdca26\"],[1.0,\"#f0f921\"]],\"type\":\"histogram2dcontour\"}],\"mesh3d\":[{\"colorbar\":{\"outlinewidth\":0,\"ticks\":\"\"},\"type\":\"mesh3d\"}],\"parcoords\":[{\"line\":{\"colorbar\":{\"outlinewidth\":0,\"ticks\":\"\"}},\"type\":\"parcoords\"}],\"pie\":[{\"automargin\":true,\"type\":\"pie\"}],\"scatter\":[{\"marker\":{\"colorbar\":{\"outlinewidth\":0,\"ticks\":\"\"}},\"type\":\"scatter\"}],\"scatter3d\":[{\"line\":{\"colorbar\":{\"outlinewidth\":0,\"ticks\":\"\"}},\"marker\":{\"colorbar\":{\"outlinewidth\":0,\"ticks\":\"\"}},\"type\":\"scatter3d\"}],\"scattercarpet\":[{\"marker\":{\"colorbar\":{\"outlinewidth\":0,\"ticks\":\"\"}},\"type\":\"scattercarpet\"}],\"scattergeo\":[{\"marker\":{\"colorbar\":{\"outlinewidth\":0,\"ticks\":\"\"}},\"type\":\"scattergeo\"}],\"scattergl\":[{\"marker\":{\"colorbar\":{\"outlinewidth\":0,\"ticks\":\"\"}},\"type\":\"scattergl\"}],\"scattermapbox\":[{\"marker\":{\"colorbar\":{\"outlinewidth\":0,\"ticks\":\"\"}},\"type\":\"scattermapbox\"}],\"scatterpolar\":[{\"marker\":{\"colorbar\":{\"outlinewidth\":0,\"ticks\":\"\"}},\"type\":\"scatterpolar\"}],\"scatterpolargl\":[{\"marker\":{\"colorbar\":{\"outlinewidth\":0,\"ticks\":\"\"}},\"type\":\"scatterpolargl\"}],\"scatterternary\":[{\"marker\":{\"colorbar\":{\"outlinewidth\":0,\"ticks\":\"\"}},\"type\":\"scatterternary\"}],\"surface\":[{\"colorbar\":{\"outlinewidth\":0,\"ticks\":\"\"},\"colorscale\":[[0.0,\"#0d0887\"],[0.1111111111111111,\"#46039f\"],[0.2222222222222222,\"#7201a8\"],[0.3333333333333333,\"#9c179e\"],[0.4444444444444444,\"#bd3786\"],[0.5555555555555556,\"#d8576b\"],[0.6666666666666666,\"#ed7953\"],[0.7777777777777778,\"#fb9f3a\"],[0.8888888888888888,\"#fdca26\"],[1.0,\"#f0f921\"]],\"type\":\"surface\"}],\"table\":[{\"cells\":{\"fill\":{\"color\":\"#EBF0F8\"},\"line\":{\"color\":\"white\"}},\"header\":{\"fill\":{\"color\":\"#C8D4E3\"},\"line\":{\"color\":\"white\"}},\"type\":\"table\"}]},\"layout\":{\"annotationdefaults\":{\"arrowcolor\":\"#2a3f5f\",\"arrowhead\":0,\"arrowwidth\":1},\"autotypenumbers\":\"strict\",\"coloraxis\":{\"colorbar\":{\"outlinewidth\":0,\"ticks\":\"\"}},\"colorscale\":{\"diverging\":[[0,\"#8e0152\"],[0.1,\"#c51b7d\"],[0.2,\"#de77ae\"],[0.3,\"#f1b6da\"],[0.4,\"#fde0ef\"],[0.5,\"#f7f7f7\"],[0.6,\"#e6f5d0\"],[0.7,\"#b8e186\"],[0.8,\"#7fbc41\"],[0.9,\"#4d9221\"],[1,\"#276419\"]],\"sequential\":[[0.0,\"#0d0887\"],[0.1111111111111111,\"#46039f\"],[0.2222222222222222,\"#7201a8\"],[0.3333333333333333,\"#9c179e\"],[0.4444444444444444,\"#bd3786\"],[0.5555555555555556,\"#d8576b\"],[0.6666666666666666,\"#ed7953\"],[0.7777777777777778,\"#fb9f3a\"],[0.8888888888888888,\"#fdca26\"],[1.0,\"#f0f921\"]],\"sequentialminus\":[[0.0,\"#0d0887\"],[0.1111111111111111,\"#46039f\"],[0.2222222222222222,\"#7201a8\"],[0.3333333333333333,\"#9c179e\"],[0.4444444444444444,\"#bd3786\"],[0.5555555555555556,\"#d8576b\"],[0.6666666666666666,\"#ed7953\"],[0.7777777777777778,\"#fb9f3a\"],[0.8888888888888888,\"#fdca26\"],[1.0,\"#f0f921\"]]},\"colorway\":[\"#636efa\",\"#EF553B\",\"#00cc96\",\"#ab63fa\",\"#FFA15A\",\"#19d3f3\",\"#FF6692\",\"#B6E880\",\"#FF97FF\",\"#FECB52\"],\"font\":{\"color\":\"#2a3f5f\"},\"geo\":{\"bgcolor\":\"white\",\"lakecolor\":\"white\",\"landcolor\":\"#E5ECF6\",\"showlakes\":true,\"showland\":true,\"subunitcolor\":\"white\"},\"hoverlabel\":{\"align\":\"left\"},\"hovermode\":\"closest\",\"mapbox\":{\"style\":\"light\"},\"paper_bgcolor\":\"white\",\"plot_bgcolor\":\"#E5ECF6\",\"polar\":{\"angularaxis\":{\"gridcolor\":\"white\",\"linecolor\":\"white\",\"ticks\":\"\"},\"bgcolor\":\"#E5ECF6\",\"radialaxis\":{\"gridcolor\":\"white\",\"linecolor\":\"white\",\"ticks\":\"\"}},\"scene\":{\"xaxis\":{\"backgroundcolor\":\"#E5ECF6\",\"gridcolor\":\"white\",\"gridwidth\":2,\"linecolor\":\"white\",\"showbackground\":true,\"ticks\":\"\",\"zerolinecolor\":\"white\"},\"yaxis\":{\"backgroundcolor\":\"#E5ECF6\",\"gridcolor\":\"white\",\"gridwidth\":2,\"linecolor\":\"white\",\"showbackground\":true,\"ticks\":\"\",\"zerolinecolor\":\"white\"},\"zaxis\":{\"backgroundcolor\":\"#E5ECF6\",\"gridcolor\":\"white\",\"gridwidth\":2,\"linecolor\":\"white\",\"showbackground\":true,\"ticks\":\"\",\"zerolinecolor\":\"white\"}},\"shapedefaults\":{\"line\":{\"color\":\"#2a3f5f\"}},\"ternary\":{\"aaxis\":{\"gridcolor\":\"white\",\"linecolor\":\"white\",\"ticks\":\"\"},\"baxis\":{\"gridcolor\":\"white\",\"linecolor\":\"white\",\"ticks\":\"\"},\"bgcolor\":\"#E5ECF6\",\"caxis\":{\"gridcolor\":\"white\",\"linecolor\":\"white\",\"ticks\":\"\"}},\"title\":{\"x\":0.05},\"xaxis\":{\"automargin\":true,\"gridcolor\":\"white\",\"linecolor\":\"white\",\"ticks\":\"\",\"title\":{\"standoff\":15},\"zerolinecolor\":\"white\",\"zerolinewidth\":2},\"yaxis\":{\"automargin\":true,\"gridcolor\":\"white\",\"linecolor\":\"white\",\"ticks\":\"\",\"title\":{\"standoff\":15},\"zerolinecolor\":\"white\",\"zerolinewidth\":2}}}},                        {\"responsive\": true}                    ).then(function(){\n                            \nvar gd = document.getElementById('a703a730-f285-46fb-89a9-116b115e969b');\nvar x = new MutationObserver(function (mutations, observer) {{\n        var display = window.getComputedStyle(gd).display;\n        if (!display || display === 'none') {{\n            console.log([gd, 'removed!']);\n            Plotly.purge(gd);\n            observer.disconnect();\n        }}\n}});\n\n// Listen for the removal of the full notebook cells\nvar notebookContainer = gd.closest('#notebook-container');\nif (notebookContainer) {{\n    x.observe(notebookContainer, {childList: true});\n}}\n\n// Listen for the clearing of the current output cell\nvar outputEl = gd.closest('.output');\nif (outputEl) {{\n    x.observe(outputEl, {childList: true});\n}}\n\n                        })                };                });            </script>        </div>"
          },
          "metadata": {}
        }
      ]
    },
    {
      "cell_type": "code",
      "source": [
        "# Plotting the Pie Chart of Ca\n",
        "\n",
        "import plotly.express as px\n",
        "s=df.Ca.value_counts()\n",
        "fig = px.pie(df, values=s.values ,names=s.index)\n",
        "fig.update_traces(textposition='inside', textinfo='percent+label')\n",
        "fig.show()"
      ],
      "metadata": {
        "execution": {
          "iopub.status.busy": "2024-02-25T06:24:11.834006Z",
          "iopub.execute_input": "2024-02-25T06:24:11.834246Z",
          "iopub.status.idle": "2024-02-25T06:24:11.879267Z",
          "shell.execute_reply.started": "2024-02-25T06:24:11.834221Z",
          "shell.execute_reply": "2024-02-25T06:24:11.878507Z"
        },
        "trusted": true,
        "id": "ibtsp3JH9FLh",
        "outputId": "b941b1c4-4623-4415-954c-f2cf0247c182"
      },
      "execution_count": null,
      "outputs": [
        {
          "output_type": "display_data",
          "data": {
            "text/html": "<div>                            <div id=\"e98124f9-68fd-4699-9d2e-5c3cf7e1441b\" class=\"plotly-graph-div\" style=\"height:525px; width:100%;\"></div>            <script type=\"text/javascript\">                require([\"plotly\"], function(Plotly) {                    window.PLOTLYENV=window.PLOTLYENV || {};                                    if (document.getElementById(\"e98124f9-68fd-4699-9d2e-5c3cf7e1441b\")) {                    Plotly.newPlot(                        \"e98124f9-68fd-4699-9d2e-5c3cf7e1441b\",                        [{\"domain\":{\"x\":[0.0,1.0],\"y\":[0.0,1.0]},\"hovertemplate\":\"label=%{label}<br>value=%{value}<extra></extra>\",\"labels\":[0.0,1.0,2.0,3.0],\"legendgroup\":\"\",\"name\":\"\",\"showlegend\":true,\"textinfo\":\"percent+label\",\"textposition\":\"inside\",\"type\":\"pie\",\"values\":[180,65,38,20]}],                        {\"legend\":{\"tracegroupgap\":0},\"margin\":{\"t\":60},\"template\":{\"data\":{\"bar\":[{\"error_x\":{\"color\":\"#2a3f5f\"},\"error_y\":{\"color\":\"#2a3f5f\"},\"marker\":{\"line\":{\"color\":\"#E5ECF6\",\"width\":0.5},\"pattern\":{\"fillmode\":\"overlay\",\"size\":10,\"solidity\":0.2}},\"type\":\"bar\"}],\"barpolar\":[{\"marker\":{\"line\":{\"color\":\"#E5ECF6\",\"width\":0.5},\"pattern\":{\"fillmode\":\"overlay\",\"size\":10,\"solidity\":0.2}},\"type\":\"barpolar\"}],\"carpet\":[{\"aaxis\":{\"endlinecolor\":\"#2a3f5f\",\"gridcolor\":\"white\",\"linecolor\":\"white\",\"minorgridcolor\":\"white\",\"startlinecolor\":\"#2a3f5f\"},\"baxis\":{\"endlinecolor\":\"#2a3f5f\",\"gridcolor\":\"white\",\"linecolor\":\"white\",\"minorgridcolor\":\"white\",\"startlinecolor\":\"#2a3f5f\"},\"type\":\"carpet\"}],\"choropleth\":[{\"colorbar\":{\"outlinewidth\":0,\"ticks\":\"\"},\"type\":\"choropleth\"}],\"contour\":[{\"colorbar\":{\"outlinewidth\":0,\"ticks\":\"\"},\"colorscale\":[[0.0,\"#0d0887\"],[0.1111111111111111,\"#46039f\"],[0.2222222222222222,\"#7201a8\"],[0.3333333333333333,\"#9c179e\"],[0.4444444444444444,\"#bd3786\"],[0.5555555555555556,\"#d8576b\"],[0.6666666666666666,\"#ed7953\"],[0.7777777777777778,\"#fb9f3a\"],[0.8888888888888888,\"#fdca26\"],[1.0,\"#f0f921\"]],\"type\":\"contour\"}],\"contourcarpet\":[{\"colorbar\":{\"outlinewidth\":0,\"ticks\":\"\"},\"type\":\"contourcarpet\"}],\"heatmap\":[{\"colorbar\":{\"outlinewidth\":0,\"ticks\":\"\"},\"colorscale\":[[0.0,\"#0d0887\"],[0.1111111111111111,\"#46039f\"],[0.2222222222222222,\"#7201a8\"],[0.3333333333333333,\"#9c179e\"],[0.4444444444444444,\"#bd3786\"],[0.5555555555555556,\"#d8576b\"],[0.6666666666666666,\"#ed7953\"],[0.7777777777777778,\"#fb9f3a\"],[0.8888888888888888,\"#fdca26\"],[1.0,\"#f0f921\"]],\"type\":\"heatmap\"}],\"heatmapgl\":[{\"colorbar\":{\"outlinewidth\":0,\"ticks\":\"\"},\"colorscale\":[[0.0,\"#0d0887\"],[0.1111111111111111,\"#46039f\"],[0.2222222222222222,\"#7201a8\"],[0.3333333333333333,\"#9c179e\"],[0.4444444444444444,\"#bd3786\"],[0.5555555555555556,\"#d8576b\"],[0.6666666666666666,\"#ed7953\"],[0.7777777777777778,\"#fb9f3a\"],[0.8888888888888888,\"#fdca26\"],[1.0,\"#f0f921\"]],\"type\":\"heatmapgl\"}],\"histogram\":[{\"marker\":{\"pattern\":{\"fillmode\":\"overlay\",\"size\":10,\"solidity\":0.2}},\"type\":\"histogram\"}],\"histogram2d\":[{\"colorbar\":{\"outlinewidth\":0,\"ticks\":\"\"},\"colorscale\":[[0.0,\"#0d0887\"],[0.1111111111111111,\"#46039f\"],[0.2222222222222222,\"#7201a8\"],[0.3333333333333333,\"#9c179e\"],[0.4444444444444444,\"#bd3786\"],[0.5555555555555556,\"#d8576b\"],[0.6666666666666666,\"#ed7953\"],[0.7777777777777778,\"#fb9f3a\"],[0.8888888888888888,\"#fdca26\"],[1.0,\"#f0f921\"]],\"type\":\"histogram2d\"}],\"histogram2dcontour\":[{\"colorbar\":{\"outlinewidth\":0,\"ticks\":\"\"},\"colorscale\":[[0.0,\"#0d0887\"],[0.1111111111111111,\"#46039f\"],[0.2222222222222222,\"#7201a8\"],[0.3333333333333333,\"#9c179e\"],[0.4444444444444444,\"#bd3786\"],[0.5555555555555556,\"#d8576b\"],[0.6666666666666666,\"#ed7953\"],[0.7777777777777778,\"#fb9f3a\"],[0.8888888888888888,\"#fdca26\"],[1.0,\"#f0f921\"]],\"type\":\"histogram2dcontour\"}],\"mesh3d\":[{\"colorbar\":{\"outlinewidth\":0,\"ticks\":\"\"},\"type\":\"mesh3d\"}],\"parcoords\":[{\"line\":{\"colorbar\":{\"outlinewidth\":0,\"ticks\":\"\"}},\"type\":\"parcoords\"}],\"pie\":[{\"automargin\":true,\"type\":\"pie\"}],\"scatter\":[{\"marker\":{\"colorbar\":{\"outlinewidth\":0,\"ticks\":\"\"}},\"type\":\"scatter\"}],\"scatter3d\":[{\"line\":{\"colorbar\":{\"outlinewidth\":0,\"ticks\":\"\"}},\"marker\":{\"colorbar\":{\"outlinewidth\":0,\"ticks\":\"\"}},\"type\":\"scatter3d\"}],\"scattercarpet\":[{\"marker\":{\"colorbar\":{\"outlinewidth\":0,\"ticks\":\"\"}},\"type\":\"scattercarpet\"}],\"scattergeo\":[{\"marker\":{\"colorbar\":{\"outlinewidth\":0,\"ticks\":\"\"}},\"type\":\"scattergeo\"}],\"scattergl\":[{\"marker\":{\"colorbar\":{\"outlinewidth\":0,\"ticks\":\"\"}},\"type\":\"scattergl\"}],\"scattermapbox\":[{\"marker\":{\"colorbar\":{\"outlinewidth\":0,\"ticks\":\"\"}},\"type\":\"scattermapbox\"}],\"scatterpolar\":[{\"marker\":{\"colorbar\":{\"outlinewidth\":0,\"ticks\":\"\"}},\"type\":\"scatterpolar\"}],\"scatterpolargl\":[{\"marker\":{\"colorbar\":{\"outlinewidth\":0,\"ticks\":\"\"}},\"type\":\"scatterpolargl\"}],\"scatterternary\":[{\"marker\":{\"colorbar\":{\"outlinewidth\":0,\"ticks\":\"\"}},\"type\":\"scatterternary\"}],\"surface\":[{\"colorbar\":{\"outlinewidth\":0,\"ticks\":\"\"},\"colorscale\":[[0.0,\"#0d0887\"],[0.1111111111111111,\"#46039f\"],[0.2222222222222222,\"#7201a8\"],[0.3333333333333333,\"#9c179e\"],[0.4444444444444444,\"#bd3786\"],[0.5555555555555556,\"#d8576b\"],[0.6666666666666666,\"#ed7953\"],[0.7777777777777778,\"#fb9f3a\"],[0.8888888888888888,\"#fdca26\"],[1.0,\"#f0f921\"]],\"type\":\"surface\"}],\"table\":[{\"cells\":{\"fill\":{\"color\":\"#EBF0F8\"},\"line\":{\"color\":\"white\"}},\"header\":{\"fill\":{\"color\":\"#C8D4E3\"},\"line\":{\"color\":\"white\"}},\"type\":\"table\"}]},\"layout\":{\"annotationdefaults\":{\"arrowcolor\":\"#2a3f5f\",\"arrowhead\":0,\"arrowwidth\":1},\"autotypenumbers\":\"strict\",\"coloraxis\":{\"colorbar\":{\"outlinewidth\":0,\"ticks\":\"\"}},\"colorscale\":{\"diverging\":[[0,\"#8e0152\"],[0.1,\"#c51b7d\"],[0.2,\"#de77ae\"],[0.3,\"#f1b6da\"],[0.4,\"#fde0ef\"],[0.5,\"#f7f7f7\"],[0.6,\"#e6f5d0\"],[0.7,\"#b8e186\"],[0.8,\"#7fbc41\"],[0.9,\"#4d9221\"],[1,\"#276419\"]],\"sequential\":[[0.0,\"#0d0887\"],[0.1111111111111111,\"#46039f\"],[0.2222222222222222,\"#7201a8\"],[0.3333333333333333,\"#9c179e\"],[0.4444444444444444,\"#bd3786\"],[0.5555555555555556,\"#d8576b\"],[0.6666666666666666,\"#ed7953\"],[0.7777777777777778,\"#fb9f3a\"],[0.8888888888888888,\"#fdca26\"],[1.0,\"#f0f921\"]],\"sequentialminus\":[[0.0,\"#0d0887\"],[0.1111111111111111,\"#46039f\"],[0.2222222222222222,\"#7201a8\"],[0.3333333333333333,\"#9c179e\"],[0.4444444444444444,\"#bd3786\"],[0.5555555555555556,\"#d8576b\"],[0.6666666666666666,\"#ed7953\"],[0.7777777777777778,\"#fb9f3a\"],[0.8888888888888888,\"#fdca26\"],[1.0,\"#f0f921\"]]},\"colorway\":[\"#636efa\",\"#EF553B\",\"#00cc96\",\"#ab63fa\",\"#FFA15A\",\"#19d3f3\",\"#FF6692\",\"#B6E880\",\"#FF97FF\",\"#FECB52\"],\"font\":{\"color\":\"#2a3f5f\"},\"geo\":{\"bgcolor\":\"white\",\"lakecolor\":\"white\",\"landcolor\":\"#E5ECF6\",\"showlakes\":true,\"showland\":true,\"subunitcolor\":\"white\"},\"hoverlabel\":{\"align\":\"left\"},\"hovermode\":\"closest\",\"mapbox\":{\"style\":\"light\"},\"paper_bgcolor\":\"white\",\"plot_bgcolor\":\"#E5ECF6\",\"polar\":{\"angularaxis\":{\"gridcolor\":\"white\",\"linecolor\":\"white\",\"ticks\":\"\"},\"bgcolor\":\"#E5ECF6\",\"radialaxis\":{\"gridcolor\":\"white\",\"linecolor\":\"white\",\"ticks\":\"\"}},\"scene\":{\"xaxis\":{\"backgroundcolor\":\"#E5ECF6\",\"gridcolor\":\"white\",\"gridwidth\":2,\"linecolor\":\"white\",\"showbackground\":true,\"ticks\":\"\",\"zerolinecolor\":\"white\"},\"yaxis\":{\"backgroundcolor\":\"#E5ECF6\",\"gridcolor\":\"white\",\"gridwidth\":2,\"linecolor\":\"white\",\"showbackground\":true,\"ticks\":\"\",\"zerolinecolor\":\"white\"},\"zaxis\":{\"backgroundcolor\":\"#E5ECF6\",\"gridcolor\":\"white\",\"gridwidth\":2,\"linecolor\":\"white\",\"showbackground\":true,\"ticks\":\"\",\"zerolinecolor\":\"white\"}},\"shapedefaults\":{\"line\":{\"color\":\"#2a3f5f\"}},\"ternary\":{\"aaxis\":{\"gridcolor\":\"white\",\"linecolor\":\"white\",\"ticks\":\"\"},\"baxis\":{\"gridcolor\":\"white\",\"linecolor\":\"white\",\"ticks\":\"\"},\"bgcolor\":\"#E5ECF6\",\"caxis\":{\"gridcolor\":\"white\",\"linecolor\":\"white\",\"ticks\":\"\"}},\"title\":{\"x\":0.05},\"xaxis\":{\"automargin\":true,\"gridcolor\":\"white\",\"linecolor\":\"white\",\"ticks\":\"\",\"title\":{\"standoff\":15},\"zerolinecolor\":\"white\",\"zerolinewidth\":2},\"yaxis\":{\"automargin\":true,\"gridcolor\":\"white\",\"linecolor\":\"white\",\"ticks\":\"\",\"title\":{\"standoff\":15},\"zerolinecolor\":\"white\",\"zerolinewidth\":2}}}},                        {\"responsive\": true}                    ).then(function(){\n                            \nvar gd = document.getElementById('e98124f9-68fd-4699-9d2e-5c3cf7e1441b');\nvar x = new MutationObserver(function (mutations, observer) {{\n        var display = window.getComputedStyle(gd).display;\n        if (!display || display === 'none') {{\n            console.log([gd, 'removed!']);\n            Plotly.purge(gd);\n            observer.disconnect();\n        }}\n}});\n\n// Listen for the removal of the full notebook cells\nvar notebookContainer = gd.closest('#notebook-container');\nif (notebookContainer) {{\n    x.observe(notebookContainer, {childList: true});\n}}\n\n// Listen for the clearing of the current output cell\nvar outputEl = gd.closest('.output');\nif (outputEl) {{\n    x.observe(outputEl, {childList: true});\n}}\n\n                        })                };                });            </script>        </div>"
          },
          "metadata": {}
        }
      ]
    },
    {
      "cell_type": "code",
      "source": [
        "# Plotting the histogram of Thal\n",
        "\n",
        "hist(df['Thal'],'Distribution of Thal')"
      ],
      "metadata": {
        "execution": {
          "iopub.status.busy": "2024-02-25T06:24:11.880781Z",
          "iopub.execute_input": "2024-02-25T06:24:11.881090Z",
          "iopub.status.idle": "2024-02-25T06:24:12.061870Z",
          "shell.execute_reply.started": "2024-02-25T06:24:11.881057Z",
          "shell.execute_reply": "2024-02-25T06:24:12.061106Z"
        },
        "trusted": true,
        "id": "GINm5B4a9FLh",
        "outputId": "6d69053b-c5d6-4afc-bb12-754be71351e8"
      },
      "execution_count": null,
      "outputs": [
        {
          "output_type": "display_data",
          "data": {
            "text/plain": "<Figure size 720x576 with 1 Axes>",
            "image/png": "[encoded data removed]"
          },
          "metadata": {
            "needs_background": "light"
          }
        }
      ]
    },
    {
      "cell_type": "code",
      "source": [
        "# Plotting the Pie Chart of AHD\n",
        "\n",
        "import plotly.express as px\n",
        "s=df.AHD.value_counts()\n",
        "name=[\"Flase\",\"True\"]\n",
        "fig = px.pie(df, values=s.values ,names=name)\n",
        "fig.update_traces(textposition='inside', textinfo='percent+label')\n",
        "fig.show()"
      ],
      "metadata": {
        "execution": {
          "iopub.status.busy": "2024-02-25T06:24:12.062914Z",
          "iopub.execute_input": "2024-02-25T06:24:12.063170Z",
          "iopub.status.idle": "2024-02-25T06:24:12.109419Z",
          "shell.execute_reply.started": "2024-02-25T06:24:12.063141Z",
          "shell.execute_reply": "2024-02-25T06:24:12.108224Z"
        },
        "trusted": true,
        "id": "iO8gB-8f9FLh",
        "outputId": "c31bb4a3-b7a4-401c-8472-508b8383c176"
      },
      "execution_count": null,
      "outputs": [
        {
          "output_type": "display_data",
          "data": {
            "text/html": "<div>                            <div id=\"fc2fb7ba-6093-4cb5-89d2-2bea4da20de9\" class=\"plotly-graph-div\" style=\"height:525px; width:100%;\"></div>            <script type=\"text/javascript\">                require([\"plotly\"], function(Plotly) {                    window.PLOTLYENV=window.PLOTLYENV || {};                                    if (document.getElementById(\"fc2fb7ba-6093-4cb5-89d2-2bea4da20de9\")) {                    Plotly.newPlot(                        \"fc2fb7ba-6093-4cb5-89d2-2bea4da20de9\",                        [{\"domain\":{\"x\":[0.0,1.0],\"y\":[0.0,1.0]},\"hovertemplate\":\"label=%{label}<br>value=%{value}<extra></extra>\",\"labels\":[\"Flase\",\"True\"],\"legendgroup\":\"\",\"name\":\"\",\"showlegend\":true,\"textinfo\":\"percent+label\",\"textposition\":\"inside\",\"type\":\"pie\",\"values\":[164,139]}],                        {\"legend\":{\"tracegroupgap\":0},\"margin\":{\"t\":60},\"template\":{\"data\":{\"bar\":[{\"error_x\":{\"color\":\"#2a3f5f\"},\"error_y\":{\"color\":\"#2a3f5f\"},\"marker\":{\"line\":{\"color\":\"#E5ECF6\",\"width\":0.5},\"pattern\":{\"fillmode\":\"overlay\",\"size\":10,\"solidity\":0.2}},\"type\":\"bar\"}],\"barpolar\":[{\"marker\":{\"line\":{\"color\":\"#E5ECF6\",\"width\":0.5},\"pattern\":{\"fillmode\":\"overlay\",\"size\":10,\"solidity\":0.2}},\"type\":\"barpolar\"}],\"carpet\":[{\"aaxis\":{\"endlinecolor\":\"#2a3f5f\",\"gridcolor\":\"white\",\"linecolor\":\"white\",\"minorgridcolor\":\"white\",\"startlinecolor\":\"#2a3f5f\"},\"baxis\":{\"endlinecolor\":\"#2a3f5f\",\"gridcolor\":\"white\",\"linecolor\":\"white\",\"minorgridcolor\":\"white\",\"startlinecolor\":\"#2a3f5f\"},\"type\":\"carpet\"}],\"choropleth\":[{\"colorbar\":{\"outlinewidth\":0,\"ticks\":\"\"},\"type\":\"choropleth\"}],\"contour\":[{\"colorbar\":{\"outlinewidth\":0,\"ticks\":\"\"},\"colorscale\":[[0.0,\"#0d0887\"],[0.1111111111111111,\"#46039f\"],[0.2222222222222222,\"#7201a8\"],[0.3333333333333333,\"#9c179e\"],[0.4444444444444444,\"#bd3786\"],[0.5555555555555556,\"#d8576b\"],[0.6666666666666666,\"#ed7953\"],[0.7777777777777778,\"#fb9f3a\"],[0.8888888888888888,\"#fdca26\"],[1.0,\"#f0f921\"]],\"type\":\"contour\"}],\"contourcarpet\":[{\"colorbar\":{\"outlinewidth\":0,\"ticks\":\"\"},\"type\":\"contourcarpet\"}],\"heatmap\":[{\"colorbar\":{\"outlinewidth\":0,\"ticks\":\"\"},\"colorscale\":[[0.0,\"#0d0887\"],[0.1111111111111111,\"#46039f\"],[0.2222222222222222,\"#7201a8\"],[0.3333333333333333,\"#9c179e\"],[0.4444444444444444,\"#bd3786\"],[0.5555555555555556,\"#d8576b\"],[0.6666666666666666,\"#ed7953\"],[0.7777777777777778,\"#fb9f3a\"],[0.8888888888888888,\"#fdca26\"],[1.0,\"#f0f921\"]],\"type\":\"heatmap\"}],\"heatmapgl\":[{\"colorbar\":{\"outlinewidth\":0,\"ticks\":\"\"},\"colorscale\":[[0.0,\"#0d0887\"],[0.1111111111111111,\"#46039f\"],[0.2222222222222222,\"#7201a8\"],[0.3333333333333333,\"#9c179e\"],[0.4444444444444444,\"#bd3786\"],[0.5555555555555556,\"#d8576b\"],[0.6666666666666666,\"#ed7953\"],[0.7777777777777778,\"#fb9f3a\"],[0.8888888888888888,\"#fdca26\"],[1.0,\"#f0f921\"]],\"type\":\"heatmapgl\"}],\"histogram\":[{\"marker\":{\"pattern\":{\"fillmode\":\"overlay\",\"size\":10,\"solidity\":0.2}},\"type\":\"histogram\"}],\"histogram2d\":[{\"colorbar\":{\"outlinewidth\":0,\"ticks\":\"\"},\"colorscale\":[[0.0,\"#0d0887\"],[0.1111111111111111,\"#46039f\"],[0.2222222222222222,\"#7201a8\"],[0.3333333333333333,\"#9c179e\"],[0.4444444444444444,\"#bd3786\"],[0.5555555555555556,\"#d8576b\"],[0.6666666666666666,\"#ed7953\"],[0.7777777777777778,\"#fb9f3a\"],[0.8888888888888888,\"#fdca26\"],[1.0,\"#f0f921\"]],\"type\":\"histogram2d\"}],\"histogram2dcontour\":[{\"colorbar\":{\"outlinewidth\":0,\"ticks\":\"\"},\"colorscale\":[[0.0,\"#0d0887\"],[0.1111111111111111,\"#46039f\"],[0.2222222222222222,\"#7201a8\"],[0.3333333333333333,\"#9c179e\"],[0.4444444444444444,\"#bd3786\"],[0.5555555555555556,\"#d8576b\"],[0.6666666666666666,\"#ed7953\"],[0.7777777777777778,\"#fb9f3a\"],[0.8888888888888888,\"#fdca26\"],[1.0,\"#f0f921\"]],\"type\":\"histogram2dcontour\"}],\"mesh3d\":[{\"colorbar\":{\"outlinewidth\":0,\"ticks\":\"\"},\"type\":\"mesh3d\"}],\"parcoords\":[{\"line\":{\"colorbar\":{\"outlinewidth\":0,\"ticks\":\"\"}},\"type\":\"parcoords\"}],\"pie\":[{\"automargin\":true,\"type\":\"pie\"}],\"scatter\":[{\"marker\":{\"colorbar\":{\"outlinewidth\":0,\"ticks\":\"\"}},\"type\":\"scatter\"}],\"scatter3d\":[{\"line\":{\"colorbar\":{\"outlinewidth\":0,\"ticks\":\"\"}},\"marker\":{\"colorbar\":{\"outlinewidth\":0,\"ticks\":\"\"}},\"type\":\"scatter3d\"}],\"scattercarpet\":[{\"marker\":{\"colorbar\":{\"outlinewidth\":0,\"ticks\":\"\"}},\"type\":\"scattercarpet\"}],\"scattergeo\":[{\"marker\":{\"colorbar\":{\"outlinewidth\":0,\"ticks\":\"\"}},\"type\":\"scattergeo\"}],\"scattergl\":[{\"marker\":{\"colorbar\":{\"outlinewidth\":0,\"ticks\":\"\"}},\"type\":\"scattergl\"}],\"scattermapbox\":[{\"marker\":{\"colorbar\":{\"outlinewidth\":0,\"ticks\":\"\"}},\"type\":\"scattermapbox\"}],\"scatterpolar\":[{\"marker\":{\"colorbar\":{\"outlinewidth\":0,\"ticks\":\"\"}},\"type\":\"scatterpolar\"}],\"scatterpolargl\":[{\"marker\":{\"colorbar\":{\"outlinewidth\":0,\"ticks\":\"\"}},\"type\":\"scatterpolargl\"}],\"scatterternary\":[{\"marker\":{\"colorbar\":{\"outlinewidth\":0,\"ticks\":\"\"}},\"type\":\"scatterternary\"}],\"surface\":[{\"colorbar\":{\"outlinewidth\":0,\"ticks\":\"\"},\"colorscale\":[[0.0,\"#0d0887\"],[0.1111111111111111,\"#46039f\"],[0.2222222222222222,\"#7201a8\"],[0.3333333333333333,\"#9c179e\"],[0.4444444444444444,\"#bd3786\"],[0.5555555555555556,\"#d8576b\"],[0.6666666666666666,\"#ed7953\"],[0.7777777777777778,\"#fb9f3a\"],[0.8888888888888888,\"#fdca26\"],[1.0,\"#f0f921\"]],\"type\":\"surface\"}],\"table\":[{\"cells\":{\"fill\":{\"color\":\"#EBF0F8\"},\"line\":{\"color\":\"white\"}},\"header\":{\"fill\":{\"color\":\"#C8D4E3\"},\"line\":{\"color\":\"white\"}},\"type\":\"table\"}]},\"layout\":{\"annotationdefaults\":{\"arrowcolor\":\"#2a3f5f\",\"arrowhead\":0,\"arrowwidth\":1},\"autotypenumbers\":\"strict\",\"coloraxis\":{\"colorbar\":{\"outlinewidth\":0,\"ticks\":\"\"}},\"colorscale\":{\"diverging\":[[0,\"#8e0152\"],[0.1,\"#c51b7d\"],[0.2,\"#de77ae\"],[0.3,\"#f1b6da\"],[0.4,\"#fde0ef\"],[0.5,\"#f7f7f7\"],[0.6,\"#e6f5d0\"],[0.7,\"#b8e186\"],[0.8,\"#7fbc41\"],[0.9,\"#4d9221\"],[1,\"#276419\"]],\"sequential\":[[0.0,\"#0d0887\"],[0.1111111111111111,\"#46039f\"],[0.2222222222222222,\"#7201a8\"],[0.3333333333333333,\"#9c179e\"],[0.4444444444444444,\"#bd3786\"],[0.5555555555555556,\"#d8576b\"],[0.6666666666666666,\"#ed7953\"],[0.7777777777777778,\"#fb9f3a\"],[0.8888888888888888,\"#fdca26\"],[1.0,\"#f0f921\"]],\"sequentialminus\":[[0.0,\"#0d0887\"],[0.1111111111111111,\"#46039f\"],[0.2222222222222222,\"#7201a8\"],[0.3333333333333333,\"#9c179e\"],[0.4444444444444444,\"#bd3786\"],[0.5555555555555556,\"#d8576b\"],[0.6666666666666666,\"#ed7953\"],[0.7777777777777778,\"#fb9f3a\"],[0.8888888888888888,\"#fdca26\"],[1.0,\"#f0f921\"]]},\"colorway\":[\"#636efa\",\"#EF553B\",\"#00cc96\",\"#ab63fa\",\"#FFA15A\",\"#19d3f3\",\"#FF6692\",\"#B6E880\",\"#FF97FF\",\"#FECB52\"],\"font\":{\"color\":\"#2a3f5f\"},\"geo\":{\"bgcolor\":\"white\",\"lakecolor\":\"white\",\"landcolor\":\"#E5ECF6\",\"showlakes\":true,\"showland\":true,\"subunitcolor\":\"white\"},\"hoverlabel\":{\"align\":\"left\"},\"hovermode\":\"closest\",\"mapbox\":{\"style\":\"light\"},\"paper_bgcolor\":\"white\",\"plot_bgcolor\":\"#E5ECF6\",\"polar\":{\"angularaxis\":{\"gridcolor\":\"white\",\"linecolor\":\"white\",\"ticks\":\"\"},\"bgcolor\":\"#E5ECF6\",\"radialaxis\":{\"gridcolor\":\"white\",\"linecolor\":\"white\",\"ticks\":\"\"}},\"scene\":{\"xaxis\":{\"backgroundcolor\":\"#E5ECF6\",\"gridcolor\":\"white\",\"gridwidth\":2,\"linecolor\":\"white\",\"showbackground\":true,\"ticks\":\"\",\"zerolinecolor\":\"white\"},\"yaxis\":{\"backgroundcolor\":\"#E5ECF6\",\"gridcolor\":\"white\",\"gridwidth\":2,\"linecolor\":\"white\",\"showbackground\":true,\"ticks\":\"\",\"zerolinecolor\":\"white\"},\"zaxis\":{\"backgroundcolor\":\"#E5ECF6\",\"gridcolor\":\"white\",\"gridwidth\":2,\"linecolor\":\"white\",\"showbackground\":true,\"ticks\":\"\",\"zerolinecolor\":\"white\"}},\"shapedefaults\":{\"line\":{\"color\":\"#2a3f5f\"}},\"ternary\":{\"aaxis\":{\"gridcolor\":\"white\",\"linecolor\":\"white\",\"ticks\":\"\"},\"baxis\":{\"gridcolor\":\"white\",\"linecolor\":\"white\",\"ticks\":\"\"},\"bgcolor\":\"#E5ECF6\",\"caxis\":{\"gridcolor\":\"white\",\"linecolor\":\"white\",\"ticks\":\"\"}},\"title\":{\"x\":0.05},\"xaxis\":{\"automargin\":true,\"gridcolor\":\"white\",\"linecolor\":\"white\",\"ticks\":\"\",\"title\":{\"standoff\":15},\"zerolinecolor\":\"white\",\"zerolinewidth\":2},\"yaxis\":{\"automargin\":true,\"gridcolor\":\"white\",\"linecolor\":\"white\",\"ticks\":\"\",\"title\":{\"standoff\":15},\"zerolinecolor\":\"white\",\"zerolinewidth\":2}}}},                        {\"responsive\": true}                    ).then(function(){\n                            \nvar gd = document.getElementById('fc2fb7ba-6093-4cb5-89d2-2bea4da20de9');\nvar x = new MutationObserver(function (mutations, observer) {{\n        var display = window.getComputedStyle(gd).display;\n        if (!display || display === 'none') {{\n            console.log([gd, 'removed!']);\n            Plotly.purge(gd);\n            observer.disconnect();\n        }}\n}});\n\n// Listen for the removal of the full notebook cells\nvar notebookContainer = gd.closest('#notebook-container');\nif (notebookContainer) {{\n    x.observe(notebookContainer, {childList: true});\n}}\n\n// Listen for the clearing of the current output cell\nvar outputEl = gd.closest('.output');\nif (outputEl) {{\n    x.observe(outputEl, {childList: true});\n}}\n\n                        })                };                });            </script>        </div>"
          },
          "metadata": {}
        }
      ]
    },
    {
      "cell_type": "markdown",
      "source": [
        "<a name='ppd'></a>\n",
        "#  Preparing Data for Classification"
      ],
      "metadata": {
        "id": "z5WZM7749FLi"
      }
    },
    {
      "cell_type": "code",
      "source": [
        "# We are removing AHD which is target and store it in other varibale\n",
        "\n",
        "X=df.drop(columns='AHD',axis=1)\n",
        "\n",
        "y=df['AHD']"
      ],
      "metadata": {
        "execution": {
          "iopub.status.busy": "2024-02-25T06:24:12.110835Z",
          "iopub.execute_input": "2024-02-25T06:24:12.111143Z",
          "iopub.status.idle": "2024-02-25T06:24:12.116709Z",
          "shell.execute_reply.started": "2024-02-25T06:24:12.111113Z",
          "shell.execute_reply": "2024-02-25T06:24:12.116057Z"
        },
        "trusted": true,
        "id": "_AmnfK-19FLi"
      },
      "execution_count": null,
      "outputs": []
    },
    {
      "cell_type": "code",
      "source": [
        "# Printing X where we have removed traget variable\n",
        "\n",
        "X"
      ],
      "metadata": {
        "execution": {
          "iopub.status.busy": "2024-02-25T06:24:12.117659Z",
          "iopub.execute_input": "2024-02-25T06:24:12.117969Z",
          "iopub.status.idle": "2024-02-25T06:24:12.144509Z",
          "shell.execute_reply.started": "2024-02-25T06:24:12.117944Z",
          "shell.execute_reply": "2024-02-25T06:24:12.143919Z"
        },
        "trusted": true,
        "id": "kPY4KzW89FLi",
        "outputId": "8872b484-858a-4927-d5c3-56f55232f7d2"
      },
      "execution_count": null,
      "outputs": [
        {
          "execution_count": 45,
          "output_type": "execute_result",
          "data": {
            "text/plain": "     Age  Sex  ChestPain  RestBP  Chol  Fbs  RestECG  MaxHR  ExAng  Oldpeak  \\\n1     63    1          1     145   233    1        2    150      0      2.3   \n2     67    1          4     160   286    0        2    108      1      1.5   \n3     67    1          4     120   229    0        2    129      1      2.6   \n4     37    1          3     130   250    0        0    187      0      3.5   \n5     41    0          2     130   204    0        2    172      0      1.4   \n..   ...  ...        ...     ...   ...  ...      ...    ...    ...      ...   \n299   45    1          1     110   264    0        0    132      0      1.2   \n300   68    1          4     144   193    1        0    141      0      3.4   \n301   57    1          4     130   131    0        0    115      1      1.2   \n302   57    0          2     130   236    0        2    174      0      0.0   \n303   38    1          3     138   175    0        0    173      0      0.0   \n\n     Slope   Ca  Thal  \n1        3  0.0   2.0  \n2        2  3.0   1.0  \n3        2  2.0   3.0  \n4        3  0.0   1.0  \n5        1  0.0   1.0  \n..     ...  ...   ...  \n299      2  0.0   3.0  \n300      2  2.0   3.0  \n301      2  1.0   3.0  \n302      2  1.0   1.0  \n303      1  0.0   1.0  \n\n[303 rows x 13 columns]",
            "text/html": "<div>\n<style scoped>\n    .dataframe tbody tr th:only-of-type {\n        vertical-align: middle;\n    }\n\n    .dataframe tbody tr th {\n        vertical-align: top;\n    }\n\n    .dataframe thead th {\n        text-align: right;\n    }\n</style>\n<table border=\"1\" class=\"dataframe\">\n  <thead>\n    <tr style=\"text-align: right;\">\n      <th></th>\n      <th>Age</th>\n      <th>Sex</th>\n      <th>ChestPain</th>\n      <th>RestBP</th>\n      <th>Chol</th>\n      <th>Fbs</th>\n      <th>RestECG</th>\n      <th>MaxHR</th>\n      <th>ExAng</th>\n      <th>Oldpeak</th>\n      <th>Slope</th>\n      <th>Ca</th>\n      <th>Thal</th>\n    </tr>\n  </thead>\n  <tbody>\n    <tr>\n      <th>1</th>\n      <td>63</td>\n      <td>1</td>\n      <td>1</td>\n      <td>145</td>\n      <td>233</td>\n      <td>1</td>\n      <td>2</td>\n      <td>150</td>\n      <td>0</td>\n      <td>2.3</td>\n      <td>3</td>\n      <td>0.0</td>\n      <td>2.0</td>\n    </tr>\n    <tr>\n      <th>2</th>\n      <td>67</td>\n      <td>1</td>\n      <td>4</td>\n      <td>160</td>\n      <td>286</td>\n      <td>0</td>\n      <td>2</td>\n      <td>108</td>\n      <td>1</td>\n      <td>1.5</td>\n      <td>2</td>\n      <td>3.0</td>\n      <td>1.0</td>\n    </tr>\n    <tr>\n      <th>3</th>\n      <td>67</td>\n      <td>1</td>\n      <td>4</td>\n      <td>120</td>\n      <td>229</td>\n      <td>0</td>\n      <td>2</td>\n      <td>129</td>\n      <td>1</td>\n      <td>2.6</td>\n      <td>2</td>\n      <td>2.0</td>\n      <td>3.0</td>\n    </tr>\n    <tr>\n      <th>4</th>\n      <td>37</td>\n      <td>1</td>\n      <td>3</td>\n      <td>130</td>\n      <td>250</td>\n      <td>0</td>\n      <td>0</td>\n      <td>187</td>\n      <td>0</td>\n      <td>3.5</td>\n      <td>3</td>\n      <td>0.0</td>\n      <td>1.0</td>\n    </tr>\n    <tr>\n      <th>5</th>\n      <td>41</td>\n      <td>0</td>\n      <td>2</td>\n      <td>130</td>\n      <td>204</td>\n      <td>0</td>\n      <td>2</td>\n      <td>172</td>\n      <td>0</td>\n      <td>1.4</td>\n      <td>1</td>\n      <td>0.0</td>\n      <td>1.0</td>\n    </tr>\n    <tr>\n      <th>...</th>\n      <td>...</td>\n      <td>...</td>\n      <td>...</td>\n      <td>...</td>\n      <td>...</td>\n      <td>...</td>\n      <td>...</td>\n      <td>...</td>\n      <td>...</td>\n      <td>...</td>\n      <td>...</td>\n      <td>...</td>\n      <td>...</td>\n    </tr>\n    <tr>\n      <th>299</th>\n      <td>45</td>\n      <td>1</td>\n      <td>1</td>\n      <td>110</td>\n      <td>264</td>\n      <td>0</td>\n      <td>0</td>\n      <td>132</td>\n      <td>0</td>\n      <td>1.2</td>\n      <td>2</td>\n      <td>0.0</td>\n      <td>3.0</td>\n    </tr>\n    <tr>\n      <th>300</th>\n      <td>68</td>\n      <td>1</td>\n      <td>4</td>\n      <td>144</td>\n      <td>193</td>\n      <td>1</td>\n      <td>0</td>\n      <td>141</td>\n      <td>0</td>\n      <td>3.4</td>\n      <td>2</td>\n      <td>2.0</td>\n      <td>3.0</td>\n    </tr>\n    <tr>\n      <th>301</th>\n      <td>57</td>\n      <td>1</td>\n      <td>4</td>\n      <td>130</td>\n      <td>131</td>\n      <td>0</td>\n      <td>0</td>\n      <td>115</td>\n      <td>1</td>\n      <td>1.2</td>\n      <td>2</td>\n      <td>1.0</td>\n      <td>3.0</td>\n    </tr>\n    <tr>\n      <th>302</th>\n      <td>57</td>\n      <td>0</td>\n      <td>2</td>\n      <td>130</td>\n      <td>236</td>\n      <td>0</td>\n      <td>2</td>\n      <td>174</td>\n      <td>0</td>\n      <td>0.0</td>\n      <td>2</td>\n      <td>1.0</td>\n      <td>1.0</td>\n    </tr>\n    <tr>\n      <th>303</th>\n      <td>38</td>\n      <td>1</td>\n      <td>3</td>\n      <td>138</td>\n      <td>175</td>\n      <td>0</td>\n      <td>0</td>\n      <td>173</td>\n      <td>0</td>\n      <td>0.0</td>\n      <td>1</td>\n      <td>0.0</td>\n      <td>1.0</td>\n    </tr>\n  </tbody>\n</table>\n<p>303 rows × 13 columns</p>\n</div>"
          },
          "metadata": {}
        }
      ]
    },
    {
      "cell_type": "code",
      "source": [
        "# Printing Y which as only traget variable\n",
        "\n",
        "y"
      ],
      "metadata": {
        "execution": {
          "iopub.status.busy": "2024-02-25T06:24:12.145710Z",
          "iopub.execute_input": "2024-02-25T06:24:12.145977Z",
          "iopub.status.idle": "2024-02-25T06:24:12.164590Z",
          "shell.execute_reply.started": "2024-02-25T06:24:12.145953Z",
          "shell.execute_reply": "2024-02-25T06:24:12.163449Z"
        },
        "trusted": true,
        "id": "NjFdXHgN9FLj",
        "outputId": "57a3cdcc-ef2c-4444-b04c-a9ac0c7208be"
      },
      "execution_count": null,
      "outputs": [
        {
          "execution_count": 46,
          "output_type": "execute_result",
          "data": {
            "text/plain": "1      0\n2      1\n3      1\n4      0\n5      0\n      ..\n299    1\n300    1\n301    1\n302    1\n303    0\nName: AHD, Length: 303, dtype: int64"
          },
          "metadata": {}
        }
      ]
    },
    {
      "cell_type": "code",
      "source": [
        "# Spliting data into train data and test data\n",
        "\n",
        "X_train,X_test,y_train,y_test=train=train_test_split(X,y,test_size=0.2,stratify=y,random_state=2)"
      ],
      "metadata": {
        "execution": {
          "iopub.status.busy": "2024-02-25T06:24:12.166011Z",
          "iopub.execute_input": "2024-02-25T06:24:12.166281Z",
          "iopub.status.idle": "2024-02-25T06:24:12.182314Z",
          "shell.execute_reply.started": "2024-02-25T06:24:12.166255Z",
          "shell.execute_reply": "2024-02-25T06:24:12.181130Z"
        },
        "trusted": true,
        "id": "WXrR5JGE9FLj"
      },
      "execution_count": null,
      "outputs": []
    },
    {
      "cell_type": "code",
      "source": [
        "# Printing the size of X training dataset\n",
        "\n",
        "X_train.shape"
      ],
      "metadata": {
        "execution": {
          "iopub.status.busy": "2024-02-25T06:24:12.183285Z",
          "iopub.execute_input": "2024-02-25T06:24:12.183586Z",
          "iopub.status.idle": "2024-02-25T06:24:12.195419Z",
          "shell.execute_reply.started": "2024-02-25T06:24:12.183560Z",
          "shell.execute_reply": "2024-02-25T06:24:12.194195Z"
        },
        "trusted": true,
        "id": "cYrce_569FLj",
        "outputId": "aeab9d50-7ea6-4f89-ecbe-412d67959bfd"
      },
      "execution_count": null,
      "outputs": [
        {
          "execution_count": 48,
          "output_type": "execute_result",
          "data": {
            "text/plain": "(242, 13)"
          },
          "metadata": {}
        }
      ]
    },
    {
      "cell_type": "code",
      "source": [
        "# Printing the size of X testing dataset\n",
        "\n",
        "X_test.shape"
      ],
      "metadata": {
        "execution": {
          "iopub.status.busy": "2024-02-25T06:24:12.196904Z",
          "iopub.execute_input": "2024-02-25T06:24:12.197270Z",
          "iopub.status.idle": "2024-02-25T06:24:12.207018Z",
          "shell.execute_reply.started": "2024-02-25T06:24:12.197231Z",
          "shell.execute_reply": "2024-02-25T06:24:12.206215Z"
        },
        "trusted": true,
        "id": "5NnbRygQ9FLj",
        "outputId": "779acee7-0487-4e8f-88ea-a4b4533d1a00"
      },
      "execution_count": null,
      "outputs": [
        {
          "execution_count": 49,
          "output_type": "execute_result",
          "data": {
            "text/plain": "(61, 13)"
          },
          "metadata": {}
        }
      ]
    },
    {
      "cell_type": "code",
      "source": [
        "# Printing the size of Y training dataset\n",
        "\n",
        "y_train.shape"
      ],
      "metadata": {
        "execution": {
          "iopub.status.busy": "2024-02-25T06:24:12.208062Z",
          "iopub.execute_input": "2024-02-25T06:24:12.208304Z",
          "iopub.status.idle": "2024-02-25T06:24:12.218385Z",
          "shell.execute_reply.started": "2024-02-25T06:24:12.208279Z",
          "shell.execute_reply": "2024-02-25T06:24:12.217525Z"
        },
        "trusted": true,
        "id": "s2p2WI5b9FLk",
        "outputId": "6e345362-b0d1-430f-9d68-5fbdcbe663cf"
      },
      "execution_count": null,
      "outputs": [
        {
          "execution_count": 50,
          "output_type": "execute_result",
          "data": {
            "text/plain": "(242,)"
          },
          "metadata": {}
        }
      ]
    },
    {
      "cell_type": "code",
      "source": [
        "# Printing the size of Y testing dataset\n",
        "\n",
        "y_test.shape"
      ],
      "metadata": {
        "execution": {
          "iopub.status.busy": "2024-02-25T06:24:12.219650Z",
          "iopub.execute_input": "2024-02-25T06:24:12.219978Z",
          "iopub.status.idle": "2024-02-25T06:24:12.230846Z",
          "shell.execute_reply.started": "2024-02-25T06:24:12.219945Z",
          "shell.execute_reply": "2024-02-25T06:24:12.229980Z"
        },
        "trusted": true,
        "id": "auWe8PJN9FLk",
        "outputId": "3cc7507e-b24e-4584-900d-a4c7f67e2620"
      },
      "execution_count": null,
      "outputs": [
        {
          "execution_count": 51,
          "output_type": "execute_result",
          "data": {
            "text/plain": "(61,)"
          },
          "metadata": {}
        }
      ]
    },
    {
      "cell_type": "markdown",
      "source": [
        "<a name='vt'></a>\n",
        "# Visualizing Training Data"
      ],
      "metadata": {
        "id": "G5q1_K0f9FLl"
      }
    },
    {
      "cell_type": "markdown",
      "source": [
        "### Here are just plotting histogram of Training data (**Note:** we will not use testing data)"
      ],
      "metadata": {
        "id": "5NW10W4R9FLl"
      }
    },
    {
      "cell_type": "code",
      "source": [
        "# We are just plotting histogram of Age\n",
        "\n",
        "X_train['Age'].hist(figsize=(12,8),bins=50)\n",
        "plt.show()"
      ],
      "metadata": {
        "execution": {
          "iopub.status.busy": "2024-02-25T06:24:12.231865Z",
          "iopub.execute_input": "2024-02-25T06:24:12.232088Z",
          "iopub.status.idle": "2024-02-25T06:24:12.439264Z",
          "shell.execute_reply.started": "2024-02-25T06:24:12.232064Z",
          "shell.execute_reply": "2024-02-25T06:24:12.438435Z"
        },
        "trusted": true,
        "id": "1I_obTT19FLl",
        "outputId": "8f7d3d01-5f32-4f5f-ea0e-fe3ebc34cfb9"
      },
      "execution_count": null,
      "outputs": [
        {
          "output_type": "display_data",
          "data": {
            "text/plain": "<Figure size 864x576 with 1 Axes>",
            "image/png": "[encoded data removed]"
          },
          "metadata": {
            "needs_background": "light"
          }
        }
      ]
    },
    {
      "cell_type": "code",
      "source": [
        "# We are just plotting histogram of Sex\n",
        "\n",
        "X_train['Sex'].hist(figsize=(12,8),bins=50)\n",
        "plt.show()"
      ],
      "metadata": {
        "execution": {
          "iopub.status.busy": "2024-02-25T06:24:12.440248Z",
          "iopub.execute_input": "2024-02-25T06:24:12.440595Z",
          "iopub.status.idle": "2024-02-25T06:24:12.648782Z",
          "shell.execute_reply.started": "2024-02-25T06:24:12.440561Z",
          "shell.execute_reply": "2024-02-25T06:24:12.647691Z"
        },
        "trusted": true,
        "id": "mX5OI7VD9FLl",
        "outputId": "5cd6ba15-f0aa-4822-f840-9b9f2c6094ba"
      },
      "execution_count": null,
      "outputs": [
        {
          "output_type": "display_data",
          "data": {
            "text/plain": "<Figure size 864x576 with 1 Axes>",
            "image/png": "[encoded data removed]"
          },
          "metadata": {
            "needs_background": "light"
          }
        }
      ]
    },
    {
      "cell_type": "code",
      "source": [
        "# We are just plotting histogram of ChestPain\n",
        "\n",
        "X_train['ChestPain'].hist(figsize=(12,8),bins=50)\n",
        "plt.show()"
      ],
      "metadata": {
        "execution": {
          "iopub.status.busy": "2024-02-25T06:24:12.649919Z",
          "iopub.execute_input": "2024-02-25T06:24:12.650247Z",
          "iopub.status.idle": "2024-02-25T06:24:12.841634Z",
          "shell.execute_reply.started": "2024-02-25T06:24:12.650214Z",
          "shell.execute_reply": "2024-02-25T06:24:12.840737Z"
        },
        "trusted": true,
        "id": "3ZtBRnZl9FLm",
        "outputId": "a8d52519-4919-4669-d4c7-c35cf1e650e7"
      },
      "execution_count": null,
      "outputs": [
        {
          "output_type": "display_data",
          "data": {
            "text/plain": "<Figure size 864x576 with 1 Axes>",
            "image/png": "[encoded data removed]"
          },
          "metadata": {
            "needs_background": "light"
          }
        }
      ]
    },
    {
      "cell_type": "code",
      "source": [
        "# We are just plotting histogram of RestBP\n",
        "\n",
        "X_train['RestBP'].hist(figsize=(12,8),bins=50)\n",
        "plt.show()"
      ],
      "metadata": {
        "execution": {
          "iopub.status.busy": "2024-02-25T06:24:12.842474Z",
          "iopub.execute_input": "2024-02-25T06:24:12.842697Z",
          "iopub.status.idle": "2024-02-25T06:24:13.039611Z",
          "shell.execute_reply.started": "2024-02-25T06:24:12.842673Z",
          "shell.execute_reply": "2024-02-25T06:24:13.038428Z"
        },
        "trusted": true,
        "id": "dMZ4T49V9FLm",
        "outputId": "a1152202-70ef-4443-fcef-56f4f12f7d8f"
      },
      "execution_count": null,
      "outputs": [
        {
          "output_type": "display_data",
          "data": {
            "text/plain": "<Figure size 864x576 with 1 Axes>",
            "image/png": "[encoded data removed]"
          },
          "metadata": {
            "needs_background": "light"
          }
        }
      ]
    },
    {
      "cell_type": "code",
      "source": [
        "# We are just plotting histogram of Chol\n",
        "\n",
        "X_train['Chol'].hist(figsize=(12,8),bins=50)\n",
        "plt.show()"
      ],
      "metadata": {
        "execution": {
          "iopub.status.busy": "2024-02-25T06:24:13.040803Z",
          "iopub.execute_input": "2024-02-25T06:24:13.041039Z",
          "iopub.status.idle": "2024-02-25T06:24:13.253620Z",
          "shell.execute_reply.started": "2024-02-25T06:24:13.041016Z",
          "shell.execute_reply": "2024-02-25T06:24:13.252562Z"
        },
        "trusted": true,
        "id": "xDcle6hm9FLp",
        "outputId": "6bd7df6b-bba2-4eeb-d4fb-0d9949d57b8e"
      },
      "execution_count": null,
      "outputs": [
        {
          "output_type": "display_data",
          "data": {
            "text/plain": "<Figure size 864x576 with 1 Axes>",
            "image/png": "[encoded data removed]"
          },
          "metadata": {
            "needs_background": "light"
          }
        }
      ]
    },
    {
      "cell_type": "code",
      "source": [
        "# We are just plotting histogram of Fbs\n",
        "\n",
        "X_train['Fbs'].hist(figsize=(12,8),bins=50)\n",
        "plt.show()"
      ],
      "metadata": {
        "execution": {
          "iopub.status.busy": "2024-02-25T06:24:13.254777Z",
          "iopub.execute_input": "2024-02-25T06:24:13.255041Z",
          "iopub.status.idle": "2024-02-25T06:24:13.465681Z",
          "shell.execute_reply.started": "2024-02-25T06:24:13.255011Z",
          "shell.execute_reply": "2024-02-25T06:24:13.464554Z"
        },
        "trusted": true,
        "id": "4WIcZass9FLq",
        "outputId": "82ebaa87-9b92-4935-cf0f-79d9dccbb17e"
      },
      "execution_count": null,
      "outputs": [
        {
          "output_type": "display_data",
          "data": {
            "text/plain": "<Figure size 864x576 with 1 Axes>",
            "image/png": "[encoded data removed]"
          },
          "metadata": {
            "needs_background": "light"
          }
        }
      ]
    },
    {
      "cell_type": "code",
      "source": [
        "# We are just plotting histogram of RestECG\n",
        "\n",
        "X_train['RestECG'].hist(figsize=(12,8),bins=50)\n",
        "plt.show()"
      ],
      "metadata": {
        "execution": {
          "iopub.status.busy": "2024-02-25T06:24:13.466854Z",
          "iopub.execute_input": "2024-02-25T06:24:13.467193Z",
          "iopub.status.idle": "2024-02-25T06:24:13.674625Z",
          "shell.execute_reply.started": "2024-02-25T06:24:13.467160Z",
          "shell.execute_reply": "2024-02-25T06:24:13.673739Z"
        },
        "trusted": true,
        "id": "4_IzlIYV9FLq",
        "outputId": "47d942ab-13fd-40f2-fcbc-029065433027"
      },
      "execution_count": null,
      "outputs": [
        {
          "output_type": "display_data",
          "data": {
            "text/plain": "<Figure size 864x576 with 1 Axes>",
            "image/png": "[encoded data removed]"
          },
          "metadata": {
            "needs_background": "light"
          }
        }
      ]
    },
    {
      "cell_type": "code",
      "source": [
        "# We are just plotting histogram of MaxHR\n",
        "\n",
        "X_train['MaxHR'].hist(figsize=(12,8),bins=50)\n",
        "plt.show()"
      ],
      "metadata": {
        "execution": {
          "iopub.status.busy": "2024-02-25T06:24:13.675609Z",
          "iopub.execute_input": "2024-02-25T06:24:13.675828Z",
          "iopub.status.idle": "2024-02-25T06:24:13.890405Z",
          "shell.execute_reply.started": "2024-02-25T06:24:13.675805Z",
          "shell.execute_reply": "2024-02-25T06:24:13.889458Z"
        },
        "trusted": true,
        "id": "LhmO_9UU9FLq",
        "outputId": "0903e1a2-be64-4558-e499-86e43a3af2a5"
      },
      "execution_count": null,
      "outputs": [
        {
          "output_type": "display_data",
          "data": {
            "text/plain": "<Figure size 864x576 with 1 Axes>",
            "image/png": "[encoded data removed]"
          },
          "metadata": {
            "needs_background": "light"
          }
        }
      ]
    },
    {
      "cell_type": "code",
      "source": [
        "# We are just plotting histogram of ExAng\n",
        "\n",
        "X_train['ExAng'].hist(figsize=(12,8),bins=50)\n",
        "plt.show()"
      ],
      "metadata": {
        "execution": {
          "iopub.status.busy": "2024-02-25T06:24:13.891327Z",
          "iopub.execute_input": "2024-02-25T06:24:13.891545Z",
          "iopub.status.idle": "2024-02-25T06:24:14.097756Z",
          "shell.execute_reply.started": "2024-02-25T06:24:13.891522Z",
          "shell.execute_reply": "2024-02-25T06:24:14.096708Z"
        },
        "trusted": true,
        "id": "BZDZgyE49FLq",
        "outputId": "13c88879-0785-4b17-a7ec-f963c59e3a7d"
      },
      "execution_count": null,
      "outputs": [
        {
          "output_type": "display_data",
          "data": {
            "text/plain": "<Figure size 864x576 with 1 Axes>",
            "image/png": "[encoded data removed]"
          },
          "metadata": {
            "needs_background": "light"
          }
        }
      ]
    },
    {
      "cell_type": "code",
      "source": [
        "# We are just plotting histogram of Oldpeak\n",
        "\n",
        "X_train['Oldpeak'].hist(figsize=(12,8),bins=50)\n",
        "plt.show()"
      ],
      "metadata": {
        "execution": {
          "iopub.status.busy": "2024-02-25T06:24:14.098871Z",
          "iopub.execute_input": "2024-02-25T06:24:14.099142Z",
          "iopub.status.idle": "2024-02-25T06:24:14.315415Z",
          "shell.execute_reply.started": "2024-02-25T06:24:14.099078Z",
          "shell.execute_reply": "2024-02-25T06:24:14.314418Z"
        },
        "trusted": true,
        "id": "2QMI0WlD9FLr",
        "outputId": "fce21150-3bbc-4153-fdc4-6045de579dd7"
      },
      "execution_count": null,
      "outputs": [
        {
          "output_type": "display_data",
          "data": {
            "text/plain": "<Figure size 864x576 with 1 Axes>",
            "image/png": "[encoded data removed]"
          },
          "metadata": {
            "needs_background": "light"
          }
        }
      ]
    },
    {
      "cell_type": "code",
      "source": [
        "# We are just plotting histogram of Slope\n",
        "\n",
        "X_train['Slope'].hist(figsize=(12,8),bins=50)\n",
        "plt.show()"
      ],
      "metadata": {
        "execution": {
          "iopub.status.busy": "2024-02-25T06:24:14.316503Z",
          "iopub.execute_input": "2024-02-25T06:24:14.316846Z",
          "iopub.status.idle": "2024-02-25T06:24:14.536882Z",
          "shell.execute_reply.started": "2024-02-25T06:24:14.316811Z",
          "shell.execute_reply": "2024-02-25T06:24:14.535940Z"
        },
        "trusted": true,
        "id": "Dm3pF6bZ9FLr",
        "outputId": "de2921e3-96b8-480b-e6ce-07121231b04e"
      },
      "execution_count": null,
      "outputs": [
        {
          "output_type": "display_data",
          "data": {
            "text/plain": "<Figure size 864x576 with 1 Axes>",
            "image/png": "[encoded data removed]"
          },
          "metadata": {
            "needs_background": "light"
          }
        }
      ]
    },
    {
      "cell_type": "code",
      "source": [
        "# We are just plotting histogram of Ca\n",
        "\n",
        "X_train['Ca'].hist(figsize=(12,8),bins=50)\n",
        "plt.show()"
      ],
      "metadata": {
        "execution": {
          "iopub.status.busy": "2024-02-25T06:24:14.538011Z",
          "iopub.execute_input": "2024-02-25T06:24:14.538257Z",
          "iopub.status.idle": "2024-02-25T06:24:14.952212Z",
          "shell.execute_reply.started": "2024-02-25T06:24:14.538231Z",
          "shell.execute_reply": "2024-02-25T06:24:14.950797Z"
        },
        "trusted": true,
        "id": "tLZcMRzy9FLs",
        "outputId": "57840d93-6252-433b-98e0-393ea778ef09"
      },
      "execution_count": null,
      "outputs": [
        {
          "output_type": "display_data",
          "data": {
            "text/plain": "<Figure size 864x576 with 1 Axes>",
            "image/png": "[encoded data removed]"
          },
          "metadata": {
            "needs_background": "light"
          }
        }
      ]
    },
    {
      "cell_type": "code",
      "source": [
        "# We are just plotting histogram of Thal\n",
        "\n",
        "X_train['Thal'].hist(figsize=(12,8),bins=50)\n",
        "plt.show()"
      ],
      "metadata": {
        "execution": {
          "iopub.status.busy": "2024-02-25T06:24:14.953293Z",
          "iopub.execute_input": "2024-02-25T06:24:14.953618Z",
          "iopub.status.idle": "2024-02-25T06:24:15.154419Z",
          "shell.execute_reply.started": "2024-02-25T06:24:14.953581Z",
          "shell.execute_reply": "2024-02-25T06:24:15.153065Z"
        },
        "trusted": true,
        "id": "H3un3M4u9FLs",
        "outputId": "79c34525-005a-42fe-9551-fc626ca11ae7"
      },
      "execution_count": null,
      "outputs": [
        {
          "output_type": "display_data",
          "data": {
            "text/plain": "<Figure size 864x576 with 1 Axes>",
            "image/png": "[encoded data removed]"
          },
          "metadata": {
            "needs_background": "light"
          }
        }
      ]
    },
    {
      "cell_type": "markdown",
      "source": [
        "### Note we have not added AHD because its out targat variable"
      ],
      "metadata": {
        "id": "6DsQrZxT9FLs"
      }
    },
    {
      "cell_type": "code",
      "source": [
        "# Instead of Writing all the histogram seprately we can use\n",
        "\n",
        "X_train.hist(figsize=(12,8),bins=50)\n",
        "plt.show()"
      ],
      "metadata": {
        "execution": {
          "iopub.status.busy": "2024-02-25T06:24:15.155764Z",
          "iopub.execute_input": "2024-02-25T06:24:15.156085Z",
          "iopub.status.idle": "2024-02-25T06:24:17.212296Z",
          "shell.execute_reply.started": "2024-02-25T06:24:15.156050Z",
          "shell.execute_reply": "2024-02-25T06:24:17.211512Z"
        },
        "trusted": true,
        "id": "j1WhCaG89FLs",
        "outputId": "00904d1c-af97-49cd-a2cd-af0348268b34"
      },
      "execution_count": null,
      "outputs": [
        {
          "output_type": "display_data",
          "data": {
            "text/plain": "<Figure size 864x576 with 16 Axes>",
            "image/png": "[encoded data removed]"
          },
          "metadata": {
            "needs_background": "light"
          }
        }
      ]
    },
    {
      "cell_type": "markdown",
      "source": [
        "<a name='md'></a>\n",
        "# Model Building"
      ],
      "metadata": {
        "id": "tOZ8lXzj9FLt"
      }
    },
    {
      "cell_type": "code",
      "source": [
        "# Creating instance of LogisticRegression\n",
        "\n",
        "model=LogisticRegression(solver='liblinear')"
      ],
      "metadata": {
        "execution": {
          "iopub.status.busy": "2024-02-25T06:24:17.213589Z",
          "iopub.execute_input": "2024-02-25T06:24:17.213823Z",
          "iopub.status.idle": "2024-02-25T06:24:17.218047Z",
          "shell.execute_reply.started": "2024-02-25T06:24:17.213799Z",
          "shell.execute_reply": "2024-02-25T06:24:17.216977Z"
        },
        "trusted": true,
        "id": "3_Nhz7X29FLt"
      },
      "execution_count": null,
      "outputs": []
    },
    {
      "cell_type": "code",
      "source": [
        "# Fitting the data in the logistic Regression (Ignore Waring)\n",
        "\n",
        "model.fit(X_train,y_train)"
      ],
      "metadata": {
        "scrolled": true,
        "execution": {
          "iopub.status.busy": "2024-02-25T06:24:17.219174Z",
          "iopub.execute_input": "2024-02-25T06:24:17.219505Z",
          "iopub.status.idle": "2024-02-25T06:24:17.355710Z",
          "shell.execute_reply.started": "2024-02-25T06:24:17.219473Z",
          "shell.execute_reply": "2024-02-25T06:24:17.355149Z"
        },
        "trusted": true,
        "id": "k3d2a9H19FLt",
        "outputId": "eb4c5c27-93a3-48ac-96bf-311c7c795c8b"
      },
      "execution_count": null,
      "outputs": [
        {
          "execution_count": 67,
          "output_type": "execute_result",
          "data": {
            "text/plain": "LogisticRegression(solver='liblinear')"
          },
          "metadata": {}
        }
      ]
    },
    {
      "cell_type": "code",
      "source": [
        "import joblib\n",
        "\n",
        "# Save the model to a file\n",
        "joblib.dump(model, 'logisticRegressionModel.joblib')"
      ],
      "metadata": {
        "execution": {
          "iopub.status.busy": "2024-02-25T06:24:17.356731Z",
          "iopub.execute_input": "2024-02-25T06:24:17.357106Z",
          "iopub.status.idle": "2024-02-25T06:24:17.364600Z",
          "shell.execute_reply.started": "2024-02-25T06:24:17.357079Z",
          "shell.execute_reply": "2024-02-25T06:24:17.363630Z"
        },
        "trusted": true,
        "id": "G06So-5x9FLt",
        "outputId": "ed697f25-2cbd-41d1-f461-02c3d149184c"
      },
      "execution_count": null,
      "outputs": [
        {
          "execution_count": 68,
          "output_type": "execute_result",
          "data": {
            "text/plain": "['logisticRegressionModel.joblib']"
          },
          "metadata": {}
        }
      ]
    },
    {
      "cell_type": "markdown",
      "source": [
        "<a name='me'></a>\n",
        "# Model Evaluation"
      ],
      "metadata": {
        "id": "20obJhmP9FLt"
      }
    },
    {
      "cell_type": "code",
      "source": [
        "# As we Created out model Lets test it\n",
        "#We will fing Accuracy on training data\n",
        "\n",
        "X_train_predict=model.predict(X_train)\n",
        "\n",
        "training_data_acc=accuracy_score(X_train_predict,y_train)\n",
        "\n",
        "print('acc score=',training_data_acc)\n"
      ],
      "metadata": {
        "execution": {
          "iopub.status.busy": "2024-02-25T06:24:17.365938Z",
          "iopub.execute_input": "2024-02-25T06:24:17.366290Z",
          "iopub.status.idle": "2024-02-25T06:24:17.377523Z",
          "shell.execute_reply.started": "2024-02-25T06:24:17.366259Z",
          "shell.execute_reply": "2024-02-25T06:24:17.376572Z"
        },
        "trusted": true,
        "id": "a3o0bin69FLu",
        "outputId": "2083f00b-5cfa-4252-8650-6ed10b1bf56a"
      },
      "execution_count": null,
      "outputs": [
        {
          "name": "stdout",
          "text": "acc score= 0.859504132231405\n",
          "output_type": "stream"
        }
      ]
    },
    {
      "cell_type": "code",
      "source": [
        "# Accuracy on testing data\n",
        "\n",
        "X_test_predict=model.predict(X_test)\n",
        "\n",
        "testing_data_acc=accuracy_score(X_test_predict,y_test)\n",
        "\n",
        "print('acc score=',testing_data_acc)"
      ],
      "metadata": {
        "execution": {
          "iopub.status.busy": "2024-02-25T06:24:17.378444Z",
          "iopub.execute_input": "2024-02-25T06:24:17.378690Z",
          "iopub.status.idle": "2024-02-25T06:24:17.390362Z",
          "shell.execute_reply.started": "2024-02-25T06:24:17.378663Z",
          "shell.execute_reply": "2024-02-25T06:24:17.389459Z"
        },
        "trusted": true,
        "id": "qvcjU53a9FLu",
        "outputId": "1a63b546-371b-42a6-c738-67cf957a1f5a"
      },
      "execution_count": null,
      "outputs": [
        {
          "name": "stdout",
          "text": "acc score= 0.8360655737704918\n",
          "output_type": "stream"
        }
      ]
    },
    {
      "cell_type": "code",
      "source": [
        "from sklearn.metrics import confusion_matrix\n",
        "confusion_matrix(X_test_predict,y_test)"
      ],
      "metadata": {
        "execution": {
          "iopub.status.busy": "2024-02-25T06:24:17.391365Z",
          "iopub.execute_input": "2024-02-25T06:24:17.391635Z",
          "iopub.status.idle": "2024-02-25T06:24:17.407817Z",
          "shell.execute_reply.started": "2024-02-25T06:24:17.391607Z",
          "shell.execute_reply": "2024-02-25T06:24:17.407080Z"
        },
        "trusted": true,
        "id": "tSjJAgBB9FLu",
        "outputId": "7f7df63b-f892-4bbe-8f97-bad575451081"
      },
      "execution_count": null,
      "outputs": [
        {
          "execution_count": 71,
          "output_type": "execute_result",
          "data": {
            "text/plain": "array([[29,  6],\n       [ 4, 22]])"
          },
          "metadata": {}
        }
      ]
    },
    {
      "cell_type": "code",
      "source": [
        "from sklearn.metrics import plot_confusion_matrix\n",
        "plot_confusion_matrix(model, X_test, y_test)\n",
        "plt.show()"
      ],
      "metadata": {
        "execution": {
          "iopub.status.busy": "2024-02-25T06:24:17.409102Z",
          "iopub.execute_input": "2024-02-25T06:24:17.409531Z",
          "iopub.status.idle": "2024-02-25T06:24:17.551390Z",
          "shell.execute_reply.started": "2024-02-25T06:24:17.409493Z",
          "shell.execute_reply": "2024-02-25T06:24:17.550604Z"
        },
        "trusted": true,
        "id": "dpcUXkmK9FLv",
        "outputId": "9356b902-a8ec-4e2d-be9f-f21145dc3a0c"
      },
      "execution_count": null,
      "outputs": [
        {
          "output_type": "display_data",
          "data": {
            "text/plain": "<Figure size 432x288 with 2 Axes>",
            "image/png": "[encoded data removed]"
          },
          "metadata": {
            "needs_background": "light"
          }
        }
      ]
    },
    {
      "cell_type": "code",
      "source": [
        "from sklearn.metrics import plot_roc_curve\n",
        "plot_roc_curve(model, X_test, y_test)\n",
        "plt.show()"
      ],
      "metadata": {
        "execution": {
          "iopub.status.busy": "2024-02-25T06:24:17.552397Z",
          "iopub.execute_input": "2024-02-25T06:24:17.552649Z",
          "iopub.status.idle": "2024-02-25T06:24:17.682691Z",
          "shell.execute_reply.started": "2024-02-25T06:24:17.552619Z",
          "shell.execute_reply": "2024-02-25T06:24:17.681520Z"
        },
        "trusted": true,
        "id": "l8DI0P9d9FLv",
        "outputId": "01e84952-7552-4453-8f27-858255291c86"
      },
      "execution_count": null,
      "outputs": [
        {
          "output_type": "display_data",
          "data": {
            "text/plain": "<Figure size 432x288 with 1 Axes>",
            "image/png": "[encoded data removed]"
          },
          "metadata": {
            "needs_background": "light"
          }
        }
      ]
    },
    {
      "cell_type": "code",
      "source": [
        "from sklearn.metrics import classification_report\n",
        "print(classification_report(X_test_predict,y_test))"
      ],
      "metadata": {
        "execution": {
          "iopub.status.busy": "2024-02-25T06:24:17.683810Z",
          "iopub.execute_input": "2024-02-25T06:24:17.684084Z",
          "iopub.status.idle": "2024-02-25T06:24:17.695599Z",
          "shell.execute_reply.started": "2024-02-25T06:24:17.684051Z",
          "shell.execute_reply": "2024-02-25T06:24:17.694481Z"
        },
        "trusted": true,
        "id": "i678np1T9FLw",
        "outputId": "47eed60e-bec8-43dd-cf73-a421d3d7dd68"
      },
      "execution_count": null,
      "outputs": [
        {
          "name": "stdout",
          "text": "              precision    recall  f1-score   support\n\n           0       0.88      0.83      0.85        35\n           1       0.79      0.85      0.81        26\n\n    accuracy                           0.84        61\n   macro avg       0.83      0.84      0.83        61\nweighted avg       0.84      0.84      0.84        61\n\n",
          "output_type": "stream"
        }
      ]
    },
    {
      "cell_type": "markdown",
      "source": [
        "<a name='bp'></a>\n",
        "# Building Predictive System (optional)"
      ],
      "metadata": {
        "id": "5w-2Ireg9FLw"
      }
    },
    {
      "cell_type": "code",
      "source": [
        "# Here we take one custom or from testing set input and test whether the person has heart disease or not\n",
        "\n",
        "#input_data=(41,0,2,130,204,0,2,172,0,1.4,1,0.0,1.0)\n",
        "\n",
        "input_data=(68,1,4,144,193,1,0,141,0,3.4,2,2.0,3.0)\n",
        "\n",
        "\n",
        "#changing input tuple to numpy array\n",
        "\n",
        "data=np.asarray(input_data)\n",
        "\n",
        "\n",
        "#reshaping the numpy array as we are predicting for only  on instance\n",
        "\n",
        "new_data=data.reshape(1,-1)\n",
        "\n",
        "\n",
        "# predicting on new data\n",
        "\n",
        "new_predict=model.predict(new_data)\n",
        "\n",
        "# Printing predicting value\n",
        "\n",
        "#print(new_predict)\n",
        "\n",
        "\n",
        "if(new_predict[0]==0):\n",
        "\n",
        "    print('The Person does not have Heart Disease')\n",
        "\n",
        "else:\n",
        "\n",
        "    print(\"The Person have Heart Disease\")\n"
      ],
      "metadata": {
        "execution": {
          "iopub.status.busy": "2024-02-25T06:24:17.697024Z",
          "iopub.execute_input": "2024-02-25T06:24:17.697280Z",
          "iopub.status.idle": "2024-02-25T06:24:17.705149Z",
          "shell.execute_reply.started": "2024-02-25T06:24:17.697254Z",
          "shell.execute_reply": "2024-02-25T06:24:17.704069Z"
        },
        "trusted": true,
        "id": "cEQXWAjJ9FLw",
        "outputId": "acfe982c-f9a7-4b61-bd1e-980d9e5bfc45"
      },
      "execution_count": null,
      "outputs": [
        {
          "name": "stdout",
          "text": "The Person have Heart Disease\n",
          "output_type": "stream"
        }
      ]
    },
    {
      "cell_type": "markdown",
      "source": [
        "<a name='c'></a>\n",
        "# Conclusion"
      ],
      "metadata": {
        "id": "RZ82-enm9FLx"
      }
    },
    {
      "cell_type": "markdown",
      "source": [
        "### This Algorithm performed well,\n",
        "\n",
        "### Here we had only 303 rows, it very less data to train a model on  then too our model performed uite well we achieved above 85% accuracy on trainig data and 83% in testing data without getting overfitted\n",
        "\n",
        "### Logistic regression provides a useful means for modelling the dependence of a binary response variable on one or more explanatory variables, where the latter can be either categorical or continuous. The fit of the resulting model can be assessed using a number of methods.\n",
        "\n",
        "### We created custom input and tested it, in Building Predictive System section it also worked properly.\n",
        "\n",
        "### Thats it we are done with Logistic Regression Algorithm.....!!!"
      ],
      "metadata": {
        "id": "EUR5vPfh9FLx"
      }
    }
  ]
}